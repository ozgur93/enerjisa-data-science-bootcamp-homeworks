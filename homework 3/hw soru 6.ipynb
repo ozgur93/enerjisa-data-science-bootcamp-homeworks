{
 "cells": [
  {
   "cell_type": "markdown",
   "id": "30fc15aa",
   "metadata": {},
   "source": [
    "## Soru 6"
   ]
  },
  {
   "cell_type": "markdown",
   "id": "591390c1",
   "metadata": {},
   "source": [
    "**Soru:** Fraud case'i üzerinde train&test&validation split, encoding, scaling,modelleme çalışmaları Python'da yapılarak, modelin görmediği dataset üzerinde başarılı sonuç alacak bir model örneği yapılmalı."
   ]
  },
  {
   "cell_type": "code",
   "execution_count": 1,
   "id": "796056f1",
   "metadata": {},
   "outputs": [],
   "source": [
    "# Kütüphane yüklemeleri ve derste yapılan temel ön işlemleri kopyalayarak başlıyorum\n",
    "import pandas as pd\n",
    "import numpy as np\n",
    "import datetime as dt\n",
    "import plotly.express as px\n",
    "import plotly.graph_objects as go\n",
    "\n",
    "\n",
    "#for quick viz\n",
    "import seaborn as sns\n",
    "\n",
    "#ml\n",
    "from sklearn.model_selection import train_test_split\n",
    "from sklearn.linear_model import LogisticRegression\n",
    "from sklearn.metrics import classification_report\n",
    "from sklearn.tree import DecisionTreeClassifier\n",
    "from sklearn.metrics import accuracy_score\n",
    "from sklearn.model_selection import GridSearchCV\n",
    "from sklearn.svm import SVC\n",
    "from sklearn.metrics import confusion_matrix\n",
    "\n",
    "from imblearn.over_sampling import SMOTE\n",
    "from imblearn.under_sampling import RandomUnderSampler\n",
    "from imblearn.pipeline import Pipeline\n",
    "from sklearn.ensemble import RandomForestClassifier\n",
    "from sklearn.preprocessing import LabelEncoder\n",
    "import random"
   ]
  },
  {
   "cell_type": "code",
   "execution_count": 2,
   "id": "dc8c5b77",
   "metadata": {},
   "outputs": [
    {
     "name": "stderr",
     "output_type": "stream",
     "text": [
      "<ipython-input-2-c0d31427e599>:18: FutureWarning: The default value of regex will change from True to False in a future version.\n",
      "  df['umbrella_limit'] = df['umbrella_limit'].str.replace(umb, 'other')\n"
     ]
    }
   ],
   "source": [
    "df = pd.read_csv('auto_insurance_csv.csv')\n",
    "df = df.drop(['_c39','Unnamed: 0'], axis = 1)\n",
    "df['umbrella_limit'] = df.umbrella_limit.fillna(\"9999\")\n",
    "df['police_report_available'] = df.police_report_available.fillna(\"MISSING\")\n",
    "df['policy_csl'] = df.policy_csl.fillna(\"MISSING\")\n",
    "df['policy_bind_date'] = pd.to_datetime(df['policy_bind_date'])\n",
    "df['incident_date'] = pd.to_datetime(df['incident_date'])\n",
    "df['claim_day_of_policy'] = (df.incident_date -  df.policy_bind_date).dt.days\n",
    "df['location_check'] = np.nan\n",
    "df['location_check'] = np.where(df['policy_state'] == df['incident_state'], True, False)\n",
    "df['fraud_reported'] = df['fraud_reported'].str.replace('Y', '1')\n",
    "df['fraud_reported'] = df['fraud_reported'].str.replace('N', '0')\n",
    "df['fraud_reported'] = df['fraud_reported'].astype(int)\n",
    "df['umbrella_limit'] = df.umbrella_limit.astype(str)\n",
    "umbrealla = df['umbrella_limit'].unique()\n",
    "for umb in umbrealla:\n",
    "  if (umb != '0.0') & (umb != '9999'):\n",
    "    df['umbrella_limit'] = df['umbrella_limit'].str.replace(umb, 'other')\n",
    "    \n",
    "hobbies = df['insured_hobbies'].unique()\n",
    "for hobby in hobbies:\n",
    "  if (hobby != 'chess') & (hobby != 'cross-fit'):\n",
    "    df['insured_hobbies'] = df['insured_hobbies'].str.replace(hobby, 'other')\n",
    "\n",
    "df['age'] = df.age.fillna(9999)\n",
    "bin_labels = ['15-20', '21-25', '26-30', '31-35', '36-40', '41-45', '46-50', '51-55', '56-60', '61-65','9999']\n",
    "bins = [15, 20, 25, 30, 35, 40, 45, 50, 55, 60, 65, 9999]\n",
    "\n",
    "df['age_group'] = pd.cut(df['age'], bins = bins, labels = bin_labels, include_lowest = True)\n",
    "bins = [0, 50, 100, 150, 200, 250, 300, 350, 400, 450, 500]\n",
    "bin_labels = ['0-50','51-100','101-150','151-200','201-250','251-300','301-350','351-400','401-450','451-500']\n",
    "\n",
    "df['months_as_customer_groups'] = pd.cut(df['months_as_customer'], bins = 10, labels = bin_labels, include_lowest= True)\n",
    "bins = list(np.linspace(0,2500, 6, dtype = int))\n",
    "bin_labels = ['very low', 'low', 'medium', 'high', 'very high']\n",
    "\n",
    "df['policy_annual_premium_groups'] = pd.cut(df['policy_annual_premium'], bins = bins, labels=bin_labels)\n",
    "bins = list(np.linspace(0,2000, 5, dtype = int))\n",
    "bin_labels = ['0-500', '501-1000', '1001-1500', '1501-2000']\n",
    "\n",
    "df['policy_deductable_group'] = pd.cut(df['policy_deductable'], bins = bins, labels = bin_labels)\n",
    "\n",
    "df = df.drop(['age', 'months_as_customer', 'policy_deductable', 'policy_annual_premium'], axis = 1)\n",
    "required_columns = ['incident_date','policy_state', 'policy_csl', 'umbrella_limit',\n",
    "       'insured_zip', 'insured_sex', 'insured_education_level',\n",
    "       'insured_occupation', 'insured_hobbies', 'insured_relationship',\n",
    "       'capital-gains', 'capital-loss', 'incident_type', 'collision_type',\n",
    "       'incident_severity', 'authorities_contacted', 'incident_state',\n",
    "       'incident_city', 'incident_location', 'incident_hour_of_the_day',\n",
    "       'number_of_vehicles_involved', 'property_damage', 'bodily_injuries',\n",
    "       'witnesses', 'police_report_available', 'total_claim_amount','auto_make',\n",
    "       'auto_model', 'auto_year', 'claim_day_of_policy',\n",
    "       'location_check', 'age_group', 'months_as_customer_groups',\n",
    "       'policy_annual_premium_groups', 'policy_deductable_group', 'fraud_reported']\n",
    "df1 = df[required_columns]"
   ]
  },
  {
   "cell_type": "code",
   "execution_count": 3,
   "id": "8fcfabd2",
   "metadata": {},
   "outputs": [
    {
     "data": {
      "text/plain": [
       "1000"
      ]
     },
     "execution_count": 3,
     "metadata": {},
     "output_type": "execute_result"
    }
   ],
   "source": [
    "# bu kolon her satırda farklı bir kategorik değişken oluşturduğu için işimize yaramaz\n",
    "df1[\"incident_location\"].nunique()"
   ]
  },
  {
   "cell_type": "code",
   "execution_count": 4,
   "id": "3a37e64b",
   "metadata": {},
   "outputs": [
    {
     "data": {
      "text/plain": [
       "995"
      ]
     },
     "execution_count": 4,
     "metadata": {},
     "output_type": "execute_result"
    }
   ],
   "source": [
    "# bu kolon identifier gibi bir şey olduğu için pek işimize yaramaz\n",
    "df1[\"insured_zip\"].nunique()"
   ]
  },
  {
   "cell_type": "code",
   "execution_count": 5,
   "id": "af43b6be",
   "metadata": {},
   "outputs": [],
   "source": [
    "# yukarda bahsettiğim 2 kolonu dropladım\n",
    "df1 = df1.drop([\"incident_location\", \"insured_zip\"], axis = 1)"
   ]
  },
  {
   "cell_type": "code",
   "execution_count": 6,
   "id": "10dd7ad9",
   "metadata": {},
   "outputs": [
    {
     "data": {
      "text/html": [
       "<div>\n",
       "<style scoped>\n",
       "    .dataframe tbody tr th:only-of-type {\n",
       "        vertical-align: middle;\n",
       "    }\n",
       "\n",
       "    .dataframe tbody tr th {\n",
       "        vertical-align: top;\n",
       "    }\n",
       "\n",
       "    .dataframe thead th {\n",
       "        text-align: right;\n",
       "    }\n",
       "</style>\n",
       "<table border=\"1\" class=\"dataframe\">\n",
       "  <thead>\n",
       "    <tr style=\"text-align: right;\">\n",
       "      <th></th>\n",
       "      <th>incident_date</th>\n",
       "      <th>policy_state</th>\n",
       "      <th>policy_csl</th>\n",
       "      <th>umbrella_limit</th>\n",
       "      <th>insured_sex</th>\n",
       "      <th>insured_education_level</th>\n",
       "      <th>insured_occupation</th>\n",
       "      <th>insured_hobbies</th>\n",
       "      <th>insured_relationship</th>\n",
       "      <th>capital-gains</th>\n",
       "      <th>...</th>\n",
       "      <th>auto_make</th>\n",
       "      <th>auto_model</th>\n",
       "      <th>auto_year</th>\n",
       "      <th>claim_day_of_policy</th>\n",
       "      <th>location_check</th>\n",
       "      <th>age_group</th>\n",
       "      <th>months_as_customer_groups</th>\n",
       "      <th>policy_annual_premium_groups</th>\n",
       "      <th>policy_deductable_group</th>\n",
       "      <th>fraud_reported</th>\n",
       "    </tr>\n",
       "  </thead>\n",
       "  <tbody>\n",
       "    <tr>\n",
       "      <th>0</th>\n",
       "      <td>2015-01-25</td>\n",
       "      <td>OH</td>\n",
       "      <td>250/500</td>\n",
       "      <td>0.0</td>\n",
       "      <td>MALE</td>\n",
       "      <td>MD</td>\n",
       "      <td>craft-repair</td>\n",
       "      <td>other</td>\n",
       "      <td>husband</td>\n",
       "      <td>53300</td>\n",
       "      <td>...</td>\n",
       "      <td>Saab</td>\n",
       "      <td>92x</td>\n",
       "      <td>2004</td>\n",
       "      <td>100</td>\n",
       "      <td>False</td>\n",
       "      <td>46-50</td>\n",
       "      <td>301-350</td>\n",
       "      <td>medium</td>\n",
       "      <td>501-1000</td>\n",
       "      <td>1</td>\n",
       "    </tr>\n",
       "    <tr>\n",
       "      <th>1</th>\n",
       "      <td>2015-01-21</td>\n",
       "      <td>IN</td>\n",
       "      <td>250/500</td>\n",
       "      <td>other</td>\n",
       "      <td>MALE</td>\n",
       "      <td>MD</td>\n",
       "      <td>machine-op-inspct</td>\n",
       "      <td>other</td>\n",
       "      <td>other-relative</td>\n",
       "      <td>0</td>\n",
       "      <td>...</td>\n",
       "      <td>Mercedes</td>\n",
       "      <td>E400</td>\n",
       "      <td>2007</td>\n",
       "      <td>3130</td>\n",
       "      <td>False</td>\n",
       "      <td>41-45</td>\n",
       "      <td>201-250</td>\n",
       "      <td>medium</td>\n",
       "      <td>1501-2000</td>\n",
       "      <td>1</td>\n",
       "    </tr>\n",
       "    <tr>\n",
       "      <th>2</th>\n",
       "      <td>2015-02-22</td>\n",
       "      <td>OH</td>\n",
       "      <td>MISSING</td>\n",
       "      <td>other</td>\n",
       "      <td>FEMALE</td>\n",
       "      <td>PhD</td>\n",
       "      <td>sales</td>\n",
       "      <td>other</td>\n",
       "      <td>own-child</td>\n",
       "      <td>35100</td>\n",
       "      <td>...</td>\n",
       "      <td>Dodge</td>\n",
       "      <td>RAM</td>\n",
       "      <td>2007</td>\n",
       "      <td>5282</td>\n",
       "      <td>False</td>\n",
       "      <td>26-30</td>\n",
       "      <td>101-150</td>\n",
       "      <td>medium</td>\n",
       "      <td>1501-2000</td>\n",
       "      <td>0</td>\n",
       "    </tr>\n",
       "    <tr>\n",
       "      <th>3</th>\n",
       "      <td>2015-01-10</td>\n",
       "      <td>IL</td>\n",
       "      <td>MISSING</td>\n",
       "      <td>other</td>\n",
       "      <td>FEMALE</td>\n",
       "      <td>PhD</td>\n",
       "      <td>armed-forces</td>\n",
       "      <td>other</td>\n",
       "      <td>unmarried</td>\n",
       "      <td>48900</td>\n",
       "      <td>...</td>\n",
       "      <td>Chevrolet</td>\n",
       "      <td>Tahoe</td>\n",
       "      <td>2014</td>\n",
       "      <td>8996</td>\n",
       "      <td>False</td>\n",
       "      <td>41-45</td>\n",
       "      <td>251-300</td>\n",
       "      <td>medium</td>\n",
       "      <td>1501-2000</td>\n",
       "      <td>1</td>\n",
       "    </tr>\n",
       "    <tr>\n",
       "      <th>4</th>\n",
       "      <td>2015-02-17</td>\n",
       "      <td>IL</td>\n",
       "      <td>MISSING</td>\n",
       "      <td>other</td>\n",
       "      <td>MALE</td>\n",
       "      <td>Associate</td>\n",
       "      <td>sales</td>\n",
       "      <td>other</td>\n",
       "      <td>unmarried</td>\n",
       "      <td>66000</td>\n",
       "      <td>...</td>\n",
       "      <td>Accura</td>\n",
       "      <td>RSX</td>\n",
       "      <td>2009</td>\n",
       "      <td>256</td>\n",
       "      <td>False</td>\n",
       "      <td>41-45</td>\n",
       "      <td>201-250</td>\n",
       "      <td>high</td>\n",
       "      <td>501-1000</td>\n",
       "      <td>0</td>\n",
       "    </tr>\n",
       "  </tbody>\n",
       "</table>\n",
       "<p>5 rows × 34 columns</p>\n",
       "</div>"
      ],
      "text/plain": [
       "  incident_date policy_state policy_csl umbrella_limit insured_sex  \\\n",
       "0    2015-01-25           OH    250/500            0.0        MALE   \n",
       "1    2015-01-21           IN    250/500          other        MALE   \n",
       "2    2015-02-22           OH    MISSING          other      FEMALE   \n",
       "3    2015-01-10           IL    MISSING          other      FEMALE   \n",
       "4    2015-02-17           IL    MISSING          other        MALE   \n",
       "\n",
       "  insured_education_level insured_occupation insured_hobbies  \\\n",
       "0                      MD       craft-repair           other   \n",
       "1                      MD  machine-op-inspct           other   \n",
       "2                     PhD              sales           other   \n",
       "3                     PhD       armed-forces           other   \n",
       "4               Associate              sales           other   \n",
       "\n",
       "  insured_relationship  capital-gains  ...  auto_make auto_model auto_year  \\\n",
       "0              husband          53300  ...       Saab        92x      2004   \n",
       "1       other-relative              0  ...   Mercedes       E400      2007   \n",
       "2            own-child          35100  ...      Dodge        RAM      2007   \n",
       "3            unmarried          48900  ...  Chevrolet      Tahoe      2014   \n",
       "4            unmarried          66000  ...     Accura        RSX      2009   \n",
       "\n",
       "  claim_day_of_policy location_check age_group months_as_customer_groups  \\\n",
       "0                 100          False     46-50                   301-350   \n",
       "1                3130          False     41-45                   201-250   \n",
       "2                5282          False     26-30                   101-150   \n",
       "3                8996          False     41-45                   251-300   \n",
       "4                 256          False     41-45                   201-250   \n",
       "\n",
       "   policy_annual_premium_groups  policy_deductable_group fraud_reported  \n",
       "0                        medium                 501-1000              1  \n",
       "1                        medium                1501-2000              1  \n",
       "2                        medium                1501-2000              0  \n",
       "3                        medium                1501-2000              1  \n",
       "4                          high                 501-1000              0  \n",
       "\n",
       "[5 rows x 34 columns]"
      ]
     },
     "execution_count": 6,
     "metadata": {},
     "output_type": "execute_result"
    }
   ],
   "source": [
    "df1.head()"
   ]
  },
  {
   "cell_type": "code",
   "execution_count": 7,
   "id": "36d302ec",
   "metadata": {},
   "outputs": [],
   "source": [
    "# gruplama yaparak oluşturduğumuz kolonları object tipine çevirdim\n",
    "new_cat_cols = ['age_group', 'months_as_customer_groups', 'policy_annual_premium_groups','location_check','policy_deductable_group']\n",
    "for col in new_cat_cols:\n",
    "  df1[col] = df1[col].astype('object')"
   ]
  },
  {
   "cell_type": "code",
   "execution_count": 8,
   "id": "b9894b8d",
   "metadata": {},
   "outputs": [
    {
     "data": {
      "text/plain": [
       "MISSING     873\n",
       "100/300      44\n",
       "250/500      43\n",
       "500/1000     40\n",
       "Name: policy_csl, dtype: int64"
      ]
     },
     "execution_count": 8,
     "metadata": {},
     "output_type": "execute_result"
    }
   ],
   "source": [
    "# %87 boş değer içerdiği için silmeye karar verdim \n",
    "df1[\"policy_csl\"].value_counts()"
   ]
  },
  {
   "cell_type": "code",
   "execution_count": 9,
   "id": "fd327bc1",
   "metadata": {},
   "outputs": [],
   "source": [
    "df1 = df1.drop([\"policy_csl\"],axis=1)"
   ]
  },
  {
   "cell_type": "code",
   "execution_count": 10,
   "id": "8efa1714",
   "metadata": {},
   "outputs": [
    {
     "name": "stdout",
     "output_type": "stream",
     "text": [
      "<class 'pandas.core.frame.DataFrame'>\n",
      "RangeIndex: 1000 entries, 0 to 999\n",
      "Data columns (total 33 columns):\n",
      " #   Column                        Non-Null Count  Dtype         \n",
      "---  ------                        --------------  -----         \n",
      " 0   incident_date                 1000 non-null   datetime64[ns]\n",
      " 1   policy_state                  1000 non-null   object        \n",
      " 2   umbrella_limit                1000 non-null   object        \n",
      " 3   insured_sex                   1000 non-null   object        \n",
      " 4   insured_education_level       1000 non-null   object        \n",
      " 5   insured_occupation            1000 non-null   object        \n",
      " 6   insured_hobbies               1000 non-null   object        \n",
      " 7   insured_relationship          1000 non-null   object        \n",
      " 8   capital-gains                 1000 non-null   int64         \n",
      " 9   capital-loss                  1000 non-null   int64         \n",
      " 10  incident_type                 1000 non-null   object        \n",
      " 11  collision_type                1000 non-null   object        \n",
      " 12  incident_severity             1000 non-null   object        \n",
      " 13  authorities_contacted         1000 non-null   object        \n",
      " 14  incident_state                1000 non-null   object        \n",
      " 15  incident_city                 1000 non-null   object        \n",
      " 16  incident_hour_of_the_day      1000 non-null   int64         \n",
      " 17  number_of_vehicles_involved   1000 non-null   int64         \n",
      " 18  property_damage               1000 non-null   object        \n",
      " 19  bodily_injuries               1000 non-null   int64         \n",
      " 20  witnesses                     1000 non-null   int64         \n",
      " 21  police_report_available       1000 non-null   object        \n",
      " 22  total_claim_amount            1000 non-null   int64         \n",
      " 23  auto_make                     1000 non-null   object        \n",
      " 24  auto_model                    1000 non-null   object        \n",
      " 25  auto_year                     1000 non-null   int64         \n",
      " 26  claim_day_of_policy           1000 non-null   int64         \n",
      " 27  location_check                1000 non-null   object        \n",
      " 28  age_group                     1000 non-null   object        \n",
      " 29  months_as_customer_groups     1000 non-null   object        \n",
      " 30  policy_annual_premium_groups  1000 non-null   object        \n",
      " 31  policy_deductable_group       1000 non-null   object        \n",
      " 32  fraud_reported                1000 non-null   int32         \n",
      "dtypes: datetime64[ns](1), int32(1), int64(9), object(22)\n",
      "memory usage: 254.0+ KB\n"
     ]
    }
   ],
   "source": [
    "df1.info()"
   ]
  },
  {
   "cell_type": "code",
   "execution_count": 11,
   "id": "26fb9f09",
   "metadata": {},
   "outputs": [
    {
     "data": {
      "text/plain": [
       "['policy_state',\n",
       " 'umbrella_limit',\n",
       " 'insured_sex',\n",
       " 'insured_education_level',\n",
       " 'insured_occupation',\n",
       " 'insured_hobbies',\n",
       " 'insured_relationship',\n",
       " 'incident_type',\n",
       " 'collision_type',\n",
       " 'incident_severity',\n",
       " 'authorities_contacted',\n",
       " 'incident_state',\n",
       " 'incident_city',\n",
       " 'property_damage',\n",
       " 'police_report_available',\n",
       " 'auto_make',\n",
       " 'auto_model',\n",
       " 'location_check',\n",
       " 'age_group',\n",
       " 'months_as_customer_groups',\n",
       " 'policy_annual_premium_groups',\n",
       " 'policy_deductable_group']"
      ]
     },
     "execution_count": 11,
     "metadata": {},
     "output_type": "execute_result"
    }
   ],
   "source": [
    "# kategorik kolonları bir arada görmek istedim\n",
    "cat_cols = []\n",
    "for col in df1.columns:\n",
    "  if df1[col].dtype == 'object':\n",
    "    cat_cols.append(col)\n",
    "\n",
    "cat_cols"
   ]
  },
  {
   "cell_type": "code",
   "execution_count": 12,
   "id": "5015f41f",
   "metadata": {},
   "outputs": [
    {
     "data": {
      "text/html": [
       "<div>\n",
       "<style scoped>\n",
       "    .dataframe tbody tr th:only-of-type {\n",
       "        vertical-align: middle;\n",
       "    }\n",
       "\n",
       "    .dataframe tbody tr th {\n",
       "        vertical-align: top;\n",
       "    }\n",
       "\n",
       "    .dataframe thead th {\n",
       "        text-align: right;\n",
       "    }\n",
       "</style>\n",
       "<table border=\"1\" class=\"dataframe\">\n",
       "  <thead>\n",
       "    <tr style=\"text-align: right;\">\n",
       "      <th></th>\n",
       "      <th>policy_state</th>\n",
       "      <th>umbrella_limit</th>\n",
       "      <th>insured_sex</th>\n",
       "      <th>insured_education_level</th>\n",
       "      <th>insured_occupation</th>\n",
       "      <th>insured_hobbies</th>\n",
       "      <th>insured_relationship</th>\n",
       "      <th>incident_type</th>\n",
       "      <th>collision_type</th>\n",
       "      <th>incident_severity</th>\n",
       "      <th>authorities_contacted</th>\n",
       "      <th>incident_state</th>\n",
       "      <th>incident_city</th>\n",
       "      <th>property_damage</th>\n",
       "      <th>police_report_available</th>\n",
       "      <th>auto_make</th>\n",
       "      <th>auto_model</th>\n",
       "      <th>location_check</th>\n",
       "      <th>age_group</th>\n",
       "      <th>months_as_customer_groups</th>\n",
       "      <th>policy_annual_premium_groups</th>\n",
       "      <th>policy_deductable_group</th>\n",
       "    </tr>\n",
       "  </thead>\n",
       "  <tbody>\n",
       "    <tr>\n",
       "      <th>0</th>\n",
       "      <td>OH</td>\n",
       "      <td>0.0</td>\n",
       "      <td>MALE</td>\n",
       "      <td>MD</td>\n",
       "      <td>craft-repair</td>\n",
       "      <td>other</td>\n",
       "      <td>husband</td>\n",
       "      <td>Single Vehicle Collision</td>\n",
       "      <td>Side Collision</td>\n",
       "      <td>Major Damage</td>\n",
       "      <td>Police</td>\n",
       "      <td>SC</td>\n",
       "      <td>Columbus</td>\n",
       "      <td>YES</td>\n",
       "      <td>YES</td>\n",
       "      <td>Saab</td>\n",
       "      <td>92x</td>\n",
       "      <td>False</td>\n",
       "      <td>46-50</td>\n",
       "      <td>301-350</td>\n",
       "      <td>medium</td>\n",
       "      <td>501-1000</td>\n",
       "    </tr>\n",
       "    <tr>\n",
       "      <th>1</th>\n",
       "      <td>IN</td>\n",
       "      <td>other</td>\n",
       "      <td>MALE</td>\n",
       "      <td>MD</td>\n",
       "      <td>machine-op-inspct</td>\n",
       "      <td>other</td>\n",
       "      <td>other-relative</td>\n",
       "      <td>Vehicle Theft</td>\n",
       "      <td>?</td>\n",
       "      <td>Minor Damage</td>\n",
       "      <td>Police</td>\n",
       "      <td>VA</td>\n",
       "      <td>Riverwood</td>\n",
       "      <td>?</td>\n",
       "      <td>?</td>\n",
       "      <td>Mercedes</td>\n",
       "      <td>E400</td>\n",
       "      <td>False</td>\n",
       "      <td>41-45</td>\n",
       "      <td>201-250</td>\n",
       "      <td>medium</td>\n",
       "      <td>1501-2000</td>\n",
       "    </tr>\n",
       "    <tr>\n",
       "      <th>2</th>\n",
       "      <td>OH</td>\n",
       "      <td>other</td>\n",
       "      <td>FEMALE</td>\n",
       "      <td>PhD</td>\n",
       "      <td>sales</td>\n",
       "      <td>other</td>\n",
       "      <td>own-child</td>\n",
       "      <td>Multi-vehicle Collision</td>\n",
       "      <td>Rear Collision</td>\n",
       "      <td>Minor Damage</td>\n",
       "      <td>Police</td>\n",
       "      <td>NY</td>\n",
       "      <td>Columbus</td>\n",
       "      <td>NO</td>\n",
       "      <td>MISSING</td>\n",
       "      <td>Dodge</td>\n",
       "      <td>RAM</td>\n",
       "      <td>False</td>\n",
       "      <td>26-30</td>\n",
       "      <td>101-150</td>\n",
       "      <td>medium</td>\n",
       "      <td>1501-2000</td>\n",
       "    </tr>\n",
       "    <tr>\n",
       "      <th>3</th>\n",
       "      <td>IL</td>\n",
       "      <td>other</td>\n",
       "      <td>FEMALE</td>\n",
       "      <td>PhD</td>\n",
       "      <td>armed-forces</td>\n",
       "      <td>other</td>\n",
       "      <td>unmarried</td>\n",
       "      <td>Single Vehicle Collision</td>\n",
       "      <td>Front Collision</td>\n",
       "      <td>Major Damage</td>\n",
       "      <td>Police</td>\n",
       "      <td>OH</td>\n",
       "      <td>Arlington</td>\n",
       "      <td>?</td>\n",
       "      <td>NO</td>\n",
       "      <td>Chevrolet</td>\n",
       "      <td>Tahoe</td>\n",
       "      <td>False</td>\n",
       "      <td>41-45</td>\n",
       "      <td>251-300</td>\n",
       "      <td>medium</td>\n",
       "      <td>1501-2000</td>\n",
       "    </tr>\n",
       "    <tr>\n",
       "      <th>4</th>\n",
       "      <td>IL</td>\n",
       "      <td>other</td>\n",
       "      <td>MALE</td>\n",
       "      <td>Associate</td>\n",
       "      <td>sales</td>\n",
       "      <td>other</td>\n",
       "      <td>unmarried</td>\n",
       "      <td>Vehicle Theft</td>\n",
       "      <td>?</td>\n",
       "      <td>Minor Damage</td>\n",
       "      <td>None</td>\n",
       "      <td>NY</td>\n",
       "      <td>Arlington</td>\n",
       "      <td>NO</td>\n",
       "      <td>MISSING</td>\n",
       "      <td>Accura</td>\n",
       "      <td>RSX</td>\n",
       "      <td>False</td>\n",
       "      <td>41-45</td>\n",
       "      <td>201-250</td>\n",
       "      <td>high</td>\n",
       "      <td>501-1000</td>\n",
       "    </tr>\n",
       "  </tbody>\n",
       "</table>\n",
       "</div>"
      ],
      "text/plain": [
       "  policy_state umbrella_limit insured_sex insured_education_level  \\\n",
       "0           OH            0.0        MALE                      MD   \n",
       "1           IN          other        MALE                      MD   \n",
       "2           OH          other      FEMALE                     PhD   \n",
       "3           IL          other      FEMALE                     PhD   \n",
       "4           IL          other        MALE               Associate   \n",
       "\n",
       "  insured_occupation insured_hobbies insured_relationship  \\\n",
       "0       craft-repair           other              husband   \n",
       "1  machine-op-inspct           other       other-relative   \n",
       "2              sales           other            own-child   \n",
       "3       armed-forces           other            unmarried   \n",
       "4              sales           other            unmarried   \n",
       "\n",
       "              incident_type   collision_type incident_severity  \\\n",
       "0  Single Vehicle Collision   Side Collision      Major Damage   \n",
       "1             Vehicle Theft                ?      Minor Damage   \n",
       "2   Multi-vehicle Collision   Rear Collision      Minor Damage   \n",
       "3  Single Vehicle Collision  Front Collision      Major Damage   \n",
       "4             Vehicle Theft                ?      Minor Damage   \n",
       "\n",
       "  authorities_contacted incident_state incident_city property_damage  \\\n",
       "0                Police             SC      Columbus             YES   \n",
       "1                Police             VA     Riverwood               ?   \n",
       "2                Police             NY      Columbus              NO   \n",
       "3                Police             OH     Arlington               ?   \n",
       "4                  None             NY     Arlington              NO   \n",
       "\n",
       "  police_report_available  auto_make auto_model location_check age_group  \\\n",
       "0                     YES       Saab        92x          False     46-50   \n",
       "1                       ?   Mercedes       E400          False     41-45   \n",
       "2                 MISSING      Dodge        RAM          False     26-30   \n",
       "3                      NO  Chevrolet      Tahoe          False     41-45   \n",
       "4                 MISSING     Accura        RSX          False     41-45   \n",
       "\n",
       "  months_as_customer_groups policy_annual_premium_groups  \\\n",
       "0                   301-350                       medium   \n",
       "1                   201-250                       medium   \n",
       "2                   101-150                       medium   \n",
       "3                   251-300                       medium   \n",
       "4                   201-250                         high   \n",
       "\n",
       "  policy_deductable_group  \n",
       "0                501-1000  \n",
       "1               1501-2000  \n",
       "2               1501-2000  \n",
       "3               1501-2000  \n",
       "4                501-1000  "
      ]
     },
     "execution_count": 12,
     "metadata": {},
     "output_type": "execute_result"
    }
   ],
   "source": [
    "# buradan tüm kolonlara bakıp hangisine OneHotEncoder hangisine OrdinalEncoder uygulayacağıma karar vereceğim\n",
    "# ordinal kolonları OrdinalEncoder'a, nominal kolonları OneHotEncoder'a sokacağım\n",
    "pd.set_option(\"display.max_columns\", None)\n",
    "df1[cat_cols].head()"
   ]
  },
  {
   "cell_type": "code",
   "execution_count": 13,
   "id": "f96ad07c",
   "metadata": {},
   "outputs": [],
   "source": [
    "pd.reset_option(\"display.max_columns\")"
   ]
  },
  {
   "cell_type": "code",
   "execution_count": 14,
   "id": "b49ab7e1",
   "metadata": {},
   "outputs": [],
   "source": [
    "# ordinal_list'e OrdinalEncoder, ohe_list'e OneHotEncoder uygulayacağım\n",
    "# incident_date silineceği için onu dikkate almadım\n",
    "ordinal_list = [\"insured_education_level\", \"incident_severity\", \"age_group\", \"months_as_customer_groups\", \n",
    "                \"policy_annual_premium_groups\", \"policy_deductable_group\"]\n",
    "\n",
    "ohe_list = [\"insured_sex\", \"policy_state\", \"umbrella_limit\", \"insured_occupation\", \"insured_hobbies\", \n",
    "            \"insured_relationship\", \"incident_type\", \"collision_type\", \"authorities_contacted\", \n",
    "            \"incident_state\", \"incident_city\", \"property_damage\", \"police_report_available\", \"auto_make\", \n",
    "            \"auto_model\", \"location_check\"]"
   ]
  },
  {
   "cell_type": "code",
   "execution_count": 15,
   "id": "47173e2c",
   "metadata": {},
   "outputs": [
    {
     "data": {
      "text/plain": [
       "array(['MD', 'PhD', 'Associate', 'Masters', 'High School', 'College',\n",
       "       'JD'], dtype=object)"
      ]
     },
     "execution_count": 15,
     "metadata": {},
     "output_type": "execute_result"
    }
   ],
   "source": [
    "# sıralayacağımız değerleri görmek için unique metodunu kullanıyorum\n",
    "df1[\"insured_education_level\"].unique()"
   ]
  },
  {
   "cell_type": "code",
   "execution_count": 16,
   "id": "4942a223",
   "metadata": {},
   "outputs": [
    {
     "data": {
      "text/plain": [
       "array(['Doctors Degree', 'Associate', 'Masters', 'High School', 'College'],\n",
       "      dtype=object)"
      ]
     },
     "execution_count": 16,
     "metadata": {},
     "output_type": "execute_result"
    }
   ],
   "source": [
    "# birden fazla doktora derecesi olmasının bize faydası olacağını düşünmediğimden hepsini birleştirdim\n",
    "df1['insured_education_level'] = df1['insured_education_level'].str.replace('MD', 'Doctors Degree')\n",
    "df1['insured_education_level'] = df1['insured_education_level'].str.replace('PhD', 'Doctors Degree')\n",
    "df1['insured_education_level'] = df1['insured_education_level'].str.replace('JD', 'Doctors Degree')\n",
    "df1[\"insured_education_level\"].unique()"
   ]
  },
  {
   "cell_type": "code",
   "execution_count": 17,
   "id": "b8236f81",
   "metadata": {},
   "outputs": [
    {
     "data": {
      "text/plain": [
       "array(['Major Damage', 'Minor Damage', 'Total Loss', 'Trivial Damage'],\n",
       "      dtype=object)"
      ]
     },
     "execution_count": 17,
     "metadata": {},
     "output_type": "execute_result"
    }
   ],
   "source": [
    "df1[\"incident_severity\"].unique()"
   ]
  },
  {
   "cell_type": "code",
   "execution_count": 18,
   "id": "033f65e8",
   "metadata": {},
   "outputs": [
    {
     "data": {
      "text/plain": [
       "array(['46-50', '41-45', '26-30', '36-40', '31-35', '61-65', '9999',\n",
       "       '56-60', '51-55', '21-25', '15-20'], dtype=object)"
      ]
     },
     "execution_count": 18,
     "metadata": {},
     "output_type": "execute_result"
    }
   ],
   "source": [
    "df1[\"age_group\"].unique()"
   ]
  },
  {
   "cell_type": "code",
   "execution_count": 19,
   "id": "a227be1e",
   "metadata": {},
   "outputs": [
    {
     "data": {
      "text/plain": [
       "array(['301-350', '201-250', '101-150', '251-300', '151-200', '0-50',\n",
       "       '451-500', '51-100', '351-400', '401-450'], dtype=object)"
      ]
     },
     "execution_count": 19,
     "metadata": {},
     "output_type": "execute_result"
    }
   ],
   "source": [
    "df1[\"months_as_customer_groups\"].unique()"
   ]
  },
  {
   "cell_type": "code",
   "execution_count": 20,
   "id": "cab5a13d",
   "metadata": {},
   "outputs": [
    {
     "data": {
      "text/plain": [
       "array(['medium', 'high', 'low', 'very high', 'very low'], dtype=object)"
      ]
     },
     "execution_count": 20,
     "metadata": {},
     "output_type": "execute_result"
    }
   ],
   "source": [
    "df1[\"policy_annual_premium_groups\"].unique()"
   ]
  },
  {
   "cell_type": "code",
   "execution_count": 21,
   "id": "dcb1090c",
   "metadata": {},
   "outputs": [
    {
     "data": {
      "text/plain": [
       "array(['501-1000', '1501-2000', '0-500'], dtype=object)"
      ]
     },
     "execution_count": 21,
     "metadata": {},
     "output_type": "execute_result"
    }
   ],
   "source": [
    "df1[\"policy_deductable_group\"].unique()"
   ]
  },
  {
   "cell_type": "code",
   "execution_count": 22,
   "id": "685f1366",
   "metadata": {},
   "outputs": [],
   "source": [
    "# ordinal sıralamaları bu şekilde listelere tanımlayacağım\n",
    "educ = [\"High School\", \"Associate\", \"College\", \"Masters\", \"Doctors Degree\"]\n",
    "sever = [\"Trivial Damage\", \"Minor Damage\", \"Major Damage\", \"Total Loss\"]\n",
    "age = ['9999', \"15-20\", \"21-25\", '26-30', '31-35', '36-40', '41-45', '46-50', '51-55', '56-60', '61-65']\n",
    "months = ['0-50', '51-100', '101-150', '151-200', '201-250', '251-300', '301-350', '351-400', '401-450', '451-500']\n",
    "premium = [\"very low\",\"low\",\"medium\",\"high\",\"very high\"]\n",
    "deduct = ['0-500', '501-1000', '1501-2000']"
   ]
  },
  {
   "cell_type": "code",
   "execution_count": 23,
   "id": "06129083",
   "metadata": {},
   "outputs": [],
   "source": [
    "# df1 verisetinden validation ve model bölme, yeni tarihli satırları validation yaptık\n",
    "df1_val = df1.sort_values(by='incident_date',ascending=False).head(200)\n",
    "df1_model = df1.sort_values(by='incident_date',ascending=False).tail(800)"
   ]
  },
  {
   "cell_type": "code",
   "execution_count": 24,
   "id": "5e753647",
   "metadata": {},
   "outputs": [],
   "source": [
    "# sıralamayı yaptıktan sonra incident_date droplandı\n",
    "df1_val = df1_val.drop([\"incident_date\"],axis=1)\n",
    "df1_model = df1_model.drop([\"incident_date\"],axis=1)"
   ]
  },
  {
   "cell_type": "code",
   "execution_count": 25,
   "id": "1f497a9e",
   "metadata": {},
   "outputs": [],
   "source": [
    "df1 = df1.drop([\"incident_date\"],axis=1)"
   ]
  },
  {
   "cell_type": "markdown",
   "id": "b6b89833",
   "metadata": {},
   "source": [
    "## Encoding"
   ]
  },
  {
   "cell_type": "code",
   "execution_count": 26,
   "id": "d7d6ede7",
   "metadata": {},
   "outputs": [
    {
     "data": {
      "text/html": [
       "<div>\n",
       "<style scoped>\n",
       "    .dataframe tbody tr th:only-of-type {\n",
       "        vertical-align: middle;\n",
       "    }\n",
       "\n",
       "    .dataframe tbody tr th {\n",
       "        vertical-align: top;\n",
       "    }\n",
       "\n",
       "    .dataframe thead th {\n",
       "        text-align: right;\n",
       "    }\n",
       "</style>\n",
       "<table border=\"1\" class=\"dataframe\">\n",
       "  <thead>\n",
       "    <tr style=\"text-align: right;\">\n",
       "      <th></th>\n",
       "      <th>insured_education_level</th>\n",
       "      <th>incident_severity</th>\n",
       "      <th>age_group</th>\n",
       "      <th>months_as_customer_groups</th>\n",
       "      <th>policy_annual_premium_groups</th>\n",
       "      <th>policy_deductable_group</th>\n",
       "    </tr>\n",
       "  </thead>\n",
       "  <tbody>\n",
       "    <tr>\n",
       "      <th>511</th>\n",
       "      <td>4</td>\n",
       "      <td>0</td>\n",
       "      <td>7</td>\n",
       "      <td>5</td>\n",
       "      <td>2</td>\n",
       "      <td>1</td>\n",
       "    </tr>\n",
       "    <tr>\n",
       "      <th>894</th>\n",
       "      <td>4</td>\n",
       "      <td>1</td>\n",
       "      <td>4</td>\n",
       "      <td>0</td>\n",
       "      <td>2</td>\n",
       "      <td>0</td>\n",
       "    </tr>\n",
       "    <tr>\n",
       "      <th>125</th>\n",
       "      <td>4</td>\n",
       "      <td>3</td>\n",
       "      <td>5</td>\n",
       "      <td>4</td>\n",
       "      <td>2</td>\n",
       "      <td>1</td>\n",
       "    </tr>\n",
       "    <tr>\n",
       "      <th>895</th>\n",
       "      <td>0</td>\n",
       "      <td>2</td>\n",
       "      <td>5</td>\n",
       "      <td>3</td>\n",
       "      <td>2</td>\n",
       "      <td>0</td>\n",
       "    </tr>\n",
       "    <tr>\n",
       "      <th>485</th>\n",
       "      <td>1</td>\n",
       "      <td>3</td>\n",
       "      <td>3</td>\n",
       "      <td>1</td>\n",
       "      <td>2</td>\n",
       "      <td>2</td>\n",
       "    </tr>\n",
       "  </tbody>\n",
       "</table>\n",
       "</div>"
      ],
      "text/plain": [
       "     insured_education_level  incident_severity  age_group  \\\n",
       "511                        4                  0          7   \n",
       "894                        4                  1          4   \n",
       "125                        4                  3          5   \n",
       "895                        0                  2          5   \n",
       "485                        1                  3          3   \n",
       "\n",
       "     months_as_customer_groups  policy_annual_premium_groups  \\\n",
       "511                          5                             2   \n",
       "894                          0                             2   \n",
       "125                          4                             2   \n",
       "895                          3                             2   \n",
       "485                          1                             2   \n",
       "\n",
       "     policy_deductable_group  \n",
       "511                        1  \n",
       "894                        0  \n",
       "125                        1  \n",
       "895                        0  \n",
       "485                        2  "
      ]
     },
     "execution_count": 26,
     "metadata": {},
     "output_type": "execute_result"
    }
   ],
   "source": [
    "# önce ordinal encoder'i belirttiğim kolonlara uyguluyorum\n",
    "from sklearn.preprocessing import OrdinalEncoder\n",
    "\n",
    "df2_model = df1_model\n",
    "oe = OrdinalEncoder(categories=[educ,sever,age,months,premium,deduct], dtype = \"int64\")\n",
    "df2_model[ordinal_list] = oe.fit_transform(df2_model[ordinal_list])\n",
    "df2_model[ordinal_list].head()"
   ]
  },
  {
   "cell_type": "code",
   "execution_count": 27,
   "id": "a9b72268",
   "metadata": {},
   "outputs": [],
   "source": [
    "from sklearn.preprocessing import OneHotEncoder\n",
    "from sklearn.compose import make_column_transformer\n",
    "\n",
    "# OneHotEncoder'i fit edip column transformer üzerinden modele uyguladım\n",
    "ohe = OneHotEncoder(handle_unknown='ignore', dtype=\"int64\")\n",
    "ct = make_column_transformer((ohe, ohe_list), remainder=\"passthrough\")\n",
    "# yeni bir df oluşturarak transformu gerçekleştirdim ve kolon isimlerini get_feature_names yardımıyla verdim\n",
    "df2_model = pd.DataFrame(ct.fit_transform(df2_model).toarray(), columns=ct.get_feature_names())"
   ]
  },
  {
   "cell_type": "code",
   "execution_count": 28,
   "id": "5ba845ce",
   "metadata": {},
   "outputs": [
    {
     "data": {
      "text/html": [
       "<div>\n",
       "<style scoped>\n",
       "    .dataframe tbody tr th:only-of-type {\n",
       "        vertical-align: middle;\n",
       "    }\n",
       "\n",
       "    .dataframe tbody tr th {\n",
       "        vertical-align: top;\n",
       "    }\n",
       "\n",
       "    .dataframe thead th {\n",
       "        text-align: right;\n",
       "    }\n",
       "</style>\n",
       "<table border=\"1\" class=\"dataframe\">\n",
       "  <thead>\n",
       "    <tr style=\"text-align: right;\">\n",
       "      <th></th>\n",
       "      <th>onehotencoder__x0_FEMALE</th>\n",
       "      <th>onehotencoder__x0_MALE</th>\n",
       "      <th>onehotencoder__x1_IL</th>\n",
       "      <th>onehotencoder__x1_IN</th>\n",
       "      <th>onehotencoder__x1_OH</th>\n",
       "      <th>onehotencoder__x2_0.0</th>\n",
       "      <th>onehotencoder__x2_9999</th>\n",
       "      <th>onehotencoder__x2_other</th>\n",
       "      <th>onehotencoder__x3_adm-clerical</th>\n",
       "      <th>onehotencoder__x3_armed-forces</th>\n",
       "      <th>...</th>\n",
       "      <th>bodily_injuries</th>\n",
       "      <th>witnesses</th>\n",
       "      <th>total_claim_amount</th>\n",
       "      <th>auto_year</th>\n",
       "      <th>claim_day_of_policy</th>\n",
       "      <th>age_group</th>\n",
       "      <th>months_as_customer_groups</th>\n",
       "      <th>policy_annual_premium_groups</th>\n",
       "      <th>policy_deductable_group</th>\n",
       "      <th>fraud_reported</th>\n",
       "    </tr>\n",
       "  </thead>\n",
       "  <tbody>\n",
       "    <tr>\n",
       "      <th>0</th>\n",
       "      <td>1</td>\n",
       "      <td>0</td>\n",
       "      <td>0</td>\n",
       "      <td>0</td>\n",
       "      <td>1</td>\n",
       "      <td>1</td>\n",
       "      <td>0</td>\n",
       "      <td>0</td>\n",
       "      <td>0</td>\n",
       "      <td>0</td>\n",
       "      <td>...</td>\n",
       "      <td>2</td>\n",
       "      <td>3</td>\n",
       "      <td>6560</td>\n",
       "      <td>2003</td>\n",
       "      <td>4427</td>\n",
       "      <td>7</td>\n",
       "      <td>5</td>\n",
       "      <td>2</td>\n",
       "      <td>1</td>\n",
       "      <td>0</td>\n",
       "    </tr>\n",
       "    <tr>\n",
       "      <th>1</th>\n",
       "      <td>0</td>\n",
       "      <td>1</td>\n",
       "      <td>0</td>\n",
       "      <td>1</td>\n",
       "      <td>0</td>\n",
       "      <td>1</td>\n",
       "      <td>0</td>\n",
       "      <td>0</td>\n",
       "      <td>0</td>\n",
       "      <td>0</td>\n",
       "      <td>...</td>\n",
       "      <td>1</td>\n",
       "      <td>3</td>\n",
       "      <td>6000</td>\n",
       "      <td>2000</td>\n",
       "      <td>8921</td>\n",
       "      <td>4</td>\n",
       "      <td>0</td>\n",
       "      <td>2</td>\n",
       "      <td>0</td>\n",
       "      <td>0</td>\n",
       "    </tr>\n",
       "    <tr>\n",
       "      <th>2</th>\n",
       "      <td>0</td>\n",
       "      <td>1</td>\n",
       "      <td>0</td>\n",
       "      <td>1</td>\n",
       "      <td>0</td>\n",
       "      <td>0</td>\n",
       "      <td>0</td>\n",
       "      <td>1</td>\n",
       "      <td>0</td>\n",
       "      <td>0</td>\n",
       "      <td>...</td>\n",
       "      <td>2</td>\n",
       "      <td>3</td>\n",
       "      <td>36300</td>\n",
       "      <td>2013</td>\n",
       "      <td>205</td>\n",
       "      <td>5</td>\n",
       "      <td>4</td>\n",
       "      <td>2</td>\n",
       "      <td>1</td>\n",
       "      <td>0</td>\n",
       "    </tr>\n",
       "    <tr>\n",
       "      <th>3</th>\n",
       "      <td>0</td>\n",
       "      <td>1</td>\n",
       "      <td>1</td>\n",
       "      <td>0</td>\n",
       "      <td>0</td>\n",
       "      <td>1</td>\n",
       "      <td>0</td>\n",
       "      <td>0</td>\n",
       "      <td>0</td>\n",
       "      <td>1</td>\n",
       "      <td>...</td>\n",
       "      <td>0</td>\n",
       "      <td>3</td>\n",
       "      <td>55200</td>\n",
       "      <td>1998</td>\n",
       "      <td>1980</td>\n",
       "      <td>5</td>\n",
       "      <td>3</td>\n",
       "      <td>2</td>\n",
       "      <td>0</td>\n",
       "      <td>1</td>\n",
       "    </tr>\n",
       "    <tr>\n",
       "      <th>4</th>\n",
       "      <td>0</td>\n",
       "      <td>1</td>\n",
       "      <td>0</td>\n",
       "      <td>1</td>\n",
       "      <td>0</td>\n",
       "      <td>1</td>\n",
       "      <td>0</td>\n",
       "      <td>0</td>\n",
       "      <td>1</td>\n",
       "      <td>0</td>\n",
       "      <td>...</td>\n",
       "      <td>2</td>\n",
       "      <td>1</td>\n",
       "      <td>48290</td>\n",
       "      <td>1995</td>\n",
       "      <td>7692</td>\n",
       "      <td>3</td>\n",
       "      <td>1</td>\n",
       "      <td>2</td>\n",
       "      <td>2</td>\n",
       "      <td>0</td>\n",
       "    </tr>\n",
       "  </tbody>\n",
       "</table>\n",
       "<p>5 rows × 136 columns</p>\n",
       "</div>"
      ],
      "text/plain": [
       "   onehotencoder__x0_FEMALE  onehotencoder__x0_MALE  onehotencoder__x1_IL  \\\n",
       "0                         1                       0                     0   \n",
       "1                         0                       1                     0   \n",
       "2                         0                       1                     0   \n",
       "3                         0                       1                     1   \n",
       "4                         0                       1                     0   \n",
       "\n",
       "   onehotencoder__x1_IN  onehotencoder__x1_OH  onehotencoder__x2_0.0  \\\n",
       "0                     0                     1                      1   \n",
       "1                     1                     0                      1   \n",
       "2                     1                     0                      0   \n",
       "3                     0                     0                      1   \n",
       "4                     1                     0                      1   \n",
       "\n",
       "   onehotencoder__x2_9999  onehotencoder__x2_other  \\\n",
       "0                       0                        0   \n",
       "1                       0                        0   \n",
       "2                       0                        1   \n",
       "3                       0                        0   \n",
       "4                       0                        0   \n",
       "\n",
       "   onehotencoder__x3_adm-clerical  onehotencoder__x3_armed-forces  ...  \\\n",
       "0                               0                               0  ...   \n",
       "1                               0                               0  ...   \n",
       "2                               0                               0  ...   \n",
       "3                               0                               1  ...   \n",
       "4                               1                               0  ...   \n",
       "\n",
       "   bodily_injuries  witnesses  total_claim_amount  auto_year  \\\n",
       "0                2          3                6560       2003   \n",
       "1                1          3                6000       2000   \n",
       "2                2          3               36300       2013   \n",
       "3                0          3               55200       1998   \n",
       "4                2          1               48290       1995   \n",
       "\n",
       "   claim_day_of_policy  age_group  months_as_customer_groups  \\\n",
       "0                 4427          7                          5   \n",
       "1                 8921          4                          0   \n",
       "2                  205          5                          4   \n",
       "3                 1980          5                          3   \n",
       "4                 7692          3                          1   \n",
       "\n",
       "   policy_annual_premium_groups  policy_deductable_group  fraud_reported  \n",
       "0                             2                        1               0  \n",
       "1                             2                        0               0  \n",
       "2                             2                        1               0  \n",
       "3                             2                        0               1  \n",
       "4                             2                        2               0  \n",
       "\n",
       "[5 rows x 136 columns]"
      ]
     },
     "execution_count": 28,
     "metadata": {},
     "output_type": "execute_result"
    }
   ],
   "source": [
    "# modelin OneHotEncoding ve OrdinalEncoder uygulanmış hali\n",
    "df2_model.head()"
   ]
  },
  {
   "cell_type": "markdown",
   "id": "bbc5aa73",
   "metadata": {},
   "source": [
    "## Features and Target"
   ]
  },
  {
   "cell_type": "code",
   "execution_count": 29,
   "id": "97e2cf4b",
   "metadata": {},
   "outputs": [],
   "source": [
    "# verisetini feature ve target olarak ayırıyorum\n",
    "X = df2_model.loc[:, df2_model.columns != 'fraud_reported']\n",
    "y = df2_model[\"fraud_reported\"]"
   ]
  },
  {
   "cell_type": "markdown",
   "id": "7fec9ea0",
   "metadata": {},
   "source": [
    "## Scaling"
   ]
  },
  {
   "cell_type": "code",
   "execution_count": 30,
   "id": "49b3def6",
   "metadata": {},
   "outputs": [],
   "source": [
    "# Feature değerleri StandardScaler'a sokuyorum\n",
    "from sklearn.preprocessing import StandardScaler\n",
    "\n",
    "sc = StandardScaler()\n",
    "X = sc.fit_transform(X)"
   ]
  },
  {
   "cell_type": "code",
   "execution_count": 31,
   "id": "7fb386ec",
   "metadata": {},
   "outputs": [
    {
     "data": {
      "text/plain": [
       "array([[ 0.93228691, -0.93228691, -0.73178456, ...,  0.51401352,\n",
       "        -0.01310669,  0.02944272],\n",
       "       [-1.07263117,  1.07263117, -0.73178456, ..., -1.57335104,\n",
       "        -0.01310669, -1.21025068],\n",
       "       [-1.07263117,  1.07263117, -0.73178456, ...,  0.09654061,\n",
       "        -0.01310669,  0.02944272],\n",
       "       ...,\n",
       "       [-1.07263117,  1.07263117,  1.36652242, ...,  1.76643226,\n",
       "        -1.76066488,  1.26913612],\n",
       "       [-1.07263117,  1.07263117, -0.73178456, ..., -0.73840521,\n",
       "         1.73445151, -1.21025068],\n",
       "       [ 0.93228691, -0.93228691, -0.73178456, ..., -1.57335104,\n",
       "        -1.76066488, -1.21025068]])"
      ]
     },
     "execution_count": 31,
     "metadata": {},
     "output_type": "execute_result"
    }
   ],
   "source": [
    "X"
   ]
  },
  {
   "cell_type": "markdown",
   "id": "d200a107",
   "metadata": {},
   "source": [
    "## Splitting in train and test data"
   ]
  },
  {
   "cell_type": "code",
   "execution_count": 32,
   "id": "1acceafd",
   "metadata": {},
   "outputs": [],
   "source": [
    "# Modelin train-test olarak ayrılması\n",
    "X_train, X_test, y_train, y_test = train_test_split(X, y, test_size = 0.3, random_state = 42)"
   ]
  },
  {
   "cell_type": "code",
   "execution_count": 33,
   "id": "96ad1559",
   "metadata": {},
   "outputs": [
    {
     "name": "stderr",
     "output_type": "stream",
     "text": [
      "C:\\ProgramData\\Anaconda3\\lib\\site-packages\\seaborn\\_decorators.py:36: FutureWarning: Pass the following variable as a keyword arg: x. From version 0.12, the only valid positional argument will be `data`, and passing other arguments without an explicit keyword will result in an error or misinterpretation.\n",
      "  warnings.warn(\n"
     ]
    },
    {
     "data": {
      "text/plain": [
       "<AxesSubplot:xlabel='fraud_reported', ylabel='count'>"
      ]
     },
     "execution_count": 33,
     "metadata": {},
     "output_type": "execute_result"
    },
    {
     "data": {
      "image/png": "[encoded data removed]",
      "text/plain": [
       "<Figure size 432x288 with 1 Axes>"
      ]
     },
     "metadata": {
      "needs_background": "light"
     },
     "output_type": "display_data"
    }
   ],
   "source": [
    "# train'in target değişkeninin ne kadarı 0 ne kadarı 1 kontrolü\n",
    "# verisetinin imbalancelığı train'e de yansımış\n",
    "chck = pd.DataFrame()\n",
    "chck['fraud_reported'] = y_train\n",
    "\n",
    "sns.countplot(chck['fraud_reported'])"
   ]
  },
  {
   "cell_type": "markdown",
   "id": "5a68fe0b",
   "metadata": {},
   "source": [
    "# Logistic Regression"
   ]
  },
  {
   "cell_type": "code",
   "execution_count": 34,
   "id": "46a4d032",
   "metadata": {},
   "outputs": [
    {
     "name": "stdout",
     "output_type": "stream",
     "text": [
      "0.7125\n",
      "              precision    recall  f1-score   support\n",
      "\n",
      "           0       0.76      0.86      0.81       170\n",
      "           1       0.51      0.36      0.42        70\n",
      "\n",
      "    accuracy                           0.71       240\n",
      "   macro avg       0.64      0.61      0.61       240\n",
      "weighted avg       0.69      0.71      0.70       240\n",
      "\n"
     ]
    }
   ],
   "source": [
    "# ilk model denemesi, 1'leri tahmin etmesi düşük çıktığı için oversampling yapmaya karar verdik\n",
    "lr = LogisticRegression()\n",
    "\n",
    "lr.fit(X_train, y_train)\n",
    "preds = lr.predict(X_test)\n",
    "\n",
    "score = lr.score(X_test, y_test)\n",
    "print(score)\n",
    "print(classification_report(y_test, preds))"
   ]
  },
  {
   "cell_type": "markdown",
   "id": "7f16c585",
   "metadata": {},
   "source": [
    "## Synthetic Minority Over-sampling Technique (SMOTE)"
   ]
  },
  {
   "cell_type": "code",
   "execution_count": 35,
   "id": "1a43c530",
   "metadata": {
    "execution": {
     "iopub.execute_input": "2020-08-27T14:32:41.412414Z",
     "iopub.status.busy": "2020-08-27T14:32:41.411367Z",
     "iopub.status.idle": "2020-08-27T14:32:41.417382Z",
     "shell.execute_reply": "2020-08-27T14:32:41.416683Z"
    },
    "id": "HsJLQ16D-euD",
    "papermill": {
     "duration": 0.048978,
     "end_time": "2020-08-27T14:32:41.417505",
     "exception": false,
     "start_time": "2020-08-27T14:32:41.368527",
     "status": "completed"
    },
    "tags": []
   },
   "outputs": [],
   "source": [
    "oversample = SMOTE(random_state=9)"
   ]
  },
  {
   "cell_type": "code",
   "execution_count": 36,
   "id": "fbaf1865",
   "metadata": {},
   "outputs": [],
   "source": [
    "X_over, y_over = oversample.fit_resample(X_train, y_train)"
   ]
  },
  {
   "cell_type": "code",
   "execution_count": 37,
   "id": "67447d57",
   "metadata": {},
   "outputs": [],
   "source": [
    "X_train, X_test, y_train, y_test = train_test_split(X_over, y_over, test_size = 0.3, random_state = 1)"
   ]
  },
  {
   "cell_type": "code",
   "execution_count": 38,
   "id": "728e2701",
   "metadata": {},
   "outputs": [
    {
     "name": "stderr",
     "output_type": "stream",
     "text": [
      "C:\\ProgramData\\Anaconda3\\lib\\site-packages\\seaborn\\_decorators.py:36: FutureWarning: Pass the following variable as a keyword arg: x. From version 0.12, the only valid positional argument will be `data`, and passing other arguments without an explicit keyword will result in an error or misinterpretation.\n",
      "  warnings.warn(\n"
     ]
    },
    {
     "data": {
      "text/plain": [
       "<AxesSubplot:xlabel='fraud_reported', ylabel='count'>"
      ]
     },
     "execution_count": 38,
     "metadata": {},
     "output_type": "execute_result"
    },
    {
     "data": {
      "image/png": "[encoded data removed]",
      "text/plain": [
       "<Figure size 432x288 with 1 Axes>"
      ]
     },
     "metadata": {
      "needs_background": "light"
     },
     "output_type": "display_data"
    }
   ],
   "source": [
    "# oversampling yapıldı ve 0-1 dengelendi\n",
    "chck2 = pd.DataFrame()\n",
    "chck2['fraud_reported'] = y_train\n",
    "\n",
    "sns.countplot(chck2['fraud_reported'])"
   ]
  },
  {
   "cell_type": "code",
   "execution_count": 39,
   "id": "a4def5c3",
   "metadata": {
    "execution": {
     "iopub.execute_input": "2020-08-27T14:32:42.336121Z",
     "iopub.status.busy": "2020-08-27T14:32:42.334922Z",
     "iopub.status.idle": "2020-08-27T14:32:42.364597Z",
     "shell.execute_reply": "2020-08-27T14:32:42.365698Z"
    },
    "id": "CLVhk5xJXZG1",
    "outputId": "eb74b8ce-d622-480a-9218-e85a85fc1032",
    "papermill": {
     "duration": 0.078051,
     "end_time": "2020-08-27T14:32:42.365950",
     "exception": false,
     "start_time": "2020-08-27T14:32:42.287899",
     "status": "completed"
    },
    "tags": []
   },
   "outputs": [
    {
     "name": "stdout",
     "output_type": "stream",
     "text": [
      "0.6785714285714286\n",
      "\n",
      "              precision    recall  f1-score   support\n",
      "\n",
      "           0       0.68      0.69      0.68       128\n",
      "           1       0.67      0.67      0.67       124\n",
      "\n",
      "    accuracy                           0.68       252\n",
      "   macro avg       0.68      0.68      0.68       252\n",
      "weighted avg       0.68      0.68      0.68       252\n",
      "\n"
     ]
    },
    {
     "data": {
      "text/plain": [
       "<AxesSubplot:>"
      ]
     },
     "execution_count": 39,
     "metadata": {},
     "output_type": "execute_result"
    },
    {
     "data": {
      "image/png": "[encoded data removed]",
      "text/plain": [
       "<Figure size 432x288 with 2 Axes>"
      ]
     },
     "metadata": {
      "needs_background": "light"
     },
     "output_type": "display_data"
    }
   ],
   "source": [
    "# oversampling sonrası 0 ve 1'in recall oranları birbirine yaklaştı\n",
    "lr.fit(X_train, y_train)\n",
    "preds = lr.predict(X_test)\n",
    "score = lr.score(X_test, y_test)\n",
    "print(score)\n",
    "print()\n",
    "print(classification_report(y_test, preds))\n",
    "cm = confusion_matrix(y_test, preds)\n",
    "sns\n",
    "sns.heatmap(cm, annot=True)"
   ]
  },
  {
   "cell_type": "markdown",
   "id": "a8aef267",
   "metadata": {},
   "source": [
    "## Decision Tree"
   ]
  },
  {
   "cell_type": "code",
   "execution_count": 40,
   "id": "388d52f6",
   "metadata": {},
   "outputs": [
    {
     "name": "stdout",
     "output_type": "stream",
     "text": [
      "0.8571428571428571\n",
      "\n",
      "              precision    recall  f1-score   support\n",
      "\n",
      "           0       0.83      0.91      0.87       128\n",
      "           1       0.89      0.81      0.85       124\n",
      "\n",
      "    accuracy                           0.86       252\n",
      "   macro avg       0.86      0.86      0.86       252\n",
      "weighted avg       0.86      0.86      0.86       252\n",
      "\n"
     ]
    },
    {
     "data": {
      "text/plain": [
       "<AxesSubplot:>"
      ]
     },
     "execution_count": 40,
     "metadata": {},
     "output_type": "execute_result"
    },
    {
     "data": {
      "image/png": "[encoded data removed]",
      "text/plain": [
       "<Figure size 432x288 with 2 Axes>"
      ]
     },
     "metadata": {
      "needs_background": "light"
     },
     "output_type": "display_data"
    }
   ],
   "source": [
    "# diğer modeller deneniyor\n",
    "dtc = DecisionTreeClassifier()\n",
    "\n",
    "dtc.fit(X_train, y_train)\n",
    "preds = dtc.predict(X_test)\n",
    "\n",
    "score = dtc.score(X_test, y_test)\n",
    "print(score)\n",
    "print()\n",
    "print(classification_report(y_test, preds))\n",
    "\n",
    "cm = confusion_matrix(y_test, preds)\n",
    "sns\n",
    "sns.heatmap(cm, annot=True)"
   ]
  },
  {
   "cell_type": "markdown",
   "id": "926e5f52",
   "metadata": {},
   "source": [
    "**Gelişme var, diğerlerine bakmaya devam edelim**"
   ]
  },
  {
   "cell_type": "markdown",
   "id": "a4a076b3",
   "metadata": {},
   "source": [
    "## Random Forest"
   ]
  },
  {
   "cell_type": "code",
   "execution_count": 41,
   "id": "8aa047af",
   "metadata": {},
   "outputs": [
    {
     "name": "stdout",
     "output_type": "stream",
     "text": [
      "92.46031746031747\n",
      "\n",
      "              precision    recall  f1-score   support\n",
      "\n",
      "           0       0.90      0.96      0.93       128\n",
      "           1       0.96      0.89      0.92       124\n",
      "\n",
      "    accuracy                           0.92       252\n",
      "   macro avg       0.93      0.92      0.92       252\n",
      "weighted avg       0.93      0.92      0.92       252\n",
      "\n"
     ]
    },
    {
     "data": {
      "text/plain": [
       "<AxesSubplot:>"
      ]
     },
     "execution_count": 41,
     "metadata": {},
     "output_type": "execute_result"
    },
    {
     "data": {
      "image/png": "[encoded data removed]",
      "text/plain": [
       "<Figure size 432x288 with 2 Axes>"
      ]
     },
     "metadata": {
      "needs_background": "light"
     },
     "output_type": "display_data"
    }
   ],
   "source": [
    "rfc = RandomForestClassifier(random_state = 1)\n",
    "\n",
    "rfc.fit(X_train, y_train)\n",
    "preds = rfc.predict(X_test)\n",
    "\n",
    "score = rfc.score(X_test, y_test)\n",
    "print(score*100)\n",
    "print()\n",
    "print(classification_report(y_test, preds))\n",
    "\n",
    "cm = confusion_matrix(y_test, preds)\n",
    "sns\n",
    "sns.heatmap(cm, annot=True)"
   ]
  },
  {
   "cell_type": "markdown",
   "id": "b3e3ce90",
   "metadata": {},
   "source": [
    "**Çok daha iyi, bakmaya devam edelim**"
   ]
  },
  {
   "cell_type": "markdown",
   "id": "28884e85",
   "metadata": {},
   "source": [
    "## Support Vector"
   ]
  },
  {
   "cell_type": "code",
   "execution_count": 42,
   "id": "632c5b96",
   "metadata": {},
   "outputs": [
    {
     "name": "stdout",
     "output_type": "stream",
     "text": [
      "Score: 0.8849206349206349\n",
      "              precision    recall  f1-score   support\n",
      "\n",
      "           0       0.92      0.85      0.88       128\n",
      "           1       0.86      0.92      0.89       124\n",
      "\n",
      "    accuracy                           0.88       252\n",
      "   macro avg       0.89      0.89      0.88       252\n",
      "weighted avg       0.89      0.88      0.88       252\n",
      "\n"
     ]
    },
    {
     "data": {
      "text/plain": [
       "<AxesSubplot:>"
      ]
     },
     "execution_count": 42,
     "metadata": {},
     "output_type": "execute_result"
    },
    {
     "data": {
      "image/png": "[encoded data removed]",
      "text/plain": [
       "<Figure size 432x288 with 2 Axes>"
      ]
     },
     "metadata": {
      "needs_background": "light"
     },
     "output_type": "display_data"
    }
   ],
   "source": [
    "svc = SVC(kernel='poly', probability=True, random_state = 10)\n",
    "svc.fit(X_train, y_train)\n",
    "\n",
    "preds = svc.predict(X_test)\n",
    "\n",
    "print('Score:' , svc.score(X_test, y_test))\n",
    "print(classification_report(y_test, preds))\n",
    "\n",
    "cm = confusion_matrix(y_test, preds)\n",
    "sns\n",
    "sns.heatmap(cm, annot=True)"
   ]
  },
  {
   "cell_type": "markdown",
   "id": "054ebc17",
   "metadata": {},
   "source": [
    "**1'leri tahmin etmede iyi, ancak genel skoru rfc'den düşük**"
   ]
  },
  {
   "cell_type": "code",
   "execution_count": 43,
   "id": "9faa2cd8",
   "metadata": {},
   "outputs": [
    {
     "name": "stdout",
     "output_type": "stream",
     "text": [
      "Score: 0.8928571428571429\n",
      "              precision    recall  f1-score   support\n",
      "\n",
      "           0       0.90      0.88      0.89       128\n",
      "           1       0.88      0.90      0.89       124\n",
      "\n",
      "    accuracy                           0.89       252\n",
      "   macro avg       0.89      0.89      0.89       252\n",
      "weighted avg       0.89      0.89      0.89       252\n",
      "\n"
     ]
    },
    {
     "data": {
      "text/plain": [
       "<AxesSubplot:>"
      ]
     },
     "execution_count": 43,
     "metadata": {},
     "output_type": "execute_result"
    },
    {
     "data": {
      "image/png": "[encoded data removed]",
      "text/plain": [
       "<Figure size 432x288 with 2 Axes>"
      ]
     },
     "metadata": {
      "needs_background": "light"
     },
     "output_type": "display_data"
    }
   ],
   "source": [
    "svc_rbf = SVC(kernel='rbf', probability=True, random_state = 10)\n",
    "svc_rbf.fit(X_train, y_train)\n",
    "\n",
    "preds = svc_rbf.predict(X_test)\n",
    "\n",
    "print('Score:' , svc_rbf.score(X_test, y_test))\n",
    "print(classification_report(y_test, preds))\n",
    "\n",
    "cm = confusion_matrix(y_test, preds)\n",
    "sns\n",
    "sns.heatmap(cm, annot=True)"
   ]
  },
  {
   "cell_type": "markdown",
   "id": "76dc7655",
   "metadata": {},
   "source": [
    "**1'leri tahmin etmede bu da nerdeyse rbf kerneli kadar iyi, 0'larda daha başarılı**"
   ]
  },
  {
   "cell_type": "markdown",
   "id": "0ec16f52",
   "metadata": {},
   "source": [
    "## CatBoost"
   ]
  },
  {
   "cell_type": "code",
   "execution_count": 75,
   "id": "55662d8f",
   "metadata": {},
   "outputs": [
    {
     "name": "stdout",
     "output_type": "stream",
     "text": [
      "Learning rate set to 0.008212\n",
      "0:\tlearn: 0.6852770\ttotal: 25.7ms\tremaining: 25.6s\n",
      "1:\tlearn: 0.6777574\ttotal: 27.9ms\tremaining: 13.9s\n",
      "2:\tlearn: 0.6701436\ttotal: 30.1ms\tremaining: 10s\n",
      "3:\tlearn: 0.6623341\ttotal: 32.5ms\tremaining: 8.08s\n",
      "4:\tlearn: 0.6551103\ttotal: 34.8ms\tremaining: 6.92s\n",
      "5:\tlearn: 0.6475668\ttotal: 37ms\tremaining: 6.13s\n",
      "6:\tlearn: 0.6409041\ttotal: 39.3ms\tremaining: 5.58s\n",
      "7:\tlearn: 0.6350907\ttotal: 41.7ms\tremaining: 5.17s\n",
      "8:\tlearn: 0.6292116\ttotal: 44ms\tremaining: 4.84s\n",
      "9:\tlearn: 0.6229649\ttotal: 46.3ms\tremaining: 4.58s\n",
      "10:\tlearn: 0.6163531\ttotal: 48.5ms\tremaining: 4.36s\n",
      "11:\tlearn: 0.6108215\ttotal: 50.8ms\tremaining: 4.18s\n",
      "12:\tlearn: 0.6041695\ttotal: 53.1ms\tremaining: 4.03s\n",
      "13:\tlearn: 0.5982242\ttotal: 55.4ms\tremaining: 3.9s\n",
      "14:\tlearn: 0.5927282\ttotal: 57.7ms\tremaining: 3.79s\n",
      "15:\tlearn: 0.5867491\ttotal: 60ms\tremaining: 3.69s\n",
      "16:\tlearn: 0.5808922\ttotal: 62.3ms\tremaining: 3.6s\n",
      "17:\tlearn: 0.5754379\ttotal: 64.6ms\tremaining: 3.52s\n",
      "18:\tlearn: 0.5703322\ttotal: 66.7ms\tremaining: 3.44s\n",
      "19:\tlearn: 0.5651439\ttotal: 69ms\tremaining: 3.38s\n",
      "20:\tlearn: 0.5601818\ttotal: 71.3ms\tremaining: 3.33s\n",
      "21:\tlearn: 0.5545453\ttotal: 73.6ms\tremaining: 3.27s\n",
      "22:\tlearn: 0.5496413\ttotal: 76ms\tremaining: 3.23s\n",
      "23:\tlearn: 0.5448607\ttotal: 78.3ms\tremaining: 3.19s\n",
      "24:\tlearn: 0.5393476\ttotal: 80.7ms\tremaining: 3.15s\n",
      "25:\tlearn: 0.5361838\ttotal: 82.9ms\tremaining: 3.11s\n",
      "26:\tlearn: 0.5310685\ttotal: 85.3ms\tremaining: 3.07s\n",
      "27:\tlearn: 0.5267652\ttotal: 87.6ms\tremaining: 3.04s\n",
      "28:\tlearn: 0.5220569\ttotal: 89.9ms\tremaining: 3.01s\n",
      "29:\tlearn: 0.5172793\ttotal: 92.2ms\tremaining: 2.98s\n",
      "30:\tlearn: 0.5132903\ttotal: 94.5ms\tremaining: 2.96s\n",
      "31:\tlearn: 0.5092097\ttotal: 96.8ms\tremaining: 2.93s\n",
      "32:\tlearn: 0.5050178\ttotal: 99.1ms\tremaining: 2.9s\n",
      "33:\tlearn: 0.5006095\ttotal: 102ms\tremaining: 2.88s\n",
      "34:\tlearn: 0.4960476\ttotal: 104ms\tremaining: 2.86s\n",
      "35:\tlearn: 0.4921130\ttotal: 106ms\tremaining: 2.84s\n",
      "36:\tlearn: 0.4880355\ttotal: 108ms\tremaining: 2.82s\n",
      "37:\tlearn: 0.4842799\ttotal: 111ms\tremaining: 2.8s\n",
      "38:\tlearn: 0.4805074\ttotal: 113ms\tremaining: 2.78s\n",
      "39:\tlearn: 0.4766170\ttotal: 115ms\tremaining: 2.76s\n",
      "40:\tlearn: 0.4733041\ttotal: 117ms\tremaining: 2.75s\n",
      "41:\tlearn: 0.4700945\ttotal: 120ms\tremaining: 2.73s\n",
      "42:\tlearn: 0.4661737\ttotal: 122ms\tremaining: 2.71s\n",
      "43:\tlearn: 0.4637196\ttotal: 124ms\tremaining: 2.7s\n",
      "44:\tlearn: 0.4602510\ttotal: 127ms\tremaining: 2.68s\n",
      "45:\tlearn: 0.4572325\ttotal: 129ms\tremaining: 2.67s\n",
      "46:\tlearn: 0.4546650\ttotal: 131ms\tremaining: 2.65s\n",
      "47:\tlearn: 0.4523278\ttotal: 133ms\tremaining: 2.64s\n",
      "48:\tlearn: 0.4494673\ttotal: 136ms\tremaining: 2.63s\n",
      "49:\tlearn: 0.4461533\ttotal: 138ms\tremaining: 2.62s\n",
      "50:\tlearn: 0.4428981\ttotal: 140ms\tremaining: 2.61s\n",
      "51:\tlearn: 0.4400352\ttotal: 142ms\tremaining: 2.6s\n",
      "52:\tlearn: 0.4367519\ttotal: 145ms\tremaining: 2.58s\n",
      "53:\tlearn: 0.4336585\ttotal: 147ms\tremaining: 2.57s\n",
      "54:\tlearn: 0.4307435\ttotal: 150ms\tremaining: 2.57s\n",
      "55:\tlearn: 0.4277997\ttotal: 152ms\tremaining: 2.56s\n",
      "56:\tlearn: 0.4252362\ttotal: 154ms\tremaining: 2.55s\n",
      "57:\tlearn: 0.4223149\ttotal: 157ms\tremaining: 2.54s\n",
      "58:\tlearn: 0.4195132\ttotal: 159ms\tremaining: 2.54s\n",
      "59:\tlearn: 0.4172356\ttotal: 161ms\tremaining: 2.53s\n",
      "60:\tlearn: 0.4162508\ttotal: 164ms\tremaining: 2.52s\n",
      "61:\tlearn: 0.4143415\ttotal: 166ms\tremaining: 2.51s\n",
      "62:\tlearn: 0.4121531\ttotal: 168ms\tremaining: 2.5s\n",
      "63:\tlearn: 0.4094593\ttotal: 170ms\tremaining: 2.49s\n",
      "64:\tlearn: 0.4066539\ttotal: 173ms\tremaining: 2.48s\n",
      "65:\tlearn: 0.4058377\ttotal: 175ms\tremaining: 2.48s\n",
      "66:\tlearn: 0.4041638\ttotal: 177ms\tremaining: 2.47s\n",
      "67:\tlearn: 0.4017009\ttotal: 180ms\tremaining: 2.46s\n",
      "68:\tlearn: 0.3991196\ttotal: 182ms\tremaining: 2.46s\n",
      "69:\tlearn: 0.3962684\ttotal: 185ms\tremaining: 2.46s\n",
      "70:\tlearn: 0.3951148\ttotal: 188ms\tremaining: 2.46s\n",
      "71:\tlearn: 0.3929849\ttotal: 190ms\tremaining: 2.45s\n",
      "72:\tlearn: 0.3911868\ttotal: 193ms\tremaining: 2.45s\n",
      "73:\tlearn: 0.3894769\ttotal: 195ms\tremaining: 2.44s\n",
      "74:\tlearn: 0.3884566\ttotal: 197ms\tremaining: 2.43s\n",
      "75:\tlearn: 0.3862914\ttotal: 200ms\tremaining: 2.43s\n",
      "76:\tlearn: 0.3851796\ttotal: 202ms\tremaining: 2.42s\n",
      "77:\tlearn: 0.3835934\ttotal: 204ms\tremaining: 2.42s\n",
      "78:\tlearn: 0.3816334\ttotal: 207ms\tremaining: 2.41s\n",
      "79:\tlearn: 0.3801346\ttotal: 209ms\tremaining: 2.4s\n",
      "80:\tlearn: 0.3788427\ttotal: 211ms\tremaining: 2.4s\n",
      "81:\tlearn: 0.3776081\ttotal: 214ms\tremaining: 2.39s\n",
      "82:\tlearn: 0.3753712\ttotal: 216ms\tremaining: 2.38s\n",
      "83:\tlearn: 0.3737312\ttotal: 218ms\tremaining: 2.38s\n",
      "84:\tlearn: 0.3726405\ttotal: 220ms\tremaining: 2.37s\n",
      "85:\tlearn: 0.3713648\ttotal: 223ms\tremaining: 2.37s\n",
      "86:\tlearn: 0.3702063\ttotal: 225ms\tremaining: 2.36s\n",
      "87:\tlearn: 0.3684163\ttotal: 227ms\tremaining: 2.35s\n",
      "88:\tlearn: 0.3674609\ttotal: 230ms\tremaining: 2.35s\n",
      "89:\tlearn: 0.3657452\ttotal: 232ms\tremaining: 2.34s\n",
      "90:\tlearn: 0.3648028\ttotal: 234ms\tremaining: 2.34s\n",
      "91:\tlearn: 0.3638543\ttotal: 236ms\tremaining: 2.33s\n",
      "92:\tlearn: 0.3613907\ttotal: 239ms\tremaining: 2.33s\n",
      "93:\tlearn: 0.3598357\ttotal: 241ms\tremaining: 2.32s\n",
      "94:\tlearn: 0.3581375\ttotal: 243ms\tremaining: 2.32s\n",
      "95:\tlearn: 0.3563744\ttotal: 246ms\tremaining: 2.31s\n",
      "96:\tlearn: 0.3551553\ttotal: 248ms\tremaining: 2.31s\n",
      "97:\tlearn: 0.3540184\ttotal: 250ms\tremaining: 2.3s\n",
      "98:\tlearn: 0.3533657\ttotal: 253ms\tremaining: 2.3s\n",
      "99:\tlearn: 0.3522311\ttotal: 255ms\tremaining: 2.29s\n",
      "100:\tlearn: 0.3512731\ttotal: 257ms\tremaining: 2.29s\n",
      "101:\tlearn: 0.3498960\ttotal: 259ms\tremaining: 2.28s\n",
      "102:\tlearn: 0.3487942\ttotal: 262ms\tremaining: 2.28s\n",
      "103:\tlearn: 0.3473434\ttotal: 264ms\tremaining: 2.27s\n",
      "104:\tlearn: 0.3460501\ttotal: 266ms\tremaining: 2.27s\n",
      "105:\tlearn: 0.3451224\ttotal: 269ms\tremaining: 2.26s\n",
      "106:\tlearn: 0.3436175\ttotal: 271ms\tremaining: 2.26s\n",
      "107:\tlearn: 0.3427452\ttotal: 273ms\tremaining: 2.26s\n",
      "108:\tlearn: 0.3418414\ttotal: 276ms\tremaining: 2.25s\n",
      "109:\tlearn: 0.3410490\ttotal: 278ms\tremaining: 2.25s\n",
      "110:\tlearn: 0.3394869\ttotal: 280ms\tremaining: 2.24s\n",
      "111:\tlearn: 0.3378480\ttotal: 282ms\tremaining: 2.24s\n",
      "112:\tlearn: 0.3368567\ttotal: 285ms\tremaining: 2.23s\n",
      "113:\tlearn: 0.3361824\ttotal: 287ms\tremaining: 2.23s\n",
      "114:\tlearn: 0.3348014\ttotal: 289ms\tremaining: 2.23s\n",
      "115:\tlearn: 0.3338158\ttotal: 292ms\tremaining: 2.22s\n",
      "116:\tlearn: 0.3328402\ttotal: 294ms\tremaining: 2.22s\n",
      "117:\tlearn: 0.3314195\ttotal: 296ms\tremaining: 2.21s\n",
      "118:\tlearn: 0.3301301\ttotal: 298ms\tremaining: 2.21s\n",
      "119:\tlearn: 0.3292301\ttotal: 301ms\tremaining: 2.21s\n",
      "120:\tlearn: 0.3283395\ttotal: 303ms\tremaining: 2.2s\n",
      "121:\tlearn: 0.3272437\ttotal: 305ms\tremaining: 2.2s\n",
      "122:\tlearn: 0.3255826\ttotal: 308ms\tremaining: 2.19s\n",
      "123:\tlearn: 0.3250338\ttotal: 310ms\tremaining: 2.19s\n",
      "124:\tlearn: 0.3234966\ttotal: 312ms\tremaining: 2.18s\n",
      "125:\tlearn: 0.3225437\ttotal: 314ms\tremaining: 2.18s\n",
      "126:\tlearn: 0.3212772\ttotal: 317ms\tremaining: 2.18s\n",
      "127:\tlearn: 0.3199203\ttotal: 319ms\tremaining: 2.17s\n",
      "128:\tlearn: 0.3187660\ttotal: 321ms\tremaining: 2.17s\n",
      "129:\tlearn: 0.3178817\ttotal: 324ms\tremaining: 2.17s\n",
      "130:\tlearn: 0.3168679\ttotal: 326ms\tremaining: 2.16s\n",
      "131:\tlearn: 0.3161337\ttotal: 328ms\tremaining: 2.16s\n",
      "132:\tlearn: 0.3153298\ttotal: 331ms\tremaining: 2.15s\n",
      "133:\tlearn: 0.3140123\ttotal: 333ms\tremaining: 2.15s\n",
      "134:\tlearn: 0.3131514\ttotal: 335ms\tremaining: 2.15s\n",
      "135:\tlearn: 0.3115874\ttotal: 338ms\tremaining: 2.14s\n",
      "136:\tlearn: 0.3109101\ttotal: 340ms\tremaining: 2.14s\n",
      "137:\tlearn: 0.3099512\ttotal: 342ms\tremaining: 2.13s\n",
      "138:\tlearn: 0.3090774\ttotal: 344ms\tremaining: 2.13s\n",
      "139:\tlearn: 0.3083362\ttotal: 346ms\tremaining: 2.13s\n",
      "140:\tlearn: 0.3074432\ttotal: 349ms\tremaining: 2.12s\n",
      "141:\tlearn: 0.3064237\ttotal: 351ms\tremaining: 2.12s\n",
      "142:\tlearn: 0.3054136\ttotal: 353ms\tremaining: 2.12s\n",
      "143:\tlearn: 0.3048045\ttotal: 355ms\tremaining: 2.11s\n",
      "144:\tlearn: 0.3038728\ttotal: 358ms\tremaining: 2.11s\n",
      "145:\tlearn: 0.3030458\ttotal: 360ms\tremaining: 2.1s\n",
      "146:\tlearn: 0.3022024\ttotal: 363ms\tremaining: 2.1s\n",
      "147:\tlearn: 0.3013468\ttotal: 365ms\tremaining: 2.1s\n",
      "148:\tlearn: 0.3006446\ttotal: 368ms\tremaining: 2.1s\n",
      "149:\tlearn: 0.3000625\ttotal: 370ms\tremaining: 2.1s\n",
      "150:\tlearn: 0.2995466\ttotal: 373ms\tremaining: 2.1s\n",
      "151:\tlearn: 0.2979771\ttotal: 375ms\tremaining: 2.09s\n",
      "152:\tlearn: 0.2972536\ttotal: 378ms\tremaining: 2.09s\n",
      "153:\tlearn: 0.2966007\ttotal: 380ms\tremaining: 2.09s\n",
      "154:\tlearn: 0.2955568\ttotal: 383ms\tremaining: 2.09s\n",
      "155:\tlearn: 0.2948868\ttotal: 385ms\tremaining: 2.08s\n",
      "156:\tlearn: 0.2939221\ttotal: 388ms\tremaining: 2.08s\n",
      "157:\tlearn: 0.2930350\ttotal: 390ms\tremaining: 2.08s\n",
      "158:\tlearn: 0.2922936\ttotal: 392ms\tremaining: 2.07s\n",
      "159:\tlearn: 0.2914582\ttotal: 394ms\tremaining: 2.07s\n",
      "160:\tlearn: 0.2904646\ttotal: 397ms\tremaining: 2.07s\n",
      "161:\tlearn: 0.2898287\ttotal: 399ms\tremaining: 2.06s\n",
      "162:\tlearn: 0.2891300\ttotal: 401ms\tremaining: 2.06s\n",
      "163:\tlearn: 0.2884584\ttotal: 404ms\tremaining: 2.06s\n",
      "164:\tlearn: 0.2877431\ttotal: 406ms\tremaining: 2.06s\n",
      "165:\tlearn: 0.2871306\ttotal: 408ms\tremaining: 2.05s\n",
      "166:\tlearn: 0.2861945\ttotal: 411ms\tremaining: 2.05s\n",
      "167:\tlearn: 0.2856648\ttotal: 413ms\tremaining: 2.05s\n",
      "168:\tlearn: 0.2846270\ttotal: 416ms\tremaining: 2.04s\n",
      "169:\tlearn: 0.2832737\ttotal: 418ms\tremaining: 2.04s\n",
      "170:\tlearn: 0.2821308\ttotal: 420ms\tremaining: 2.04s\n",
      "171:\tlearn: 0.2812468\ttotal: 423ms\tremaining: 2.03s\n",
      "172:\tlearn: 0.2806679\ttotal: 425ms\tremaining: 2.03s\n",
      "173:\tlearn: 0.2798039\ttotal: 427ms\tremaining: 2.03s\n",
      "174:\tlearn: 0.2791332\ttotal: 429ms\tremaining: 2.02s\n",
      "175:\tlearn: 0.2785439\ttotal: 432ms\tremaining: 2.02s\n",
      "176:\tlearn: 0.2779671\ttotal: 434ms\tremaining: 2.02s\n",
      "177:\tlearn: 0.2771924\ttotal: 436ms\tremaining: 2.02s\n",
      "178:\tlearn: 0.2765975\ttotal: 439ms\tremaining: 2.01s\n",
      "179:\tlearn: 0.2758818\ttotal: 441ms\tremaining: 2.01s\n",
      "180:\tlearn: 0.2751740\ttotal: 443ms\tremaining: 2.01s\n",
      "181:\tlearn: 0.2743008\ttotal: 446ms\tremaining: 2s\n",
      "182:\tlearn: 0.2737219\ttotal: 448ms\tremaining: 2s\n",
      "183:\tlearn: 0.2729910\ttotal: 450ms\tremaining: 2s\n",
      "184:\tlearn: 0.2724294\ttotal: 453ms\tremaining: 1.99s\n",
      "185:\tlearn: 0.2719228\ttotal: 455ms\tremaining: 1.99s\n",
      "186:\tlearn: 0.2710631\ttotal: 458ms\tremaining: 1.99s\n",
      "187:\tlearn: 0.2702008\ttotal: 460ms\tremaining: 1.99s\n",
      "188:\tlearn: 0.2692182\ttotal: 462ms\tremaining: 1.98s\n",
      "189:\tlearn: 0.2683718\ttotal: 465ms\tremaining: 1.98s\n",
      "190:\tlearn: 0.2677650\ttotal: 467ms\tremaining: 1.98s\n",
      "191:\tlearn: 0.2670194\ttotal: 469ms\tremaining: 1.97s\n",
      "192:\tlearn: 0.2662873\ttotal: 472ms\tremaining: 1.97s\n",
      "193:\tlearn: 0.2653502\ttotal: 474ms\tremaining: 1.97s\n",
      "194:\tlearn: 0.2648776\ttotal: 476ms\tremaining: 1.97s\n",
      "195:\tlearn: 0.2642539\ttotal: 479ms\tremaining: 1.96s\n",
      "196:\tlearn: 0.2637396\ttotal: 481ms\tremaining: 1.96s\n",
      "197:\tlearn: 0.2632496\ttotal: 483ms\tremaining: 1.96s\n",
      "198:\tlearn: 0.2628205\ttotal: 486ms\tremaining: 1.95s\n",
      "199:\tlearn: 0.2622687\ttotal: 488ms\tremaining: 1.95s\n",
      "200:\tlearn: 0.2618379\ttotal: 490ms\tremaining: 1.95s\n",
      "201:\tlearn: 0.2614091\ttotal: 493ms\tremaining: 1.95s\n",
      "202:\tlearn: 0.2609736\ttotal: 495ms\tremaining: 1.94s\n",
      "203:\tlearn: 0.2604257\ttotal: 497ms\tremaining: 1.94s\n",
      "204:\tlearn: 0.2598973\ttotal: 499ms\tremaining: 1.94s\n",
      "205:\tlearn: 0.2593794\ttotal: 502ms\tremaining: 1.93s\n",
      "206:\tlearn: 0.2587467\ttotal: 504ms\tremaining: 1.93s\n",
      "207:\tlearn: 0.2581653\ttotal: 506ms\tremaining: 1.93s\n",
      "208:\tlearn: 0.2576717\ttotal: 509ms\tremaining: 1.93s\n",
      "209:\tlearn: 0.2570515\ttotal: 511ms\tremaining: 1.92s\n",
      "210:\tlearn: 0.2566007\ttotal: 513ms\tremaining: 1.92s\n",
      "211:\tlearn: 0.2561234\ttotal: 516ms\tremaining: 1.92s\n",
      "212:\tlearn: 0.2554460\ttotal: 518ms\tremaining: 1.91s\n",
      "213:\tlearn: 0.2549459\ttotal: 520ms\tremaining: 1.91s\n",
      "214:\tlearn: 0.2544130\ttotal: 523ms\tremaining: 1.91s\n",
      "215:\tlearn: 0.2534906\ttotal: 525ms\tremaining: 1.91s\n",
      "216:\tlearn: 0.2529824\ttotal: 527ms\tremaining: 1.9s\n",
      "217:\tlearn: 0.2524661\ttotal: 529ms\tremaining: 1.9s\n",
      "218:\tlearn: 0.2517196\ttotal: 532ms\tremaining: 1.9s\n",
      "219:\tlearn: 0.2510975\ttotal: 534ms\tremaining: 1.89s\n",
      "220:\tlearn: 0.2504462\ttotal: 537ms\tremaining: 1.89s\n",
      "221:\tlearn: 0.2498778\ttotal: 539ms\tremaining: 1.89s\n",
      "222:\tlearn: 0.2493448\ttotal: 541ms\tremaining: 1.89s\n"
     ]
    },
    {
     "name": "stdout",
     "output_type": "stream",
     "text": [
      "223:\tlearn: 0.2488740\ttotal: 544ms\tremaining: 1.88s\n",
      "224:\tlearn: 0.2484539\ttotal: 546ms\tremaining: 1.88s\n",
      "225:\tlearn: 0.2479909\ttotal: 549ms\tremaining: 1.88s\n",
      "226:\tlearn: 0.2475900\ttotal: 552ms\tremaining: 1.88s\n",
      "227:\tlearn: 0.2471571\ttotal: 554ms\tremaining: 1.88s\n",
      "228:\tlearn: 0.2465010\ttotal: 557ms\tremaining: 1.87s\n",
      "229:\tlearn: 0.2459588\ttotal: 559ms\tremaining: 1.87s\n",
      "230:\tlearn: 0.2455176\ttotal: 561ms\tremaining: 1.87s\n",
      "231:\tlearn: 0.2448655\ttotal: 564ms\tremaining: 1.86s\n",
      "232:\tlearn: 0.2443131\ttotal: 566ms\tremaining: 1.86s\n",
      "233:\tlearn: 0.2435618\ttotal: 568ms\tremaining: 1.86s\n",
      "234:\tlearn: 0.2431139\ttotal: 571ms\tremaining: 1.86s\n",
      "235:\tlearn: 0.2427961\ttotal: 573ms\tremaining: 1.85s\n",
      "236:\tlearn: 0.2422762\ttotal: 575ms\tremaining: 1.85s\n",
      "237:\tlearn: 0.2416224\ttotal: 577ms\tremaining: 1.85s\n",
      "238:\tlearn: 0.2410635\ttotal: 580ms\tremaining: 1.85s\n",
      "239:\tlearn: 0.2404638\ttotal: 582ms\tremaining: 1.84s\n",
      "240:\tlearn: 0.2394755\ttotal: 584ms\tremaining: 1.84s\n",
      "241:\tlearn: 0.2388844\ttotal: 587ms\tremaining: 1.84s\n",
      "242:\tlearn: 0.2385482\ttotal: 589ms\tremaining: 1.83s\n",
      "243:\tlearn: 0.2381009\ttotal: 591ms\tremaining: 1.83s\n",
      "244:\tlearn: 0.2377245\ttotal: 594ms\tremaining: 1.83s\n",
      "245:\tlearn: 0.2373298\ttotal: 596ms\tremaining: 1.83s\n",
      "246:\tlearn: 0.2368404\ttotal: 598ms\tremaining: 1.82s\n",
      "247:\tlearn: 0.2359766\ttotal: 601ms\tremaining: 1.82s\n",
      "248:\tlearn: 0.2354521\ttotal: 603ms\tremaining: 1.82s\n",
      "249:\tlearn: 0.2348946\ttotal: 605ms\tremaining: 1.82s\n",
      "250:\tlearn: 0.2343355\ttotal: 608ms\tremaining: 1.81s\n",
      "251:\tlearn: 0.2340088\ttotal: 610ms\tremaining: 1.81s\n",
      "252:\tlearn: 0.2335158\ttotal: 612ms\tremaining: 1.81s\n",
      "253:\tlearn: 0.2330961\ttotal: 615ms\tremaining: 1.8s\n",
      "254:\tlearn: 0.2325372\ttotal: 617ms\tremaining: 1.8s\n",
      "255:\tlearn: 0.2321023\ttotal: 619ms\tremaining: 1.8s\n",
      "256:\tlearn: 0.2317836\ttotal: 622ms\tremaining: 1.8s\n",
      "257:\tlearn: 0.2313813\ttotal: 624ms\tremaining: 1.79s\n",
      "258:\tlearn: 0.2305767\ttotal: 626ms\tremaining: 1.79s\n",
      "259:\tlearn: 0.2301461\ttotal: 628ms\tremaining: 1.79s\n",
      "260:\tlearn: 0.2297841\ttotal: 631ms\tremaining: 1.78s\n",
      "261:\tlearn: 0.2292536\ttotal: 633ms\tremaining: 1.78s\n",
      "262:\tlearn: 0.2288171\ttotal: 635ms\tremaining: 1.78s\n",
      "263:\tlearn: 0.2282812\ttotal: 637ms\tremaining: 1.78s\n",
      "264:\tlearn: 0.2280255\ttotal: 640ms\tremaining: 1.77s\n",
      "265:\tlearn: 0.2276668\ttotal: 642ms\tremaining: 1.77s\n",
      "266:\tlearn: 0.2271539\ttotal: 644ms\tremaining: 1.77s\n",
      "267:\tlearn: 0.2266733\ttotal: 647ms\tremaining: 1.77s\n",
      "268:\tlearn: 0.2261379\ttotal: 649ms\tremaining: 1.76s\n",
      "269:\tlearn: 0.2255439\ttotal: 652ms\tremaining: 1.76s\n",
      "270:\tlearn: 0.2249237\ttotal: 654ms\tremaining: 1.76s\n",
      "271:\tlearn: 0.2239423\ttotal: 656ms\tremaining: 1.76s\n",
      "272:\tlearn: 0.2233921\ttotal: 659ms\tremaining: 1.75s\n",
      "273:\tlearn: 0.2228380\ttotal: 661ms\tremaining: 1.75s\n",
      "274:\tlearn: 0.2223836\ttotal: 663ms\tremaining: 1.75s\n",
      "275:\tlearn: 0.2219128\ttotal: 666ms\tremaining: 1.75s\n",
      "276:\tlearn: 0.2215738\ttotal: 668ms\tremaining: 1.74s\n",
      "277:\tlearn: 0.2212034\ttotal: 670ms\tremaining: 1.74s\n",
      "278:\tlearn: 0.2207853\ttotal: 673ms\tremaining: 1.74s\n",
      "279:\tlearn: 0.2202369\ttotal: 675ms\tremaining: 1.74s\n",
      "280:\tlearn: 0.2200463\ttotal: 677ms\tremaining: 1.73s\n",
      "281:\tlearn: 0.2196713\ttotal: 680ms\tremaining: 1.73s\n",
      "282:\tlearn: 0.2193771\ttotal: 682ms\tremaining: 1.73s\n",
      "283:\tlearn: 0.2189567\ttotal: 684ms\tremaining: 1.73s\n",
      "284:\tlearn: 0.2182227\ttotal: 687ms\tremaining: 1.72s\n",
      "285:\tlearn: 0.2177206\ttotal: 689ms\tremaining: 1.72s\n",
      "286:\tlearn: 0.2173228\ttotal: 692ms\tremaining: 1.72s\n",
      "287:\tlearn: 0.2169142\ttotal: 694ms\tremaining: 1.71s\n",
      "288:\tlearn: 0.2163682\ttotal: 696ms\tremaining: 1.71s\n",
      "289:\tlearn: 0.2161108\ttotal: 699ms\tremaining: 1.71s\n",
      "290:\tlearn: 0.2157100\ttotal: 701ms\tremaining: 1.71s\n",
      "291:\tlearn: 0.2153150\ttotal: 703ms\tremaining: 1.71s\n",
      "292:\tlearn: 0.2149200\ttotal: 706ms\tremaining: 1.7s\n",
      "293:\tlearn: 0.2144893\ttotal: 708ms\tremaining: 1.7s\n",
      "294:\tlearn: 0.2141244\ttotal: 711ms\tremaining: 1.7s\n",
      "295:\tlearn: 0.2137289\ttotal: 713ms\tremaining: 1.7s\n",
      "296:\tlearn: 0.2132820\ttotal: 715ms\tremaining: 1.69s\n",
      "297:\tlearn: 0.2129532\ttotal: 718ms\tremaining: 1.69s\n",
      "298:\tlearn: 0.2123097\ttotal: 720ms\tremaining: 1.69s\n",
      "299:\tlearn: 0.2120512\ttotal: 723ms\tremaining: 1.69s\n",
      "300:\tlearn: 0.2116173\ttotal: 725ms\tremaining: 1.68s\n",
      "301:\tlearn: 0.2112149\ttotal: 728ms\tremaining: 1.68s\n",
      "302:\tlearn: 0.2109077\ttotal: 730ms\tremaining: 1.68s\n",
      "303:\tlearn: 0.2102991\ttotal: 733ms\tremaining: 1.68s\n",
      "304:\tlearn: 0.2098130\ttotal: 736ms\tremaining: 1.68s\n",
      "305:\tlearn: 0.2094895\ttotal: 738ms\tremaining: 1.67s\n",
      "306:\tlearn: 0.2091477\ttotal: 741ms\tremaining: 1.67s\n",
      "307:\tlearn: 0.2087051\ttotal: 743ms\tremaining: 1.67s\n",
      "308:\tlearn: 0.2082784\ttotal: 745ms\tremaining: 1.67s\n",
      "309:\tlearn: 0.2079112\ttotal: 748ms\tremaining: 1.66s\n",
      "310:\tlearn: 0.2074311\ttotal: 750ms\tremaining: 1.66s\n",
      "311:\tlearn: 0.2069773\ttotal: 753ms\tremaining: 1.66s\n",
      "312:\tlearn: 0.2066565\ttotal: 755ms\tremaining: 1.66s\n",
      "313:\tlearn: 0.2062705\ttotal: 757ms\tremaining: 1.65s\n",
      "314:\tlearn: 0.2058569\ttotal: 760ms\tremaining: 1.65s\n",
      "315:\tlearn: 0.2053440\ttotal: 762ms\tremaining: 1.65s\n",
      "316:\tlearn: 0.2050252\ttotal: 764ms\tremaining: 1.65s\n",
      "317:\tlearn: 0.2046559\ttotal: 767ms\tremaining: 1.64s\n",
      "318:\tlearn: 0.2043784\ttotal: 769ms\tremaining: 1.64s\n",
      "319:\tlearn: 0.2038930\ttotal: 771ms\tremaining: 1.64s\n",
      "320:\tlearn: 0.2035027\ttotal: 774ms\tremaining: 1.64s\n",
      "321:\tlearn: 0.2031978\ttotal: 776ms\tremaining: 1.63s\n",
      "322:\tlearn: 0.2029016\ttotal: 778ms\tremaining: 1.63s\n",
      "323:\tlearn: 0.2025844\ttotal: 781ms\tremaining: 1.63s\n",
      "324:\tlearn: 0.2022270\ttotal: 783ms\tremaining: 1.63s\n",
      "325:\tlearn: 0.2017951\ttotal: 785ms\tremaining: 1.62s\n",
      "326:\tlearn: 0.2014593\ttotal: 788ms\tremaining: 1.62s\n",
      "327:\tlearn: 0.2009223\ttotal: 790ms\tremaining: 1.62s\n",
      "328:\tlearn: 0.2005498\ttotal: 792ms\tremaining: 1.62s\n",
      "329:\tlearn: 0.2002613\ttotal: 795ms\tremaining: 1.61s\n",
      "330:\tlearn: 0.1999059\ttotal: 797ms\tremaining: 1.61s\n",
      "331:\tlearn: 0.1996674\ttotal: 799ms\tremaining: 1.61s\n",
      "332:\tlearn: 0.1992417\ttotal: 802ms\tremaining: 1.61s\n",
      "333:\tlearn: 0.1987665\ttotal: 804ms\tremaining: 1.6s\n",
      "334:\tlearn: 0.1984227\ttotal: 807ms\tremaining: 1.6s\n",
      "335:\tlearn: 0.1981920\ttotal: 809ms\tremaining: 1.6s\n",
      "336:\tlearn: 0.1978524\ttotal: 811ms\tremaining: 1.6s\n",
      "337:\tlearn: 0.1975623\ttotal: 814ms\tremaining: 1.59s\n",
      "338:\tlearn: 0.1972671\ttotal: 816ms\tremaining: 1.59s\n",
      "339:\tlearn: 0.1968617\ttotal: 818ms\tremaining: 1.59s\n",
      "340:\tlearn: 0.1963591\ttotal: 821ms\tremaining: 1.59s\n",
      "341:\tlearn: 0.1960548\ttotal: 823ms\tremaining: 1.58s\n",
      "342:\tlearn: 0.1957619\ttotal: 825ms\tremaining: 1.58s\n",
      "343:\tlearn: 0.1955201\ttotal: 828ms\tremaining: 1.58s\n",
      "344:\tlearn: 0.1951189\ttotal: 830ms\tremaining: 1.57s\n",
      "345:\tlearn: 0.1948075\ttotal: 832ms\tremaining: 1.57s\n",
      "346:\tlearn: 0.1945084\ttotal: 835ms\tremaining: 1.57s\n",
      "347:\tlearn: 0.1941279\ttotal: 837ms\tremaining: 1.57s\n",
      "348:\tlearn: 0.1938498\ttotal: 839ms\tremaining: 1.56s\n",
      "349:\tlearn: 0.1935477\ttotal: 842ms\tremaining: 1.56s\n",
      "350:\tlearn: 0.1932426\ttotal: 844ms\tremaining: 1.56s\n",
      "351:\tlearn: 0.1928115\ttotal: 846ms\tremaining: 1.56s\n",
      "352:\tlearn: 0.1922985\ttotal: 848ms\tremaining: 1.55s\n",
      "353:\tlearn: 0.1918843\ttotal: 851ms\tremaining: 1.55s\n",
      "354:\tlearn: 0.1914506\ttotal: 853ms\tremaining: 1.55s\n",
      "355:\tlearn: 0.1911360\ttotal: 855ms\tremaining: 1.55s\n",
      "356:\tlearn: 0.1907230\ttotal: 858ms\tremaining: 1.54s\n",
      "357:\tlearn: 0.1902980\ttotal: 860ms\tremaining: 1.54s\n",
      "358:\tlearn: 0.1898624\ttotal: 862ms\tremaining: 1.54s\n",
      "359:\tlearn: 0.1895241\ttotal: 864ms\tremaining: 1.54s\n",
      "360:\tlearn: 0.1892547\ttotal: 867ms\tremaining: 1.53s\n",
      "361:\tlearn: 0.1889966\ttotal: 869ms\tremaining: 1.53s\n",
      "362:\tlearn: 0.1886252\ttotal: 871ms\tremaining: 1.53s\n",
      "363:\tlearn: 0.1883507\ttotal: 874ms\tremaining: 1.53s\n",
      "364:\tlearn: 0.1879804\ttotal: 876ms\tremaining: 1.52s\n",
      "365:\tlearn: 0.1876610\ttotal: 878ms\tremaining: 1.52s\n",
      "366:\tlearn: 0.1873555\ttotal: 881ms\tremaining: 1.52s\n",
      "367:\tlearn: 0.1869550\ttotal: 883ms\tremaining: 1.52s\n",
      "368:\tlearn: 0.1867266\ttotal: 885ms\tremaining: 1.51s\n",
      "369:\tlearn: 0.1863572\ttotal: 887ms\tremaining: 1.51s\n",
      "370:\tlearn: 0.1859756\ttotal: 890ms\tremaining: 1.51s\n",
      "371:\tlearn: 0.1856469\ttotal: 892ms\tremaining: 1.5s\n",
      "372:\tlearn: 0.1854117\ttotal: 895ms\tremaining: 1.5s\n",
      "373:\tlearn: 0.1850517\ttotal: 897ms\tremaining: 1.5s\n",
      "374:\tlearn: 0.1847233\ttotal: 899ms\tremaining: 1.5s\n",
      "375:\tlearn: 0.1845186\ttotal: 902ms\tremaining: 1.5s\n",
      "376:\tlearn: 0.1841740\ttotal: 904ms\tremaining: 1.49s\n",
      "377:\tlearn: 0.1839477\ttotal: 906ms\tremaining: 1.49s\n",
      "378:\tlearn: 0.1836861\ttotal: 909ms\tremaining: 1.49s\n",
      "379:\tlearn: 0.1831668\ttotal: 911ms\tremaining: 1.49s\n",
      "380:\tlearn: 0.1824848\ttotal: 914ms\tremaining: 1.48s\n",
      "381:\tlearn: 0.1821594\ttotal: 916ms\tremaining: 1.48s\n",
      "382:\tlearn: 0.1817994\ttotal: 919ms\tremaining: 1.48s\n",
      "383:\tlearn: 0.1814000\ttotal: 921ms\tremaining: 1.48s\n",
      "384:\tlearn: 0.1810667\ttotal: 923ms\tremaining: 1.48s\n",
      "385:\tlearn: 0.1808254\ttotal: 926ms\tremaining: 1.47s\n",
      "386:\tlearn: 0.1805271\ttotal: 928ms\tremaining: 1.47s\n",
      "387:\tlearn: 0.1802585\ttotal: 930ms\tremaining: 1.47s\n",
      "388:\tlearn: 0.1800211\ttotal: 933ms\tremaining: 1.46s\n",
      "389:\tlearn: 0.1797653\ttotal: 935ms\tremaining: 1.46s\n",
      "390:\tlearn: 0.1793220\ttotal: 937ms\tremaining: 1.46s\n",
      "391:\tlearn: 0.1791261\ttotal: 940ms\tremaining: 1.46s\n",
      "392:\tlearn: 0.1787014\ttotal: 942ms\tremaining: 1.45s\n",
      "393:\tlearn: 0.1782807\ttotal: 944ms\tremaining: 1.45s\n",
      "394:\tlearn: 0.1779435\ttotal: 947ms\tremaining: 1.45s\n",
      "395:\tlearn: 0.1776803\ttotal: 949ms\tremaining: 1.45s\n",
      "396:\tlearn: 0.1773537\ttotal: 951ms\tremaining: 1.44s\n",
      "397:\tlearn: 0.1770689\ttotal: 954ms\tremaining: 1.44s\n",
      "398:\tlearn: 0.1768734\ttotal: 956ms\tremaining: 1.44s\n",
      "399:\tlearn: 0.1766473\ttotal: 959ms\tremaining: 1.44s\n",
      "400:\tlearn: 0.1762539\ttotal: 961ms\tremaining: 1.44s\n",
      "401:\tlearn: 0.1759498\ttotal: 963ms\tremaining: 1.43s\n",
      "402:\tlearn: 0.1755704\ttotal: 966ms\tremaining: 1.43s\n",
      "403:\tlearn: 0.1752152\ttotal: 968ms\tremaining: 1.43s\n",
      "404:\tlearn: 0.1749344\ttotal: 971ms\tremaining: 1.43s\n",
      "405:\tlearn: 0.1747453\ttotal: 974ms\tremaining: 1.43s\n",
      "406:\tlearn: 0.1743496\ttotal: 977ms\tremaining: 1.42s\n",
      "407:\tlearn: 0.1739858\ttotal: 979ms\tremaining: 1.42s\n",
      "408:\tlearn: 0.1737548\ttotal: 982ms\tremaining: 1.42s\n",
      "409:\tlearn: 0.1732842\ttotal: 985ms\tremaining: 1.42s\n",
      "410:\tlearn: 0.1729785\ttotal: 988ms\tremaining: 1.42s\n",
      "411:\tlearn: 0.1726687\ttotal: 990ms\tremaining: 1.41s\n",
      "412:\tlearn: 0.1724134\ttotal: 993ms\tremaining: 1.41s\n",
      "413:\tlearn: 0.1721179\ttotal: 996ms\tremaining: 1.41s\n",
      "414:\tlearn: 0.1718616\ttotal: 998ms\tremaining: 1.41s\n",
      "415:\tlearn: 0.1716113\ttotal: 1s\tremaining: 1.41s\n",
      "416:\tlearn: 0.1711925\ttotal: 1s\tremaining: 1.4s\n",
      "417:\tlearn: 0.1708392\ttotal: 1.01s\tremaining: 1.4s\n",
      "418:\tlearn: 0.1705222\ttotal: 1.01s\tremaining: 1.4s\n",
      "419:\tlearn: 0.1702642\ttotal: 1.01s\tremaining: 1.4s\n",
      "420:\tlearn: 0.1699561\ttotal: 1.01s\tremaining: 1.39s\n",
      "421:\tlearn: 0.1696801\ttotal: 1.02s\tremaining: 1.39s\n",
      "422:\tlearn: 0.1692760\ttotal: 1.02s\tremaining: 1.39s\n",
      "423:\tlearn: 0.1690016\ttotal: 1.02s\tremaining: 1.39s\n",
      "424:\tlearn: 0.1687448\ttotal: 1.02s\tremaining: 1.39s\n",
      "425:\tlearn: 0.1683919\ttotal: 1.03s\tremaining: 1.39s\n",
      "426:\tlearn: 0.1681648\ttotal: 1.03s\tremaining: 1.38s\n",
      "427:\tlearn: 0.1678232\ttotal: 1.03s\tremaining: 1.38s\n",
      "428:\tlearn: 0.1674829\ttotal: 1.03s\tremaining: 1.38s\n",
      "429:\tlearn: 0.1670583\ttotal: 1.04s\tremaining: 1.38s\n",
      "430:\tlearn: 0.1667877\ttotal: 1.04s\tremaining: 1.37s\n",
      "431:\tlearn: 0.1665082\ttotal: 1.04s\tremaining: 1.37s\n",
      "432:\tlearn: 0.1663114\ttotal: 1.05s\tremaining: 1.37s\n",
      "433:\tlearn: 0.1660385\ttotal: 1.05s\tremaining: 1.37s\n",
      "434:\tlearn: 0.1657931\ttotal: 1.05s\tremaining: 1.36s\n",
      "435:\tlearn: 0.1655262\ttotal: 1.05s\tremaining: 1.36s\n",
      "436:\tlearn: 0.1652118\ttotal: 1.05s\tremaining: 1.36s\n",
      "437:\tlearn: 0.1649840\ttotal: 1.06s\tremaining: 1.36s\n",
      "438:\tlearn: 0.1647428\ttotal: 1.06s\tremaining: 1.35s\n",
      "439:\tlearn: 0.1644615\ttotal: 1.06s\tremaining: 1.35s\n",
      "440:\tlearn: 0.1643126\ttotal: 1.06s\tremaining: 1.35s\n",
      "441:\tlearn: 0.1639711\ttotal: 1.07s\tremaining: 1.35s\n",
      "442:\tlearn: 0.1636854\ttotal: 1.07s\tremaining: 1.34s\n",
      "443:\tlearn: 0.1633590\ttotal: 1.07s\tremaining: 1.34s\n",
      "444:\tlearn: 0.1630548\ttotal: 1.08s\tremaining: 1.34s\n",
      "445:\tlearn: 0.1628695\ttotal: 1.08s\tremaining: 1.34s\n",
      "446:\tlearn: 0.1626243\ttotal: 1.08s\tremaining: 1.34s\n",
      "447:\tlearn: 0.1623552\ttotal: 1.08s\tremaining: 1.34s\n",
      "448:\tlearn: 0.1618929\ttotal: 1.09s\tremaining: 1.33s\n"
     ]
    },
    {
     "name": "stdout",
     "output_type": "stream",
     "text": [
      "449:\tlearn: 0.1615898\ttotal: 1.09s\tremaining: 1.33s\n",
      "450:\tlearn: 0.1613644\ttotal: 1.09s\tremaining: 1.33s\n",
      "451:\tlearn: 0.1611169\ttotal: 1.1s\tremaining: 1.33s\n",
      "452:\tlearn: 0.1608763\ttotal: 1.1s\tremaining: 1.33s\n",
      "453:\tlearn: 0.1605381\ttotal: 1.1s\tremaining: 1.32s\n",
      "454:\tlearn: 0.1602725\ttotal: 1.1s\tremaining: 1.32s\n",
      "455:\tlearn: 0.1599964\ttotal: 1.11s\tremaining: 1.32s\n",
      "456:\tlearn: 0.1598034\ttotal: 1.11s\tremaining: 1.32s\n",
      "457:\tlearn: 0.1595663\ttotal: 1.11s\tremaining: 1.32s\n",
      "458:\tlearn: 0.1593096\ttotal: 1.12s\tremaining: 1.31s\n",
      "459:\tlearn: 0.1590135\ttotal: 1.12s\tremaining: 1.31s\n",
      "460:\tlearn: 0.1587711\ttotal: 1.12s\tremaining: 1.31s\n",
      "461:\tlearn: 0.1585028\ttotal: 1.12s\tremaining: 1.31s\n",
      "462:\tlearn: 0.1582057\ttotal: 1.13s\tremaining: 1.31s\n",
      "463:\tlearn: 0.1579468\ttotal: 1.13s\tremaining: 1.3s\n",
      "464:\tlearn: 0.1577260\ttotal: 1.13s\tremaining: 1.3s\n",
      "465:\tlearn: 0.1574199\ttotal: 1.13s\tremaining: 1.3s\n",
      "466:\tlearn: 0.1570987\ttotal: 1.14s\tremaining: 1.29s\n",
      "467:\tlearn: 0.1568545\ttotal: 1.14s\tremaining: 1.29s\n",
      "468:\tlearn: 0.1566902\ttotal: 1.14s\tremaining: 1.29s\n",
      "469:\tlearn: 0.1564583\ttotal: 1.14s\tremaining: 1.29s\n",
      "470:\tlearn: 0.1562550\ttotal: 1.14s\tremaining: 1.28s\n",
      "471:\tlearn: 0.1560598\ttotal: 1.15s\tremaining: 1.28s\n",
      "472:\tlearn: 0.1558597\ttotal: 1.15s\tremaining: 1.28s\n",
      "473:\tlearn: 0.1556611\ttotal: 1.15s\tremaining: 1.28s\n",
      "474:\tlearn: 0.1554191\ttotal: 1.15s\tremaining: 1.27s\n",
      "475:\tlearn: 0.1552104\ttotal: 1.16s\tremaining: 1.27s\n",
      "476:\tlearn: 0.1549577\ttotal: 1.16s\tremaining: 1.27s\n",
      "477:\tlearn: 0.1546870\ttotal: 1.16s\tremaining: 1.27s\n",
      "478:\tlearn: 0.1544218\ttotal: 1.16s\tremaining: 1.26s\n",
      "479:\tlearn: 0.1541278\ttotal: 1.17s\tremaining: 1.26s\n",
      "480:\tlearn: 0.1538918\ttotal: 1.17s\tremaining: 1.26s\n",
      "481:\tlearn: 0.1537321\ttotal: 1.17s\tremaining: 1.26s\n",
      "482:\tlearn: 0.1535065\ttotal: 1.17s\tremaining: 1.25s\n",
      "483:\tlearn: 0.1532606\ttotal: 1.17s\tremaining: 1.25s\n",
      "484:\tlearn: 0.1530028\ttotal: 1.18s\tremaining: 1.25s\n",
      "485:\tlearn: 0.1527455\ttotal: 1.18s\tremaining: 1.25s\n",
      "486:\tlearn: 0.1525054\ttotal: 1.18s\tremaining: 1.24s\n",
      "487:\tlearn: 0.1522779\ttotal: 1.18s\tremaining: 1.24s\n",
      "488:\tlearn: 0.1520533\ttotal: 1.19s\tremaining: 1.24s\n",
      "489:\tlearn: 0.1517743\ttotal: 1.19s\tremaining: 1.24s\n",
      "490:\tlearn: 0.1515840\ttotal: 1.19s\tremaining: 1.23s\n",
      "491:\tlearn: 0.1513027\ttotal: 1.19s\tremaining: 1.23s\n",
      "492:\tlearn: 0.1510872\ttotal: 1.19s\tremaining: 1.23s\n",
      "493:\tlearn: 0.1509410\ttotal: 1.2s\tremaining: 1.23s\n",
      "494:\tlearn: 0.1506533\ttotal: 1.2s\tremaining: 1.22s\n",
      "495:\tlearn: 0.1503623\ttotal: 1.2s\tremaining: 1.22s\n",
      "496:\tlearn: 0.1501325\ttotal: 1.2s\tremaining: 1.22s\n",
      "497:\tlearn: 0.1499525\ttotal: 1.21s\tremaining: 1.22s\n",
      "498:\tlearn: 0.1497909\ttotal: 1.21s\tremaining: 1.21s\n",
      "499:\tlearn: 0.1496370\ttotal: 1.21s\tremaining: 1.21s\n",
      "500:\tlearn: 0.1493052\ttotal: 1.21s\tremaining: 1.21s\n",
      "501:\tlearn: 0.1491547\ttotal: 1.22s\tremaining: 1.21s\n",
      "502:\tlearn: 0.1490016\ttotal: 1.22s\tremaining: 1.2s\n",
      "503:\tlearn: 0.1486784\ttotal: 1.22s\tremaining: 1.2s\n",
      "504:\tlearn: 0.1484380\ttotal: 1.22s\tremaining: 1.2s\n",
      "505:\tlearn: 0.1481021\ttotal: 1.22s\tremaining: 1.2s\n",
      "506:\tlearn: 0.1477893\ttotal: 1.23s\tremaining: 1.19s\n",
      "507:\tlearn: 0.1474701\ttotal: 1.23s\tremaining: 1.19s\n",
      "508:\tlearn: 0.1472102\ttotal: 1.23s\tremaining: 1.19s\n",
      "509:\tlearn: 0.1470387\ttotal: 1.23s\tremaining: 1.19s\n",
      "510:\tlearn: 0.1469009\ttotal: 1.24s\tremaining: 1.18s\n",
      "511:\tlearn: 0.1466864\ttotal: 1.24s\tremaining: 1.18s\n",
      "512:\tlearn: 0.1463934\ttotal: 1.24s\tremaining: 1.18s\n",
      "513:\tlearn: 0.1461832\ttotal: 1.24s\tremaining: 1.18s\n",
      "514:\tlearn: 0.1459552\ttotal: 1.25s\tremaining: 1.17s\n",
      "515:\tlearn: 0.1455745\ttotal: 1.25s\tremaining: 1.17s\n",
      "516:\tlearn: 0.1452049\ttotal: 1.25s\tremaining: 1.17s\n",
      "517:\tlearn: 0.1449565\ttotal: 1.25s\tremaining: 1.17s\n",
      "518:\tlearn: 0.1447534\ttotal: 1.25s\tremaining: 1.16s\n",
      "519:\tlearn: 0.1445501\ttotal: 1.26s\tremaining: 1.16s\n",
      "520:\tlearn: 0.1442990\ttotal: 1.26s\tremaining: 1.16s\n",
      "521:\tlearn: 0.1440582\ttotal: 1.26s\tremaining: 1.16s\n",
      "522:\tlearn: 0.1437175\ttotal: 1.26s\tremaining: 1.15s\n",
      "523:\tlearn: 0.1435369\ttotal: 1.27s\tremaining: 1.15s\n",
      "524:\tlearn: 0.1432239\ttotal: 1.27s\tremaining: 1.15s\n",
      "525:\tlearn: 0.1430121\ttotal: 1.27s\tremaining: 1.15s\n",
      "526:\tlearn: 0.1428616\ttotal: 1.27s\tremaining: 1.14s\n",
      "527:\tlearn: 0.1426536\ttotal: 1.28s\tremaining: 1.14s\n",
      "528:\tlearn: 0.1423655\ttotal: 1.28s\tremaining: 1.14s\n",
      "529:\tlearn: 0.1422100\ttotal: 1.28s\tremaining: 1.14s\n",
      "530:\tlearn: 0.1420566\ttotal: 1.28s\tremaining: 1.13s\n",
      "531:\tlearn: 0.1418714\ttotal: 1.29s\tremaining: 1.13s\n",
      "532:\tlearn: 0.1416186\ttotal: 1.29s\tremaining: 1.13s\n",
      "533:\tlearn: 0.1414674\ttotal: 1.29s\tremaining: 1.13s\n",
      "534:\tlearn: 0.1412754\ttotal: 1.29s\tremaining: 1.13s\n",
      "535:\tlearn: 0.1410080\ttotal: 1.3s\tremaining: 1.12s\n",
      "536:\tlearn: 0.1407770\ttotal: 1.3s\tremaining: 1.12s\n",
      "537:\tlearn: 0.1405567\ttotal: 1.3s\tremaining: 1.12s\n",
      "538:\tlearn: 0.1404104\ttotal: 1.3s\tremaining: 1.11s\n",
      "539:\tlearn: 0.1402076\ttotal: 1.31s\tremaining: 1.11s\n",
      "540:\tlearn: 0.1400348\ttotal: 1.31s\tremaining: 1.11s\n",
      "541:\tlearn: 0.1396990\ttotal: 1.31s\tremaining: 1.11s\n",
      "542:\tlearn: 0.1395561\ttotal: 1.31s\tremaining: 1.1s\n",
      "543:\tlearn: 0.1392564\ttotal: 1.31s\tremaining: 1.1s\n",
      "544:\tlearn: 0.1390866\ttotal: 1.32s\tremaining: 1.1s\n",
      "545:\tlearn: 0.1388987\ttotal: 1.32s\tremaining: 1.1s\n",
      "546:\tlearn: 0.1387442\ttotal: 1.32s\tremaining: 1.09s\n",
      "547:\tlearn: 0.1385405\ttotal: 1.32s\tremaining: 1.09s\n",
      "548:\tlearn: 0.1383654\ttotal: 1.33s\tremaining: 1.09s\n",
      "549:\tlearn: 0.1380669\ttotal: 1.33s\tremaining: 1.09s\n",
      "550:\tlearn: 0.1379122\ttotal: 1.33s\tremaining: 1.08s\n",
      "551:\tlearn: 0.1376594\ttotal: 1.33s\tremaining: 1.08s\n",
      "552:\tlearn: 0.1374894\ttotal: 1.34s\tremaining: 1.08s\n",
      "553:\tlearn: 0.1370360\ttotal: 1.34s\tremaining: 1.08s\n",
      "554:\tlearn: 0.1368172\ttotal: 1.34s\tremaining: 1.07s\n",
      "555:\tlearn: 0.1366187\ttotal: 1.34s\tremaining: 1.07s\n",
      "556:\tlearn: 0.1365082\ttotal: 1.35s\tremaining: 1.07s\n",
      "557:\tlearn: 0.1363170\ttotal: 1.35s\tremaining: 1.07s\n",
      "558:\tlearn: 0.1360382\ttotal: 1.35s\tremaining: 1.06s\n",
      "559:\tlearn: 0.1359398\ttotal: 1.35s\tremaining: 1.06s\n",
      "560:\tlearn: 0.1357450\ttotal: 1.36s\tremaining: 1.06s\n",
      "561:\tlearn: 0.1355028\ttotal: 1.36s\tremaining: 1.06s\n",
      "562:\tlearn: 0.1352653\ttotal: 1.36s\tremaining: 1.06s\n",
      "563:\tlearn: 0.1350760\ttotal: 1.36s\tremaining: 1.05s\n",
      "564:\tlearn: 0.1348246\ttotal: 1.36s\tremaining: 1.05s\n",
      "565:\tlearn: 0.1347221\ttotal: 1.37s\tremaining: 1.05s\n",
      "566:\tlearn: 0.1343782\ttotal: 1.37s\tremaining: 1.05s\n",
      "567:\tlearn: 0.1341763\ttotal: 1.37s\tremaining: 1.04s\n",
      "568:\tlearn: 0.1339346\ttotal: 1.38s\tremaining: 1.04s\n",
      "569:\tlearn: 0.1336872\ttotal: 1.38s\tremaining: 1.04s\n",
      "570:\tlearn: 0.1334595\ttotal: 1.38s\tremaining: 1.04s\n",
      "571:\tlearn: 0.1332730\ttotal: 1.38s\tremaining: 1.03s\n",
      "572:\tlearn: 0.1331043\ttotal: 1.38s\tremaining: 1.03s\n",
      "573:\tlearn: 0.1328963\ttotal: 1.39s\tremaining: 1.03s\n",
      "574:\tlearn: 0.1326605\ttotal: 1.39s\tremaining: 1.03s\n",
      "575:\tlearn: 0.1324457\ttotal: 1.39s\tremaining: 1.02s\n",
      "576:\tlearn: 0.1321707\ttotal: 1.39s\tremaining: 1.02s\n",
      "577:\tlearn: 0.1319954\ttotal: 1.4s\tremaining: 1.02s\n",
      "578:\tlearn: 0.1318621\ttotal: 1.4s\tremaining: 1.02s\n",
      "579:\tlearn: 0.1317101\ttotal: 1.4s\tremaining: 1.01s\n",
      "580:\tlearn: 0.1314536\ttotal: 1.4s\tremaining: 1.01s\n",
      "581:\tlearn: 0.1312434\ttotal: 1.41s\tremaining: 1.01s\n",
      "582:\tlearn: 0.1310765\ttotal: 1.41s\tremaining: 1.01s\n",
      "583:\tlearn: 0.1309127\ttotal: 1.41s\tremaining: 1s\n",
      "584:\tlearn: 0.1307370\ttotal: 1.41s\tremaining: 1s\n",
      "585:\tlearn: 0.1305827\ttotal: 1.42s\tremaining: 1000ms\n",
      "586:\tlearn: 0.1303815\ttotal: 1.42s\tremaining: 998ms\n",
      "587:\tlearn: 0.1300567\ttotal: 1.42s\tremaining: 995ms\n",
      "588:\tlearn: 0.1298190\ttotal: 1.42s\tremaining: 993ms\n",
      "589:\tlearn: 0.1295813\ttotal: 1.42s\tremaining: 990ms\n",
      "590:\tlearn: 0.1291954\ttotal: 1.43s\tremaining: 988ms\n",
      "591:\tlearn: 0.1290600\ttotal: 1.43s\tremaining: 985ms\n",
      "592:\tlearn: 0.1288376\ttotal: 1.43s\tremaining: 983ms\n",
      "593:\tlearn: 0.1286906\ttotal: 1.43s\tremaining: 980ms\n",
      "594:\tlearn: 0.1285527\ttotal: 1.44s\tremaining: 978ms\n",
      "595:\tlearn: 0.1283364\ttotal: 1.44s\tremaining: 975ms\n",
      "596:\tlearn: 0.1282097\ttotal: 1.44s\tremaining: 973ms\n",
      "597:\tlearn: 0.1279793\ttotal: 1.44s\tremaining: 970ms\n",
      "598:\tlearn: 0.1278079\ttotal: 1.45s\tremaining: 968ms\n",
      "599:\tlearn: 0.1276340\ttotal: 1.45s\tremaining: 966ms\n",
      "600:\tlearn: 0.1274667\ttotal: 1.45s\tremaining: 963ms\n",
      "601:\tlearn: 0.1273138\ttotal: 1.45s\tremaining: 961ms\n",
      "602:\tlearn: 0.1271755\ttotal: 1.46s\tremaining: 959ms\n",
      "603:\tlearn: 0.1270296\ttotal: 1.46s\tremaining: 956ms\n",
      "604:\tlearn: 0.1269068\ttotal: 1.46s\tremaining: 954ms\n",
      "605:\tlearn: 0.1265061\ttotal: 1.46s\tremaining: 952ms\n",
      "606:\tlearn: 0.1263296\ttotal: 1.47s\tremaining: 949ms\n",
      "607:\tlearn: 0.1261524\ttotal: 1.47s\tremaining: 947ms\n",
      "608:\tlearn: 0.1259223\ttotal: 1.47s\tremaining: 945ms\n",
      "609:\tlearn: 0.1257555\ttotal: 1.47s\tremaining: 942ms\n",
      "610:\tlearn: 0.1255992\ttotal: 1.48s\tremaining: 940ms\n",
      "611:\tlearn: 0.1254672\ttotal: 1.48s\tremaining: 937ms\n",
      "612:\tlearn: 0.1253107\ttotal: 1.48s\tremaining: 935ms\n",
      "613:\tlearn: 0.1250579\ttotal: 1.48s\tremaining: 932ms\n",
      "614:\tlearn: 0.1248666\ttotal: 1.49s\tremaining: 930ms\n",
      "615:\tlearn: 0.1247902\ttotal: 1.49s\tremaining: 927ms\n",
      "616:\tlearn: 0.1245530\ttotal: 1.49s\tremaining: 925ms\n",
      "617:\tlearn: 0.1244148\ttotal: 1.49s\tremaining: 923ms\n",
      "618:\tlearn: 0.1242359\ttotal: 1.5s\tremaining: 920ms\n",
      "619:\tlearn: 0.1240918\ttotal: 1.5s\tremaining: 918ms\n",
      "620:\tlearn: 0.1238415\ttotal: 1.5s\tremaining: 915ms\n",
      "621:\tlearn: 0.1235992\ttotal: 1.5s\tremaining: 913ms\n",
      "622:\tlearn: 0.1234627\ttotal: 1.5s\tremaining: 911ms\n",
      "623:\tlearn: 0.1232658\ttotal: 1.51s\tremaining: 908ms\n",
      "624:\tlearn: 0.1231207\ttotal: 1.51s\tremaining: 906ms\n",
      "625:\tlearn: 0.1228787\ttotal: 1.51s\tremaining: 903ms\n",
      "626:\tlearn: 0.1226354\ttotal: 1.51s\tremaining: 901ms\n",
      "627:\tlearn: 0.1225134\ttotal: 1.52s\tremaining: 898ms\n",
      "628:\tlearn: 0.1223076\ttotal: 1.52s\tremaining: 896ms\n",
      "629:\tlearn: 0.1221221\ttotal: 1.52s\tremaining: 893ms\n",
      "630:\tlearn: 0.1218915\ttotal: 1.52s\tremaining: 891ms\n",
      "631:\tlearn: 0.1217566\ttotal: 1.52s\tremaining: 889ms\n",
      "632:\tlearn: 0.1215783\ttotal: 1.53s\tremaining: 886ms\n",
      "633:\tlearn: 0.1214046\ttotal: 1.53s\tremaining: 884ms\n",
      "634:\tlearn: 0.1211724\ttotal: 1.53s\tremaining: 881ms\n",
      "635:\tlearn: 0.1209780\ttotal: 1.53s\tremaining: 879ms\n",
      "636:\tlearn: 0.1207826\ttotal: 1.54s\tremaining: 876ms\n",
      "637:\tlearn: 0.1205849\ttotal: 1.54s\tremaining: 874ms\n",
      "638:\tlearn: 0.1204833\ttotal: 1.54s\tremaining: 871ms\n",
      "639:\tlearn: 0.1203510\ttotal: 1.54s\tremaining: 869ms\n",
      "640:\tlearn: 0.1202377\ttotal: 1.55s\tremaining: 867ms\n",
      "641:\tlearn: 0.1200919\ttotal: 1.55s\tremaining: 864ms\n",
      "642:\tlearn: 0.1199974\ttotal: 1.55s\tremaining: 862ms\n",
      "643:\tlearn: 0.1197905\ttotal: 1.55s\tremaining: 859ms\n",
      "644:\tlearn: 0.1196460\ttotal: 1.56s\tremaining: 857ms\n",
      "645:\tlearn: 0.1194278\ttotal: 1.56s\tremaining: 854ms\n",
      "646:\tlearn: 0.1192048\ttotal: 1.56s\tremaining: 852ms\n",
      "647:\tlearn: 0.1189361\ttotal: 1.56s\tremaining: 849ms\n",
      "648:\tlearn: 0.1186876\ttotal: 1.56s\tremaining: 847ms\n",
      "649:\tlearn: 0.1184991\ttotal: 1.57s\tremaining: 845ms\n",
      "650:\tlearn: 0.1182467\ttotal: 1.57s\tremaining: 842ms\n",
      "651:\tlearn: 0.1180340\ttotal: 1.57s\tremaining: 840ms\n",
      "652:\tlearn: 0.1177827\ttotal: 1.57s\tremaining: 837ms\n",
      "653:\tlearn: 0.1175803\ttotal: 1.58s\tremaining: 835ms\n",
      "654:\tlearn: 0.1173849\ttotal: 1.58s\tremaining: 832ms\n",
      "655:\tlearn: 0.1171902\ttotal: 1.58s\tremaining: 830ms\n",
      "656:\tlearn: 0.1170263\ttotal: 1.58s\tremaining: 828ms\n",
      "657:\tlearn: 0.1168987\ttotal: 1.59s\tremaining: 825ms\n",
      "658:\tlearn: 0.1167151\ttotal: 1.59s\tremaining: 823ms\n",
      "659:\tlearn: 0.1165503\ttotal: 1.59s\tremaining: 820ms\n",
      "660:\tlearn: 0.1164244\ttotal: 1.59s\tremaining: 818ms\n",
      "661:\tlearn: 0.1162616\ttotal: 1.6s\tremaining: 815ms\n",
      "662:\tlearn: 0.1161670\ttotal: 1.6s\tremaining: 813ms\n",
      "663:\tlearn: 0.1159564\ttotal: 1.6s\tremaining: 810ms\n",
      "664:\tlearn: 0.1157078\ttotal: 1.6s\tremaining: 808ms\n",
      "665:\tlearn: 0.1154509\ttotal: 1.61s\tremaining: 806ms\n",
      "666:\tlearn: 0.1152357\ttotal: 1.61s\tremaining: 803ms\n",
      "667:\tlearn: 0.1150189\ttotal: 1.61s\tremaining: 801ms\n",
      "668:\tlearn: 0.1148420\ttotal: 1.61s\tremaining: 798ms\n",
      "669:\tlearn: 0.1146738\ttotal: 1.61s\tremaining: 796ms\n",
      "670:\tlearn: 0.1145351\ttotal: 1.62s\tremaining: 793ms\n",
      "671:\tlearn: 0.1144024\ttotal: 1.62s\tremaining: 791ms\n",
      "672:\tlearn: 0.1142780\ttotal: 1.62s\tremaining: 789ms\n",
      "673:\tlearn: 0.1141585\ttotal: 1.63s\tremaining: 786ms\n",
      "674:\tlearn: 0.1140217\ttotal: 1.63s\tremaining: 784ms\n",
      "675:\tlearn: 0.1138599\ttotal: 1.63s\tremaining: 781ms\n",
      "676:\tlearn: 0.1136334\ttotal: 1.63s\tremaining: 779ms\n"
     ]
    },
    {
     "name": "stdout",
     "output_type": "stream",
     "text": [
      "677:\tlearn: 0.1133717\ttotal: 1.64s\tremaining: 777ms\n",
      "678:\tlearn: 0.1132018\ttotal: 1.64s\tremaining: 774ms\n",
      "679:\tlearn: 0.1130147\ttotal: 1.64s\tremaining: 772ms\n",
      "680:\tlearn: 0.1128085\ttotal: 1.64s\tremaining: 770ms\n",
      "681:\tlearn: 0.1125440\ttotal: 1.65s\tremaining: 767ms\n",
      "682:\tlearn: 0.1123956\ttotal: 1.65s\tremaining: 765ms\n",
      "683:\tlearn: 0.1121916\ttotal: 1.65s\tremaining: 763ms\n",
      "684:\tlearn: 0.1120835\ttotal: 1.65s\tremaining: 760ms\n",
      "685:\tlearn: 0.1118975\ttotal: 1.66s\tremaining: 758ms\n",
      "686:\tlearn: 0.1116079\ttotal: 1.66s\tremaining: 755ms\n",
      "687:\tlearn: 0.1115230\ttotal: 1.66s\tremaining: 753ms\n",
      "688:\tlearn: 0.1112574\ttotal: 1.66s\tremaining: 750ms\n",
      "689:\tlearn: 0.1111313\ttotal: 1.66s\tremaining: 748ms\n",
      "690:\tlearn: 0.1108327\ttotal: 1.67s\tremaining: 745ms\n",
      "691:\tlearn: 0.1107079\ttotal: 1.67s\tremaining: 743ms\n",
      "692:\tlearn: 0.1105671\ttotal: 1.67s\tremaining: 741ms\n",
      "693:\tlearn: 0.1103459\ttotal: 1.67s\tremaining: 738ms\n",
      "694:\tlearn: 0.1102064\ttotal: 1.68s\tremaining: 736ms\n",
      "695:\tlearn: 0.1100792\ttotal: 1.68s\tremaining: 733ms\n",
      "696:\tlearn: 0.1099218\ttotal: 1.68s\tremaining: 731ms\n",
      "697:\tlearn: 0.1096994\ttotal: 1.68s\tremaining: 728ms\n",
      "698:\tlearn: 0.1095955\ttotal: 1.69s\tremaining: 726ms\n",
      "699:\tlearn: 0.1094717\ttotal: 1.69s\tremaining: 724ms\n",
      "700:\tlearn: 0.1093239\ttotal: 1.69s\tremaining: 721ms\n",
      "701:\tlearn: 0.1091709\ttotal: 1.69s\tremaining: 719ms\n",
      "702:\tlearn: 0.1090353\ttotal: 1.7s\tremaining: 716ms\n",
      "703:\tlearn: 0.1088627\ttotal: 1.7s\tremaining: 714ms\n",
      "704:\tlearn: 0.1087170\ttotal: 1.7s\tremaining: 711ms\n",
      "705:\tlearn: 0.1086237\ttotal: 1.7s\tremaining: 709ms\n",
      "706:\tlearn: 0.1084649\ttotal: 1.71s\tremaining: 707ms\n",
      "707:\tlearn: 0.1082524\ttotal: 1.71s\tremaining: 704ms\n",
      "708:\tlearn: 0.1080396\ttotal: 1.71s\tremaining: 702ms\n",
      "709:\tlearn: 0.1079140\ttotal: 1.71s\tremaining: 699ms\n",
      "710:\tlearn: 0.1077466\ttotal: 1.71s\tremaining: 697ms\n",
      "711:\tlearn: 0.1075357\ttotal: 1.72s\tremaining: 694ms\n",
      "712:\tlearn: 0.1074303\ttotal: 1.72s\tremaining: 692ms\n",
      "713:\tlearn: 0.1071925\ttotal: 1.72s\tremaining: 690ms\n",
      "714:\tlearn: 0.1070903\ttotal: 1.72s\tremaining: 687ms\n",
      "715:\tlearn: 0.1069062\ttotal: 1.73s\tremaining: 685ms\n",
      "716:\tlearn: 0.1066911\ttotal: 1.73s\tremaining: 682ms\n",
      "717:\tlearn: 0.1065646\ttotal: 1.73s\tremaining: 680ms\n",
      "718:\tlearn: 0.1063736\ttotal: 1.73s\tremaining: 678ms\n",
      "719:\tlearn: 0.1062111\ttotal: 1.74s\tremaining: 675ms\n",
      "720:\tlearn: 0.1060139\ttotal: 1.74s\tremaining: 673ms\n",
      "721:\tlearn: 0.1057776\ttotal: 1.74s\tremaining: 670ms\n",
      "722:\tlearn: 0.1056378\ttotal: 1.74s\tremaining: 668ms\n",
      "723:\tlearn: 0.1054290\ttotal: 1.75s\tremaining: 665ms\n",
      "724:\tlearn: 0.1053288\ttotal: 1.75s\tremaining: 663ms\n",
      "725:\tlearn: 0.1051575\ttotal: 1.75s\tremaining: 661ms\n",
      "726:\tlearn: 0.1049259\ttotal: 1.75s\tremaining: 658ms\n",
      "727:\tlearn: 0.1047193\ttotal: 1.75s\tremaining: 656ms\n",
      "728:\tlearn: 0.1045100\ttotal: 1.76s\tremaining: 653ms\n",
      "729:\tlearn: 0.1043744\ttotal: 1.76s\tremaining: 651ms\n",
      "730:\tlearn: 0.1042416\ttotal: 1.76s\tremaining: 648ms\n",
      "731:\tlearn: 0.1039917\ttotal: 1.76s\tremaining: 646ms\n",
      "732:\tlearn: 0.1037747\ttotal: 1.77s\tremaining: 644ms\n",
      "733:\tlearn: 0.1036247\ttotal: 1.77s\tremaining: 641ms\n",
      "734:\tlearn: 0.1035096\ttotal: 1.77s\tremaining: 639ms\n",
      "735:\tlearn: 0.1033224\ttotal: 1.77s\tremaining: 636ms\n",
      "736:\tlearn: 0.1031974\ttotal: 1.78s\tremaining: 634ms\n",
      "737:\tlearn: 0.1030366\ttotal: 1.78s\tremaining: 632ms\n",
      "738:\tlearn: 0.1028791\ttotal: 1.78s\tremaining: 629ms\n",
      "739:\tlearn: 0.1027231\ttotal: 1.78s\tremaining: 627ms\n",
      "740:\tlearn: 0.1025499\ttotal: 1.79s\tremaining: 624ms\n",
      "741:\tlearn: 0.1024370\ttotal: 1.79s\tremaining: 622ms\n",
      "742:\tlearn: 0.1022459\ttotal: 1.79s\tremaining: 620ms\n",
      "743:\tlearn: 0.1021753\ttotal: 1.79s\tremaining: 617ms\n",
      "744:\tlearn: 0.1020440\ttotal: 1.79s\tremaining: 615ms\n",
      "745:\tlearn: 0.1019005\ttotal: 1.8s\tremaining: 612ms\n",
      "746:\tlearn: 0.1017891\ttotal: 1.8s\tremaining: 610ms\n",
      "747:\tlearn: 0.1016360\ttotal: 1.8s\tremaining: 607ms\n",
      "748:\tlearn: 0.1014690\ttotal: 1.8s\tremaining: 605ms\n",
      "749:\tlearn: 0.1013527\ttotal: 1.81s\tremaining: 603ms\n",
      "750:\tlearn: 0.1012039\ttotal: 1.81s\tremaining: 600ms\n",
      "751:\tlearn: 0.1010926\ttotal: 1.81s\tremaining: 598ms\n",
      "752:\tlearn: 0.1008694\ttotal: 1.81s\tremaining: 595ms\n",
      "753:\tlearn: 0.1007854\ttotal: 1.82s\tremaining: 593ms\n",
      "754:\tlearn: 0.1005985\ttotal: 1.82s\tremaining: 591ms\n",
      "755:\tlearn: 0.1004092\ttotal: 1.82s\tremaining: 588ms\n",
      "756:\tlearn: 0.1002334\ttotal: 1.82s\tremaining: 586ms\n",
      "757:\tlearn: 0.1000653\ttotal: 1.83s\tremaining: 584ms\n",
      "758:\tlearn: 0.0999375\ttotal: 1.83s\tremaining: 581ms\n",
      "759:\tlearn: 0.0998399\ttotal: 1.83s\tremaining: 579ms\n",
      "760:\tlearn: 0.0997114\ttotal: 1.83s\tremaining: 576ms\n",
      "761:\tlearn: 0.0995141\ttotal: 1.84s\tremaining: 574ms\n",
      "762:\tlearn: 0.0993361\ttotal: 1.84s\tremaining: 572ms\n",
      "763:\tlearn: 0.0991691\ttotal: 1.84s\tremaining: 569ms\n",
      "764:\tlearn: 0.0990528\ttotal: 1.84s\tremaining: 567ms\n",
      "765:\tlearn: 0.0989140\ttotal: 1.85s\tremaining: 564ms\n",
      "766:\tlearn: 0.0987167\ttotal: 1.85s\tremaining: 562ms\n",
      "767:\tlearn: 0.0985891\ttotal: 1.85s\tremaining: 559ms\n",
      "768:\tlearn: 0.0984581\ttotal: 1.85s\tremaining: 557ms\n",
      "769:\tlearn: 0.0983795\ttotal: 1.86s\tremaining: 555ms\n",
      "770:\tlearn: 0.0981877\ttotal: 1.86s\tremaining: 552ms\n",
      "771:\tlearn: 0.0980286\ttotal: 1.86s\tremaining: 550ms\n",
      "772:\tlearn: 0.0978059\ttotal: 1.86s\tremaining: 547ms\n",
      "773:\tlearn: 0.0976233\ttotal: 1.87s\tremaining: 545ms\n",
      "774:\tlearn: 0.0975004\ttotal: 1.87s\tremaining: 543ms\n",
      "775:\tlearn: 0.0974112\ttotal: 1.87s\tremaining: 540ms\n",
      "776:\tlearn: 0.0972811\ttotal: 1.87s\tremaining: 538ms\n",
      "777:\tlearn: 0.0971438\ttotal: 1.88s\tremaining: 535ms\n",
      "778:\tlearn: 0.0969899\ttotal: 1.88s\tremaining: 533ms\n",
      "779:\tlearn: 0.0968855\ttotal: 1.88s\tremaining: 530ms\n",
      "780:\tlearn: 0.0967667\ttotal: 1.88s\tremaining: 528ms\n",
      "781:\tlearn: 0.0965391\ttotal: 1.89s\tremaining: 526ms\n",
      "782:\tlearn: 0.0964017\ttotal: 1.89s\tremaining: 523ms\n",
      "783:\tlearn: 0.0962280\ttotal: 1.89s\tremaining: 521ms\n",
      "784:\tlearn: 0.0961133\ttotal: 1.89s\tremaining: 518ms\n",
      "785:\tlearn: 0.0959083\ttotal: 1.89s\tremaining: 516ms\n",
      "786:\tlearn: 0.0957157\ttotal: 1.9s\tremaining: 513ms\n",
      "787:\tlearn: 0.0955662\ttotal: 1.9s\tremaining: 511ms\n",
      "788:\tlearn: 0.0954055\ttotal: 1.9s\tremaining: 509ms\n",
      "789:\tlearn: 0.0952298\ttotal: 1.9s\tremaining: 506ms\n",
      "790:\tlearn: 0.0950418\ttotal: 1.91s\tremaining: 504ms\n",
      "791:\tlearn: 0.0948415\ttotal: 1.91s\tremaining: 501ms\n",
      "792:\tlearn: 0.0946961\ttotal: 1.91s\tremaining: 499ms\n",
      "793:\tlearn: 0.0945296\ttotal: 1.91s\tremaining: 497ms\n",
      "794:\tlearn: 0.0943857\ttotal: 1.92s\tremaining: 494ms\n",
      "795:\tlearn: 0.0942213\ttotal: 1.92s\tremaining: 492ms\n",
      "796:\tlearn: 0.0941029\ttotal: 1.92s\tremaining: 489ms\n",
      "797:\tlearn: 0.0939418\ttotal: 1.92s\tremaining: 487ms\n",
      "798:\tlearn: 0.0937759\ttotal: 1.93s\tremaining: 484ms\n",
      "799:\tlearn: 0.0936329\ttotal: 1.93s\tremaining: 482ms\n",
      "800:\tlearn: 0.0934323\ttotal: 1.93s\tremaining: 480ms\n",
      "801:\tlearn: 0.0933115\ttotal: 1.93s\tremaining: 477ms\n",
      "802:\tlearn: 0.0931593\ttotal: 1.93s\tremaining: 475ms\n",
      "803:\tlearn: 0.0930146\ttotal: 1.94s\tremaining: 472ms\n",
      "804:\tlearn: 0.0928346\ttotal: 1.94s\tremaining: 470ms\n",
      "805:\tlearn: 0.0926789\ttotal: 1.94s\tremaining: 467ms\n",
      "806:\tlearn: 0.0925642\ttotal: 1.94s\tremaining: 465ms\n",
      "807:\tlearn: 0.0924452\ttotal: 1.95s\tremaining: 463ms\n",
      "808:\tlearn: 0.0922305\ttotal: 1.95s\tremaining: 460ms\n",
      "809:\tlearn: 0.0920766\ttotal: 1.95s\tremaining: 458ms\n",
      "810:\tlearn: 0.0919588\ttotal: 1.95s\tremaining: 455ms\n",
      "811:\tlearn: 0.0917689\ttotal: 1.96s\tremaining: 453ms\n",
      "812:\tlearn: 0.0916245\ttotal: 1.96s\tremaining: 450ms\n",
      "813:\tlearn: 0.0915026\ttotal: 1.96s\tremaining: 448ms\n",
      "814:\tlearn: 0.0913685\ttotal: 1.96s\tremaining: 446ms\n",
      "815:\tlearn: 0.0911666\ttotal: 1.97s\tremaining: 443ms\n",
      "816:\tlearn: 0.0910252\ttotal: 1.97s\tremaining: 441ms\n",
      "817:\tlearn: 0.0909029\ttotal: 1.97s\tremaining: 438ms\n",
      "818:\tlearn: 0.0908402\ttotal: 1.97s\tremaining: 436ms\n",
      "819:\tlearn: 0.0907192\ttotal: 1.97s\tremaining: 433ms\n",
      "820:\tlearn: 0.0906087\ttotal: 1.98s\tremaining: 431ms\n",
      "821:\tlearn: 0.0905103\ttotal: 1.98s\tremaining: 429ms\n",
      "822:\tlearn: 0.0903861\ttotal: 1.98s\tremaining: 426ms\n",
      "823:\tlearn: 0.0902050\ttotal: 1.98s\tremaining: 424ms\n",
      "824:\tlearn: 0.0900689\ttotal: 1.99s\tremaining: 421ms\n",
      "825:\tlearn: 0.0899724\ttotal: 1.99s\tremaining: 419ms\n",
      "826:\tlearn: 0.0898589\ttotal: 1.99s\tremaining: 416ms\n",
      "827:\tlearn: 0.0897394\ttotal: 1.99s\tremaining: 414ms\n",
      "828:\tlearn: 0.0895547\ttotal: 2s\tremaining: 412ms\n",
      "829:\tlearn: 0.0893766\ttotal: 2s\tremaining: 409ms\n",
      "830:\tlearn: 0.0892779\ttotal: 2s\tremaining: 407ms\n",
      "831:\tlearn: 0.0891069\ttotal: 2s\tremaining: 404ms\n",
      "832:\tlearn: 0.0888841\ttotal: 2s\tremaining: 402ms\n",
      "833:\tlearn: 0.0887554\ttotal: 2.01s\tremaining: 400ms\n",
      "834:\tlearn: 0.0886368\ttotal: 2.01s\tremaining: 397ms\n",
      "835:\tlearn: 0.0884486\ttotal: 2.01s\tremaining: 395ms\n",
      "836:\tlearn: 0.0882762\ttotal: 2.01s\tremaining: 392ms\n",
      "837:\tlearn: 0.0881248\ttotal: 2.02s\tremaining: 390ms\n",
      "838:\tlearn: 0.0879864\ttotal: 2.02s\tremaining: 388ms\n",
      "839:\tlearn: 0.0878081\ttotal: 2.02s\tremaining: 385ms\n",
      "840:\tlearn: 0.0876944\ttotal: 2.02s\tremaining: 383ms\n",
      "841:\tlearn: 0.0875047\ttotal: 2.03s\tremaining: 380ms\n",
      "842:\tlearn: 0.0873977\ttotal: 2.03s\tremaining: 378ms\n",
      "843:\tlearn: 0.0872683\ttotal: 2.03s\tremaining: 375ms\n",
      "844:\tlearn: 0.0871139\ttotal: 2.03s\tremaining: 373ms\n",
      "845:\tlearn: 0.0869742\ttotal: 2.04s\tremaining: 371ms\n",
      "846:\tlearn: 0.0868767\ttotal: 2.04s\tremaining: 368ms\n",
      "847:\tlearn: 0.0867091\ttotal: 2.04s\tremaining: 366ms\n",
      "848:\tlearn: 0.0865450\ttotal: 2.04s\tremaining: 363ms\n",
      "849:\tlearn: 0.0864441\ttotal: 2.04s\tremaining: 361ms\n",
      "850:\tlearn: 0.0862205\ttotal: 2.05s\tremaining: 359ms\n",
      "851:\tlearn: 0.0861008\ttotal: 2.05s\tremaining: 356ms\n",
      "852:\tlearn: 0.0859704\ttotal: 2.05s\tremaining: 354ms\n",
      "853:\tlearn: 0.0857812\ttotal: 2.05s\tremaining: 351ms\n",
      "854:\tlearn: 0.0855986\ttotal: 2.06s\tremaining: 349ms\n",
      "855:\tlearn: 0.0855000\ttotal: 2.06s\tremaining: 346ms\n",
      "856:\tlearn: 0.0853226\ttotal: 2.06s\tremaining: 344ms\n",
      "857:\tlearn: 0.0851950\ttotal: 2.06s\tremaining: 342ms\n",
      "858:\tlearn: 0.0850810\ttotal: 2.07s\tremaining: 339ms\n",
      "859:\tlearn: 0.0849596\ttotal: 2.07s\tremaining: 337ms\n",
      "860:\tlearn: 0.0847633\ttotal: 2.07s\tremaining: 334ms\n",
      "861:\tlearn: 0.0846089\ttotal: 2.07s\tremaining: 332ms\n",
      "862:\tlearn: 0.0844718\ttotal: 2.08s\tremaining: 330ms\n",
      "863:\tlearn: 0.0843118\ttotal: 2.08s\tremaining: 327ms\n",
      "864:\tlearn: 0.0841076\ttotal: 2.08s\tremaining: 325ms\n",
      "865:\tlearn: 0.0839302\ttotal: 2.08s\tremaining: 322ms\n",
      "866:\tlearn: 0.0838037\ttotal: 2.1s\tremaining: 321ms\n",
      "867:\tlearn: 0.0836544\ttotal: 2.1s\tremaining: 319ms\n",
      "868:\tlearn: 0.0835163\ttotal: 2.1s\tremaining: 317ms\n",
      "869:\tlearn: 0.0833639\ttotal: 2.1s\tremaining: 314ms\n",
      "870:\tlearn: 0.0832586\ttotal: 2.1s\tremaining: 312ms\n",
      "871:\tlearn: 0.0831446\ttotal: 2.11s\tremaining: 309ms\n",
      "872:\tlearn: 0.0829918\ttotal: 2.11s\tremaining: 307ms\n",
      "873:\tlearn: 0.0828450\ttotal: 2.11s\tremaining: 304ms\n",
      "874:\tlearn: 0.0826811\ttotal: 2.11s\tremaining: 302ms\n",
      "875:\tlearn: 0.0825347\ttotal: 2.12s\tremaining: 300ms\n",
      "876:\tlearn: 0.0823561\ttotal: 2.12s\tremaining: 297ms\n",
      "877:\tlearn: 0.0822428\ttotal: 2.12s\tremaining: 295ms\n",
      "878:\tlearn: 0.0820809\ttotal: 2.12s\tremaining: 292ms\n",
      "879:\tlearn: 0.0819480\ttotal: 2.13s\tremaining: 290ms\n",
      "880:\tlearn: 0.0818704\ttotal: 2.13s\tremaining: 288ms\n",
      "881:\tlearn: 0.0817141\ttotal: 2.13s\tremaining: 285ms\n",
      "882:\tlearn: 0.0815698\ttotal: 2.13s\tremaining: 283ms\n",
      "883:\tlearn: 0.0814668\ttotal: 2.14s\tremaining: 280ms\n",
      "884:\tlearn: 0.0813291\ttotal: 2.14s\tremaining: 278ms\n",
      "885:\tlearn: 0.0811302\ttotal: 2.14s\tremaining: 275ms\n",
      "886:\tlearn: 0.0810348\ttotal: 2.14s\tremaining: 273ms\n",
      "887:\tlearn: 0.0809417\ttotal: 2.15s\tremaining: 271ms\n",
      "888:\tlearn: 0.0807854\ttotal: 2.15s\tremaining: 268ms\n",
      "889:\tlearn: 0.0806694\ttotal: 2.15s\tremaining: 266ms\n",
      "890:\tlearn: 0.0806040\ttotal: 2.15s\tremaining: 263ms\n",
      "891:\tlearn: 0.0804981\ttotal: 2.15s\tremaining: 261ms\n",
      "892:\tlearn: 0.0803371\ttotal: 2.16s\tremaining: 259ms\n",
      "893:\tlearn: 0.0802592\ttotal: 2.16s\tremaining: 256ms\n",
      "894:\tlearn: 0.0801306\ttotal: 2.16s\tremaining: 254ms\n",
      "895:\tlearn: 0.0800088\ttotal: 2.16s\tremaining: 251ms\n",
      "896:\tlearn: 0.0799221\ttotal: 2.17s\tremaining: 249ms\n",
      "897:\tlearn: 0.0798208\ttotal: 2.17s\tremaining: 246ms\n",
      "898:\tlearn: 0.0797575\ttotal: 2.17s\tremaining: 244ms\n",
      "899:\tlearn: 0.0795833\ttotal: 2.17s\tremaining: 242ms\n",
      "900:\tlearn: 0.0794684\ttotal: 2.18s\tremaining: 239ms\n",
      "901:\tlearn: 0.0793358\ttotal: 2.18s\tremaining: 237ms\n"
     ]
    },
    {
     "name": "stdout",
     "output_type": "stream",
     "text": [
      "902:\tlearn: 0.0791942\ttotal: 2.19s\tremaining: 235ms\n",
      "903:\tlearn: 0.0790065\ttotal: 2.19s\tremaining: 233ms\n",
      "904:\tlearn: 0.0788920\ttotal: 2.19s\tremaining: 230ms\n",
      "905:\tlearn: 0.0786814\ttotal: 2.2s\tremaining: 228ms\n",
      "906:\tlearn: 0.0785546\ttotal: 2.2s\tremaining: 225ms\n",
      "907:\tlearn: 0.0783995\ttotal: 2.2s\tremaining: 223ms\n",
      "908:\tlearn: 0.0783111\ttotal: 2.2s\tremaining: 221ms\n",
      "909:\tlearn: 0.0781755\ttotal: 2.21s\tremaining: 218ms\n",
      "910:\tlearn: 0.0780074\ttotal: 2.21s\tremaining: 216ms\n",
      "911:\tlearn: 0.0778818\ttotal: 2.21s\tremaining: 213ms\n",
      "912:\tlearn: 0.0777453\ttotal: 2.21s\tremaining: 211ms\n",
      "913:\tlearn: 0.0776054\ttotal: 2.21s\tremaining: 208ms\n",
      "914:\tlearn: 0.0775148\ttotal: 2.22s\tremaining: 206ms\n",
      "915:\tlearn: 0.0774052\ttotal: 2.22s\tremaining: 204ms\n",
      "916:\tlearn: 0.0773151\ttotal: 2.22s\tremaining: 201ms\n",
      "917:\tlearn: 0.0772480\ttotal: 2.22s\tremaining: 199ms\n",
      "918:\tlearn: 0.0770963\ttotal: 2.23s\tremaining: 196ms\n",
      "919:\tlearn: 0.0769043\ttotal: 2.23s\tremaining: 194ms\n",
      "920:\tlearn: 0.0767357\ttotal: 2.23s\tremaining: 191ms\n",
      "921:\tlearn: 0.0765302\ttotal: 2.23s\tremaining: 189ms\n",
      "922:\tlearn: 0.0763614\ttotal: 2.24s\tremaining: 187ms\n",
      "923:\tlearn: 0.0762739\ttotal: 2.24s\tremaining: 184ms\n",
      "924:\tlearn: 0.0761637\ttotal: 2.24s\tremaining: 182ms\n",
      "925:\tlearn: 0.0760286\ttotal: 2.24s\tremaining: 179ms\n",
      "926:\tlearn: 0.0758796\ttotal: 2.25s\tremaining: 177ms\n",
      "927:\tlearn: 0.0757433\ttotal: 2.25s\tremaining: 174ms\n",
      "928:\tlearn: 0.0755864\ttotal: 2.25s\tremaining: 172ms\n",
      "929:\tlearn: 0.0754612\ttotal: 2.25s\tremaining: 170ms\n",
      "930:\tlearn: 0.0753358\ttotal: 2.25s\tremaining: 167ms\n",
      "931:\tlearn: 0.0752104\ttotal: 2.26s\tremaining: 165ms\n",
      "932:\tlearn: 0.0751146\ttotal: 2.26s\tremaining: 162ms\n",
      "933:\tlearn: 0.0750343\ttotal: 2.26s\tremaining: 160ms\n",
      "934:\tlearn: 0.0749075\ttotal: 2.27s\tremaining: 157ms\n",
      "935:\tlearn: 0.0747848\ttotal: 2.27s\tremaining: 155ms\n",
      "936:\tlearn: 0.0746564\ttotal: 2.27s\tremaining: 153ms\n",
      "937:\tlearn: 0.0744840\ttotal: 2.27s\tremaining: 150ms\n",
      "938:\tlearn: 0.0743009\ttotal: 2.27s\tremaining: 148ms\n",
      "939:\tlearn: 0.0742141\ttotal: 2.28s\tremaining: 145ms\n",
      "940:\tlearn: 0.0740824\ttotal: 2.28s\tremaining: 143ms\n",
      "941:\tlearn: 0.0739749\ttotal: 2.28s\tremaining: 140ms\n",
      "942:\tlearn: 0.0738680\ttotal: 2.28s\tremaining: 138ms\n",
      "943:\tlearn: 0.0737206\ttotal: 2.29s\tremaining: 136ms\n",
      "944:\tlearn: 0.0736042\ttotal: 2.29s\tremaining: 133ms\n",
      "945:\tlearn: 0.0734710\ttotal: 2.29s\tremaining: 131ms\n",
      "946:\tlearn: 0.0733944\ttotal: 2.29s\tremaining: 128ms\n",
      "947:\tlearn: 0.0732764\ttotal: 2.3s\tremaining: 126ms\n",
      "948:\tlearn: 0.0731125\ttotal: 2.3s\tremaining: 124ms\n",
      "949:\tlearn: 0.0729551\ttotal: 2.3s\tremaining: 121ms\n",
      "950:\tlearn: 0.0728013\ttotal: 2.3s\tremaining: 119ms\n",
      "951:\tlearn: 0.0725766\ttotal: 2.31s\tremaining: 116ms\n",
      "952:\tlearn: 0.0724005\ttotal: 2.31s\tremaining: 114ms\n",
      "953:\tlearn: 0.0722697\ttotal: 2.31s\tremaining: 111ms\n",
      "954:\tlearn: 0.0721463\ttotal: 2.31s\tremaining: 109ms\n",
      "955:\tlearn: 0.0720452\ttotal: 2.31s\tremaining: 107ms\n",
      "956:\tlearn: 0.0719086\ttotal: 2.32s\tremaining: 104ms\n",
      "957:\tlearn: 0.0717815\ttotal: 2.32s\tremaining: 102ms\n",
      "958:\tlearn: 0.0716775\ttotal: 2.32s\tremaining: 99.3ms\n",
      "959:\tlearn: 0.0715372\ttotal: 2.32s\tremaining: 96.8ms\n",
      "960:\tlearn: 0.0714657\ttotal: 2.33s\tremaining: 94.4ms\n",
      "961:\tlearn: 0.0713550\ttotal: 2.33s\tremaining: 92ms\n",
      "962:\tlearn: 0.0712515\ttotal: 2.33s\tremaining: 89.6ms\n",
      "963:\tlearn: 0.0711661\ttotal: 2.33s\tremaining: 87.1ms\n",
      "964:\tlearn: 0.0710767\ttotal: 2.33s\tremaining: 84.7ms\n",
      "965:\tlearn: 0.0709755\ttotal: 2.34s\tremaining: 82.3ms\n",
      "966:\tlearn: 0.0708619\ttotal: 2.34s\tremaining: 79.9ms\n",
      "967:\tlearn: 0.0707505\ttotal: 2.34s\tremaining: 77.4ms\n",
      "968:\tlearn: 0.0706267\ttotal: 2.34s\tremaining: 75ms\n",
      "969:\tlearn: 0.0704803\ttotal: 2.35s\tremaining: 72.6ms\n",
      "970:\tlearn: 0.0704207\ttotal: 2.35s\tremaining: 70.2ms\n",
      "971:\tlearn: 0.0702798\ttotal: 2.35s\tremaining: 67.7ms\n",
      "972:\tlearn: 0.0701927\ttotal: 2.35s\tremaining: 65.3ms\n",
      "973:\tlearn: 0.0700785\ttotal: 2.36s\tremaining: 62.9ms\n",
      "974:\tlearn: 0.0700153\ttotal: 2.36s\tremaining: 60.5ms\n",
      "975:\tlearn: 0.0699332\ttotal: 2.36s\tremaining: 58.1ms\n",
      "976:\tlearn: 0.0698376\ttotal: 2.36s\tremaining: 55.7ms\n",
      "977:\tlearn: 0.0697677\ttotal: 2.37s\tremaining: 53.2ms\n",
      "978:\tlearn: 0.0696706\ttotal: 2.37s\tremaining: 50.8ms\n",
      "979:\tlearn: 0.0695548\ttotal: 2.37s\tremaining: 48.4ms\n",
      "980:\tlearn: 0.0693862\ttotal: 2.37s\tremaining: 46ms\n",
      "981:\tlearn: 0.0692915\ttotal: 2.38s\tremaining: 43.6ms\n",
      "982:\tlearn: 0.0691548\ttotal: 2.38s\tremaining: 41.1ms\n",
      "983:\tlearn: 0.0690149\ttotal: 2.38s\tremaining: 38.7ms\n",
      "984:\tlearn: 0.0689139\ttotal: 2.38s\tremaining: 36.3ms\n",
      "985:\tlearn: 0.0688610\ttotal: 2.38s\tremaining: 33.9ms\n",
      "986:\tlearn: 0.0687913\ttotal: 2.39s\tremaining: 31.5ms\n",
      "987:\tlearn: 0.0686788\ttotal: 2.39s\tremaining: 29ms\n",
      "988:\tlearn: 0.0685581\ttotal: 2.39s\tremaining: 26.6ms\n",
      "989:\tlearn: 0.0684584\ttotal: 2.4s\tremaining: 24.2ms\n",
      "990:\tlearn: 0.0683451\ttotal: 2.4s\tremaining: 21.8ms\n",
      "991:\tlearn: 0.0682047\ttotal: 2.4s\tremaining: 19.4ms\n",
      "992:\tlearn: 0.0680882\ttotal: 2.4s\tremaining: 16.9ms\n",
      "993:\tlearn: 0.0679852\ttotal: 2.4s\tremaining: 14.5ms\n",
      "994:\tlearn: 0.0679086\ttotal: 2.41s\tremaining: 12.1ms\n",
      "995:\tlearn: 0.0678241\ttotal: 2.41s\tremaining: 9.68ms\n",
      "996:\tlearn: 0.0677130\ttotal: 2.41s\tremaining: 7.25ms\n",
      "997:\tlearn: 0.0675958\ttotal: 2.41s\tremaining: 4.84ms\n",
      "998:\tlearn: 0.0674783\ttotal: 2.42s\tremaining: 2.42ms\n",
      "999:\tlearn: 0.0673543\ttotal: 2.42s\tremaining: 0us\n"
     ]
    }
   ],
   "source": [
    "from catboost import CatBoostClassifier\n",
    "cbc = CatBoostClassifier()\n",
    "\n",
    "cbc.fit(X_train, y_train)\n",
    "preds = cbc.predict(X_test)"
   ]
  },
  {
   "cell_type": "code",
   "execution_count": 76,
   "id": "0d0ccaf8",
   "metadata": {},
   "outputs": [
    {
     "name": "stdout",
     "output_type": "stream",
     "text": [
      "94.84126984126983\n",
      "\n",
      "              precision    recall  f1-score   support\n",
      "\n",
      "           0       0.98      0.91      0.95       128\n",
      "           1       0.92      0.98      0.95       124\n",
      "\n",
      "    accuracy                           0.95       252\n",
      "   macro avg       0.95      0.95      0.95       252\n",
      "weighted avg       0.95      0.95      0.95       252\n",
      "\n"
     ]
    },
    {
     "data": {
      "text/plain": [
       "<AxesSubplot:>"
      ]
     },
     "execution_count": 76,
     "metadata": {},
     "output_type": "execute_result"
    },
    {
     "data": {
      "image/png": "[encoded data removed]",
      "text/plain": [
       "<Figure size 432x288 with 2 Axes>"
      ]
     },
     "metadata": {
      "needs_background": "light"
     },
     "output_type": "display_data"
    }
   ],
   "source": [
    "score = cbc.score(X_test, y_test)\n",
    "print(score*100)\n",
    "print()\n",
    "print(classification_report(y_test, preds))\n",
    "\n",
    "cm = confusion_matrix(y_test, preds)\n",
    "sns\n",
    "sns.heatmap(cm, annot=True)"
   ]
  },
  {
   "cell_type": "markdown",
   "id": "e57684b3",
   "metadata": {},
   "source": [
    "**0'ları 0.91'le 1'leri 0.98'le biliyor, testte en iyi sonuçları CatBoost vermiş oldu böylelikle, oldukça başarılı** "
   ]
  },
  {
   "cell_type": "markdown",
   "id": "fa62e4d8",
   "metadata": {},
   "source": [
    "### CatBoost çok iyi gözüküyor, Random Forest ve Support Vector'ün (rbf ve poly kernellerinde) skorlarından memnunum. Bunlar üstünden çalışacağım."
   ]
  },
  {
   "cell_type": "markdown",
   "id": "52cec4bf",
   "metadata": {},
   "source": [
    "## Hyperparameter Tuning"
   ]
  },
  {
   "cell_type": "code",
   "execution_count": 44,
   "id": "d4239478",
   "metadata": {},
   "outputs": [
    {
     "name": "stdout",
     "output_type": "stream",
     "text": [
      "Parameters currently in use:\n",
      "\n",
      "{'bootstrap': True,\n",
      " 'ccp_alpha': 0.0,\n",
      " 'class_weight': None,\n",
      " 'criterion': 'gini',\n",
      " 'max_depth': None,\n",
      " 'max_features': 'auto',\n",
      " 'max_leaf_nodes': None,\n",
      " 'max_samples': None,\n",
      " 'min_impurity_decrease': 0.0,\n",
      " 'min_impurity_split': None,\n",
      " 'min_samples_leaf': 1,\n",
      " 'min_samples_split': 2,\n",
      " 'min_weight_fraction_leaf': 0.0,\n",
      " 'n_estimators': 100,\n",
      " 'n_jobs': None,\n",
      " 'oob_score': False,\n",
      " 'random_state': 1,\n",
      " 'verbose': 0,\n",
      " 'warm_start': False}\n"
     ]
    }
   ],
   "source": [
    "# random forest üzerinden hyperparameter tuning yapacağım\n",
    "# support vector'ü tuning denemem default sonuçları verdiği için o kısmı sonradan sildim \n",
    "from pprint import pprint\n",
    "print('Parameters currently in use:\\n')\n",
    "pprint(rfc.get_params())"
   ]
  },
  {
   "cell_type": "code",
   "execution_count": 45,
   "id": "d8d25df4",
   "metadata": {},
   "outputs": [
    {
     "name": "stdout",
     "output_type": "stream",
     "text": [
      "{'bootstrap': [True, False],\n",
      " 'max_depth': [5, 8, 12, 15, 19, 22, 26, 30, None],\n",
      " 'max_features': ['auto', 'sqrt'],\n",
      " 'min_samples_leaf': [1, 2, 4],\n",
      " 'min_samples_split': [2, 5, 10],\n",
      " 'n_estimators': [100, 250, 400, 550, 700, 850, 1000]}\n"
     ]
    }
   ],
   "source": [
    "from sklearn.model_selection import RandomizedSearchCV\n",
    "# Number of trees in random forest\n",
    "n_estimators = [int(x) for x in np.linspace(start = 100, stop = 1000, num = 7)]\n",
    "# Number of features to consider at every split\n",
    "max_features = ['auto', 'sqrt']\n",
    "# Maximum number of levels in tree\n",
    "max_depth = [int(x) for x in np.linspace(5, 30, num = 8)]\n",
    "max_depth.append(None)\n",
    "# Minimum number of samples required to split a node\n",
    "min_samples_split = [2, 5, 10]\n",
    "# Minimum number of samples required at each leaf node\n",
    "min_samples_leaf = [1, 2, 4]\n",
    "# Method of selecting samples for training each tree\n",
    "bootstrap = [True, False]\n",
    "# Create the random grid\n",
    "random_grid = {'n_estimators': n_estimators,\n",
    "               'max_features': max_features,\n",
    "               'max_depth': max_depth,\n",
    "               'min_samples_split': min_samples_split,\n",
    "               'min_samples_leaf': min_samples_leaf,\n",
    "               'bootstrap': bootstrap}\n",
    "pprint(random_grid)"
   ]
  },
  {
   "cell_type": "code",
   "execution_count": 46,
   "id": "4da32631",
   "metadata": {},
   "outputs": [
    {
     "name": "stdout",
     "output_type": "stream",
     "text": [
      "Fitting 3 folds for each of 100 candidates, totalling 300 fits\n"
     ]
    },
    {
     "data": {
      "text/plain": [
       "RandomizedSearchCV(cv=3, estimator=RandomForestClassifier(), n_iter=100,\n",
       "                   n_jobs=-1,\n",
       "                   param_distributions={'bootstrap': [True, False],\n",
       "                                        'max_depth': [5, 8, 12, 15, 19, 22, 26,\n",
       "                                                      30, None],\n",
       "                                        'max_features': ['auto', 'sqrt'],\n",
       "                                        'min_samples_leaf': [1, 2, 4],\n",
       "                                        'min_samples_split': [2, 5, 10],\n",
       "                                        'n_estimators': [100, 250, 400, 550,\n",
       "                                                         700, 850, 1000]},\n",
       "                   random_state=42, verbose=2)"
      ]
     },
     "execution_count": 46,
     "metadata": {},
     "output_type": "execute_result"
    }
   ],
   "source": [
    "rf = RandomForestClassifier()\n",
    "# Random search of parameters, using 3 fold cross validation, \n",
    "# search across 100 different combinations, and use all available cores\n",
    "rf_random = RandomizedSearchCV(estimator = rf, param_distributions = random_grid, n_iter = 100, cv = 3, verbose=2, random_state=42, n_jobs = -1)\n",
    "# Fit the random search model\n",
    "rf_random.fit(X_train, y_train)"
   ]
  },
  {
   "cell_type": "code",
   "execution_count": 47,
   "id": "d83fe0dc",
   "metadata": {},
   "outputs": [
    {
     "data": {
      "text/plain": [
       "{'n_estimators': 700,\n",
       " 'min_samples_split': 5,\n",
       " 'min_samples_leaf': 1,\n",
       " 'max_features': 'auto',\n",
       " 'max_depth': 26,\n",
       " 'bootstrap': True}"
      ]
     },
     "execution_count": 47,
     "metadata": {},
     "output_type": "execute_result"
    }
   ],
   "source": [
    "rf_random.best_params_"
   ]
  },
  {
   "cell_type": "code",
   "execution_count": 48,
   "id": "b7bc3806",
   "metadata": {},
   "outputs": [
    {
     "name": "stdout",
     "output_type": "stream",
     "text": [
      "93.65079365079364\n",
      "\n",
      "              precision    recall  f1-score   support\n",
      "\n",
      "           0       0.89      0.99      0.94       128\n",
      "           1       0.99      0.88      0.93       124\n",
      "\n",
      "    accuracy                           0.94       252\n",
      "   macro avg       0.94      0.94      0.94       252\n",
      "weighted avg       0.94      0.94      0.94       252\n",
      "\n"
     ]
    },
    {
     "data": {
      "text/plain": [
       "<AxesSubplot:>"
      ]
     },
     "execution_count": 48,
     "metadata": {},
     "output_type": "execute_result"
    },
    {
     "data": {
      "image/png": "[encoded data removed]",
      "text/plain": [
       "<Figure size 432x288 with 2 Axes>"
      ]
     },
     "metadata": {
      "needs_background": "light"
     },
     "output_type": "display_data"
    }
   ],
   "source": [
    "# RandomizedSearchCV'nin bulduğu en iyi parametler uygulanarak 2. RandomForest modelinin oluşturulması\n",
    "rfc2 = RandomForestClassifier(n_estimators=100,min_samples_split=2,min_samples_leaf=1,max_features='sqrt'\n",
    "                            ,max_depth=26,bootstrap='False', random_state=42)\n",
    "rfc2.fit(X_train, y_train)\n",
    "\n",
    "preds = rfc2.predict(X_test)\n",
    "\n",
    "score = rfc2.score(X_test, y_test)\n",
    "print(score*100)\n",
    "print()\n",
    "print(classification_report(y_test, preds))\n",
    "\n",
    "cm = confusion_matrix(y_test, preds)\n",
    "sns\n",
    "sns.heatmap(cm, annot=True)"
   ]
  },
  {
   "cell_type": "markdown",
   "id": "4b92a8b7",
   "metadata": {},
   "source": [
    "**Tuning sonrası 0'ların tahmin başarısı 0.03 artararak 0.99'a gelirken 1'lerde 0.01 puanlık bir düşüş oldu, o yüzden validationda hem tuningli hem tuningsiz hallerini denemeye karar verdim** "
   ]
  },
  {
   "cell_type": "markdown",
   "id": "63a6cd65",
   "metadata": {},
   "source": [
    "## Validation Encoding"
   ]
  },
  {
   "cell_type": "code",
   "execution_count": 49,
   "id": "a0b06574",
   "metadata": {},
   "outputs": [
    {
     "data": {
      "text/html": [
       "<div>\n",
       "<style scoped>\n",
       "    .dataframe tbody tr th:only-of-type {\n",
       "        vertical-align: middle;\n",
       "    }\n",
       "\n",
       "    .dataframe tbody tr th {\n",
       "        vertical-align: top;\n",
       "    }\n",
       "\n",
       "    .dataframe thead th {\n",
       "        text-align: right;\n",
       "    }\n",
       "</style>\n",
       "<table border=\"1\" class=\"dataframe\">\n",
       "  <thead>\n",
       "    <tr style=\"text-align: right;\">\n",
       "      <th></th>\n",
       "      <th>insured_education_level</th>\n",
       "      <th>incident_severity</th>\n",
       "      <th>age_group</th>\n",
       "      <th>months_as_customer_groups</th>\n",
       "      <th>policy_annual_premium_groups</th>\n",
       "      <th>policy_deductable_group</th>\n",
       "    </tr>\n",
       "  </thead>\n",
       "  <tbody>\n",
       "    <tr>\n",
       "      <th>752</th>\n",
       "      <td>4</td>\n",
       "      <td>1</td>\n",
       "      <td>0</td>\n",
       "      <td>8</td>\n",
       "      <td>1</td>\n",
       "      <td>0</td>\n",
       "    </tr>\n",
       "    <tr>\n",
       "      <th>74</th>\n",
       "      <td>1</td>\n",
       "      <td>1</td>\n",
       "      <td>5</td>\n",
       "      <td>4</td>\n",
       "      <td>2</td>\n",
       "      <td>1</td>\n",
       "    </tr>\n",
       "    <tr>\n",
       "      <th>914</th>\n",
       "      <td>4</td>\n",
       "      <td>2</td>\n",
       "      <td>5</td>\n",
       "      <td>2</td>\n",
       "      <td>1</td>\n",
       "      <td>2</td>\n",
       "    </tr>\n",
       "    <tr>\n",
       "      <th>883</th>\n",
       "      <td>1</td>\n",
       "      <td>2</td>\n",
       "      <td>4</td>\n",
       "      <td>2</td>\n",
       "      <td>2</td>\n",
       "      <td>1</td>\n",
       "    </tr>\n",
       "    <tr>\n",
       "      <th>839</th>\n",
       "      <td>1</td>\n",
       "      <td>2</td>\n",
       "      <td>6</td>\n",
       "      <td>4</td>\n",
       "      <td>2</td>\n",
       "      <td>0</td>\n",
       "    </tr>\n",
       "  </tbody>\n",
       "</table>\n",
       "</div>"
      ],
      "text/plain": [
       "     insured_education_level  incident_severity  age_group  \\\n",
       "752                        4                  1          0   \n",
       "74                         1                  1          5   \n",
       "914                        4                  2          5   \n",
       "883                        1                  2          4   \n",
       "839                        1                  2          6   \n",
       "\n",
       "     months_as_customer_groups  policy_annual_premium_groups  \\\n",
       "752                          8                             1   \n",
       "74                           4                             2   \n",
       "914                          2                             1   \n",
       "883                          2                             2   \n",
       "839                          4                             2   \n",
       "\n",
       "     policy_deductable_group  \n",
       "752                        0  \n",
       "74                         1  \n",
       "914                        2  \n",
       "883                        1  \n",
       "839                        0  "
      ]
     },
     "execution_count": 49,
     "metadata": {},
     "output_type": "execute_result"
    }
   ],
   "source": [
    "# önce ordinal encoder'i belirttiğim kolonlara uyguluyorum\n",
    "\n",
    "df2_val = df1_val\n",
    "oe = OrdinalEncoder(categories=[educ,sever,age,months,premium,deduct], dtype = \"int64\")\n",
    "df2_val[ordinal_list] = oe.fit_transform(df2_val[ordinal_list])\n",
    "df2_val[ordinal_list].head()"
   ]
  },
  {
   "cell_type": "code",
   "execution_count": 50,
   "id": "41e65ec6",
   "metadata": {},
   "outputs": [],
   "source": [
    "# fit edilmiş ohe ve column transformer üstünden oluşturdum \n",
    "# bu sayede aynı sayıda kolon oluştu (fit edilmiş ohe'deki handle_unknown=ignore sayesinde)\n",
    "df2_val = pd.DataFrame(ct.transform(df2_val).toarray(), columns=ct.get_feature_names())"
   ]
  },
  {
   "cell_type": "code",
   "execution_count": 51,
   "id": "dc237bb8",
   "metadata": {},
   "outputs": [
    {
     "data": {
      "text/html": [
       "<div>\n",
       "<style scoped>\n",
       "    .dataframe tbody tr th:only-of-type {\n",
       "        vertical-align: middle;\n",
       "    }\n",
       "\n",
       "    .dataframe tbody tr th {\n",
       "        vertical-align: top;\n",
       "    }\n",
       "\n",
       "    .dataframe thead th {\n",
       "        text-align: right;\n",
       "    }\n",
       "</style>\n",
       "<table border=\"1\" class=\"dataframe\">\n",
       "  <thead>\n",
       "    <tr style=\"text-align: right;\">\n",
       "      <th></th>\n",
       "      <th>onehotencoder__x0_FEMALE</th>\n",
       "      <th>onehotencoder__x0_MALE</th>\n",
       "      <th>onehotencoder__x1_IL</th>\n",
       "      <th>onehotencoder__x1_IN</th>\n",
       "      <th>onehotencoder__x1_OH</th>\n",
       "      <th>onehotencoder__x2_0.0</th>\n",
       "      <th>onehotencoder__x2_9999</th>\n",
       "      <th>onehotencoder__x2_other</th>\n",
       "      <th>onehotencoder__x3_adm-clerical</th>\n",
       "      <th>onehotencoder__x3_armed-forces</th>\n",
       "      <th>...</th>\n",
       "      <th>bodily_injuries</th>\n",
       "      <th>witnesses</th>\n",
       "      <th>total_claim_amount</th>\n",
       "      <th>auto_year</th>\n",
       "      <th>claim_day_of_policy</th>\n",
       "      <th>age_group</th>\n",
       "      <th>months_as_customer_groups</th>\n",
       "      <th>policy_annual_premium_groups</th>\n",
       "      <th>policy_deductable_group</th>\n",
       "      <th>fraud_reported</th>\n",
       "    </tr>\n",
       "  </thead>\n",
       "  <tbody>\n",
       "    <tr>\n",
       "      <th>0</th>\n",
       "      <td>0</td>\n",
       "      <td>1</td>\n",
       "      <td>1</td>\n",
       "      <td>0</td>\n",
       "      <td>0</td>\n",
       "      <td>1</td>\n",
       "      <td>0</td>\n",
       "      <td>0</td>\n",
       "      <td>0</td>\n",
       "      <td>0</td>\n",
       "      <td>...</td>\n",
       "      <td>0</td>\n",
       "      <td>2</td>\n",
       "      <td>38640</td>\n",
       "      <td>1997</td>\n",
       "      <td>5718</td>\n",
       "      <td>0</td>\n",
       "      <td>8</td>\n",
       "      <td>1</td>\n",
       "      <td>0</td>\n",
       "      <td>0</td>\n",
       "    </tr>\n",
       "    <tr>\n",
       "      <th>1</th>\n",
       "      <td>1</td>\n",
       "      <td>0</td>\n",
       "      <td>1</td>\n",
       "      <td>0</td>\n",
       "      <td>0</td>\n",
       "      <td>1</td>\n",
       "      <td>0</td>\n",
       "      <td>0</td>\n",
       "      <td>0</td>\n",
       "      <td>0</td>\n",
       "      <td>...</td>\n",
       "      <td>1</td>\n",
       "      <td>0</td>\n",
       "      <td>42930</td>\n",
       "      <td>2005</td>\n",
       "      <td>3972</td>\n",
       "      <td>5</td>\n",
       "      <td>4</td>\n",
       "      <td>2</td>\n",
       "      <td>1</td>\n",
       "      <td>0</td>\n",
       "    </tr>\n",
       "    <tr>\n",
       "      <th>2</th>\n",
       "      <td>1</td>\n",
       "      <td>0</td>\n",
       "      <td>0</td>\n",
       "      <td>0</td>\n",
       "      <td>1</td>\n",
       "      <td>1</td>\n",
       "      <td>0</td>\n",
       "      <td>0</td>\n",
       "      <td>0</td>\n",
       "      <td>0</td>\n",
       "      <td>...</td>\n",
       "      <td>0</td>\n",
       "      <td>2</td>\n",
       "      <td>72800</td>\n",
       "      <td>1998</td>\n",
       "      <td>5343</td>\n",
       "      <td>5</td>\n",
       "      <td>2</td>\n",
       "      <td>1</td>\n",
       "      <td>2</td>\n",
       "      <td>0</td>\n",
       "    </tr>\n",
       "    <tr>\n",
       "      <th>3</th>\n",
       "      <td>1</td>\n",
       "      <td>0</td>\n",
       "      <td>0</td>\n",
       "      <td>0</td>\n",
       "      <td>1</td>\n",
       "      <td>1</td>\n",
       "      <td>0</td>\n",
       "      <td>0</td>\n",
       "      <td>0</td>\n",
       "      <td>0</td>\n",
       "      <td>...</td>\n",
       "      <td>0</td>\n",
       "      <td>3</td>\n",
       "      <td>34160</td>\n",
       "      <td>2005</td>\n",
       "      <td>3374</td>\n",
       "      <td>4</td>\n",
       "      <td>2</td>\n",
       "      <td>2</td>\n",
       "      <td>1</td>\n",
       "      <td>1</td>\n",
       "    </tr>\n",
       "    <tr>\n",
       "      <th>4</th>\n",
       "      <td>0</td>\n",
       "      <td>1</td>\n",
       "      <td>0</td>\n",
       "      <td>0</td>\n",
       "      <td>1</td>\n",
       "      <td>1</td>\n",
       "      <td>0</td>\n",
       "      <td>0</td>\n",
       "      <td>0</td>\n",
       "      <td>0</td>\n",
       "      <td>...</td>\n",
       "      <td>2</td>\n",
       "      <td>2</td>\n",
       "      <td>51600</td>\n",
       "      <td>2011</td>\n",
       "      <td>9106</td>\n",
       "      <td>6</td>\n",
       "      <td>4</td>\n",
       "      <td>2</td>\n",
       "      <td>0</td>\n",
       "      <td>0</td>\n",
       "    </tr>\n",
       "  </tbody>\n",
       "</table>\n",
       "<p>5 rows × 136 columns</p>\n",
       "</div>"
      ],
      "text/plain": [
       "   onehotencoder__x0_FEMALE  onehotencoder__x0_MALE  onehotencoder__x1_IL  \\\n",
       "0                         0                       1                     1   \n",
       "1                         1                       0                     1   \n",
       "2                         1                       0                     0   \n",
       "3                         1                       0                     0   \n",
       "4                         0                       1                     0   \n",
       "\n",
       "   onehotencoder__x1_IN  onehotencoder__x1_OH  onehotencoder__x2_0.0  \\\n",
       "0                     0                     0                      1   \n",
       "1                     0                     0                      1   \n",
       "2                     0                     1                      1   \n",
       "3                     0                     1                      1   \n",
       "4                     0                     1                      1   \n",
       "\n",
       "   onehotencoder__x2_9999  onehotencoder__x2_other  \\\n",
       "0                       0                        0   \n",
       "1                       0                        0   \n",
       "2                       0                        0   \n",
       "3                       0                        0   \n",
       "4                       0                        0   \n",
       "\n",
       "   onehotencoder__x3_adm-clerical  onehotencoder__x3_armed-forces  ...  \\\n",
       "0                               0                               0  ...   \n",
       "1                               0                               0  ...   \n",
       "2                               0                               0  ...   \n",
       "3                               0                               0  ...   \n",
       "4                               0                               0  ...   \n",
       "\n",
       "   bodily_injuries  witnesses  total_claim_amount  auto_year  \\\n",
       "0                0          2               38640       1997   \n",
       "1                1          0               42930       2005   \n",
       "2                0          2               72800       1998   \n",
       "3                0          3               34160       2005   \n",
       "4                2          2               51600       2011   \n",
       "\n",
       "   claim_day_of_policy  age_group  months_as_customer_groups  \\\n",
       "0                 5718          0                          8   \n",
       "1                 3972          5                          4   \n",
       "2                 5343          5                          2   \n",
       "3                 3374          4                          2   \n",
       "4                 9106          6                          4   \n",
       "\n",
       "   policy_annual_premium_groups  policy_deductable_group  fraud_reported  \n",
       "0                             1                        0               0  \n",
       "1                             2                        1               0  \n",
       "2                             1                        2               0  \n",
       "3                             2                        1               1  \n",
       "4                             2                        0               0  \n",
       "\n",
       "[5 rows x 136 columns]"
      ]
     },
     "execution_count": 51,
     "metadata": {},
     "output_type": "execute_result"
    }
   ],
   "source": [
    "df2_val.head()"
   ]
  },
  {
   "cell_type": "markdown",
   "id": "6850220c",
   "metadata": {},
   "source": [
    "## Validation Feature and Target"
   ]
  },
  {
   "cell_type": "code",
   "execution_count": 52,
   "id": "c84baf5e",
   "metadata": {},
   "outputs": [],
   "source": [
    "X_val = df2_val.loc[:, df2_val.columns != 'fraud_reported']\n",
    "y_val = df2_val[\"fraud_reported\"]"
   ]
  },
  {
   "cell_type": "markdown",
   "id": "ceb354df",
   "metadata": {},
   "source": [
    "## Validation Scaling"
   ]
  },
  {
   "cell_type": "code",
   "execution_count": 53,
   "id": "203924a0",
   "metadata": {},
   "outputs": [],
   "source": [
    "sc = StandardScaler()\n",
    "X_val = sc.fit_transform(X_val)"
   ]
  },
  {
   "cell_type": "code",
   "execution_count": 54,
   "id": "387a82fe",
   "metadata": {},
   "outputs": [
    {
     "data": {
      "text/plain": [
       "array([[-1.0944415 ,  1.0944415 ,  1.54590766, ...,  1.77740273,\n",
       "        -1.86988495, -1.15579349],\n",
       "       [ 0.91370804, -0.91370804,  1.54590766, ...,  0.1045531 ,\n",
       "         0.05783149,  0.10050378],\n",
       "       [ 0.91370804, -0.91370804, -0.64686916, ..., -0.73187171,\n",
       "        -1.86988495,  1.35680105],\n",
       "       ...,\n",
       "       [-1.0944415 ,  1.0944415 , -0.64686916, ...,  0.94097792,\n",
       "         0.05783149, -1.15579349],\n",
       "       [-1.0944415 ,  1.0944415 , -0.64686916, ...,  1.35919032,\n",
       "         0.05783149,  1.35680105],\n",
       "       [ 0.91370804, -0.91370804, -0.64686916, ...,  1.35919032,\n",
       "         0.05783149,  0.10050378]])"
      ]
     },
     "execution_count": 54,
     "metadata": {},
     "output_type": "execute_result"
    }
   ],
   "source": [
    "X_val"
   ]
  },
  {
   "cell_type": "markdown",
   "id": "b97842e3",
   "metadata": {},
   "source": [
    "## Modellerin Validationda Denenmesi"
   ]
  },
  {
   "cell_type": "markdown",
   "id": "0ba9ce2d",
   "metadata": {},
   "source": [
    "### Tuningli RandomForest"
   ]
  },
  {
   "cell_type": "code",
   "execution_count": 55,
   "id": "37d984b9",
   "metadata": {},
   "outputs": [
    {
     "name": "stdout",
     "output_type": "stream",
     "text": [
      "53.0\n",
      "\n",
      "              precision    recall  f1-score   support\n",
      "\n",
      "           0       0.92      0.47      0.62       163\n",
      "           1       0.26      0.81      0.39        37\n",
      "\n",
      "    accuracy                           0.53       200\n",
      "   macro avg       0.59      0.64      0.50       200\n",
      "weighted avg       0.79      0.53      0.58       200\n",
      "\n"
     ]
    },
    {
     "data": {
      "text/plain": [
       "<AxesSubplot:>"
      ]
     },
     "execution_count": 55,
     "metadata": {},
     "output_type": "execute_result"
    },
    {
     "data": {
      "image/png": "[encoded data removed]",
      "text/plain": [
       "<Figure size 432x288 with 2 Axes>"
      ]
     },
     "metadata": {
      "needs_background": "light"
     },
     "output_type": "display_data"
    }
   ],
   "source": [
    "preds = rfc2.predict(X_val)\n",
    "score = rfc2.score(X_val, y_val)\n",
    "print(score*100)\n",
    "print()\n",
    "print(classification_report(y_val, preds))\n",
    "\n",
    "cm = confusion_matrix(y_val, preds)\n",
    "sns\n",
    "sns.heatmap(cm, annot=True)"
   ]
  },
  {
   "cell_type": "markdown",
   "id": "61f7b834",
   "metadata": {},
   "source": [
    "**1'lerin tahmin başarısı fena değilken 0'larda düşük kaldı, thresholdla oynayarak bu durumu düzeltmeye çalışacağım**"
   ]
  },
  {
   "cell_type": "code",
   "execution_count": 56,
   "id": "65d2dc46",
   "metadata": {},
   "outputs": [
    {
     "name": "stdout",
     "output_type": "stream",
     "text": [
      "\n",
      "              precision    recall  f1-score   support\n",
      "\n",
      "           0       0.90      0.68      0.78       163\n",
      "           1       0.32      0.68      0.44        37\n",
      "\n",
      "    accuracy                           0.68       200\n",
      "   macro avg       0.61      0.68      0.61       200\n",
      "weighted avg       0.80      0.68      0.71       200\n",
      "\n"
     ]
    }
   ],
   "source": [
    "# 1 tahmininin thresholdunu 0.58'e yükselttim\n",
    "preds = (rfc2.predict_proba(X_val)[:,1] >= 0.58).astype(bool)\n",
    "print()\n",
    "print(classification_report(y_val, preds))"
   ]
  },
  {
   "cell_type": "markdown",
   "id": "fbeae284",
   "metadata": {},
   "source": [
    "**Yeni threshold değeriyle 68'e 68 olarak modeli dengeledim. Validationda en iyi çalışan model bu oldu**"
   ]
  },
  {
   "cell_type": "markdown",
   "id": "178100d5",
   "metadata": {},
   "source": [
    "### Tuningsiz RandomForest"
   ]
  },
  {
   "cell_type": "code",
   "execution_count": 57,
   "id": "5de620f5",
   "metadata": {},
   "outputs": [
    {
     "name": "stdout",
     "output_type": "stream",
     "text": [
      "40.0\n",
      "\n",
      "              precision    recall  f1-score   support\n",
      "\n",
      "           0       0.92      0.29      0.44       163\n",
      "           1       0.22      0.89      0.35        37\n",
      "\n",
      "    accuracy                           0.40       200\n",
      "   macro avg       0.57      0.59      0.40       200\n",
      "weighted avg       0.79      0.40      0.42       200\n",
      "\n"
     ]
    },
    {
     "data": {
      "text/plain": [
       "<AxesSubplot:>"
      ]
     },
     "execution_count": 57,
     "metadata": {},
     "output_type": "execute_result"
    },
    {
     "data": {
      "image/png": "[encoded data removed]",
      "text/plain": [
       "<Figure size 432x288 with 2 Axes>"
      ]
     },
     "metadata": {
      "needs_background": "light"
     },
     "output_type": "display_data"
    }
   ],
   "source": [
    "preds = rfc.predict(X_val)\n",
    "score = rfc.score(X_val, y_val)\n",
    "print(score*100)\n",
    "print()\n",
    "print(classification_report(y_val, preds))\n",
    "\n",
    "cm = confusion_matrix(y_val, preds)\n",
    "sns\n",
    "sns.heatmap(cm, annot=True)"
   ]
  },
  {
   "cell_type": "markdown",
   "id": "de47afe9",
   "metadata": {},
   "source": [
    "**Tuningsiz haline göre 0'ların tahmini çok daha kötü, 1'lerin tahmini biraz daha iyi. 0-1 arasındaki makas çok açık olduğundan burada da threshold değiştirmeyi deneyeceğim**"
   ]
  },
  {
   "cell_type": "code",
   "execution_count": 58,
   "id": "d480536f",
   "metadata": {},
   "outputs": [
    {
     "name": "stdout",
     "output_type": "stream",
     "text": [
      "\n",
      "              precision    recall  f1-score   support\n",
      "\n",
      "           0       0.89      0.64      0.75       163\n",
      "           1       0.29      0.65      0.40        37\n",
      "\n",
      "    accuracy                           0.65       200\n",
      "   macro avg       0.59      0.65      0.58       200\n",
      "weighted avg       0.78      0.65      0.68       200\n",
      "\n"
     ]
    }
   ],
   "source": [
    "# 1 tahminin thresholdunu 0.6'ya yükselttim\n",
    "preds = (rfc.predict_proba(X_val)[:,1] >= 0.6).astype(bool)\n",
    "print()\n",
    "print(classification_report(y_val, preds))"
   ]
  },
  {
   "cell_type": "markdown",
   "id": "8b97e931",
   "metadata": {},
   "source": [
    "**1 ve 0'ı dengelemeye çalışınca Tuningli RandomForest'a oranla az bir düşüş oldu**"
   ]
  },
  {
   "cell_type": "markdown",
   "id": "de378a74",
   "metadata": {},
   "source": [
    "### SupportVector"
   ]
  },
  {
   "cell_type": "code",
   "execution_count": 59,
   "id": "6949366c",
   "metadata": {},
   "outputs": [
    {
     "name": "stdout",
     "output_type": "stream",
     "text": [
      "74.0\n",
      "              precision    recall  f1-score   support\n",
      "\n",
      "           0       0.82      0.87      0.84       163\n",
      "           1       0.24      0.19      0.21        37\n",
      "\n",
      "    accuracy                           0.74       200\n",
      "   macro avg       0.53      0.53      0.53       200\n",
      "weighted avg       0.72      0.74      0.73       200\n",
      "\n"
     ]
    },
    {
     "data": {
      "text/plain": [
       "<AxesSubplot:>"
      ]
     },
     "execution_count": 59,
     "metadata": {},
     "output_type": "execute_result"
    },
    {
     "data": {
      "image/png": "[encoded data removed]",
      "text/plain": [
       "<Figure size 432x288 with 2 Axes>"
      ]
     },
     "metadata": {
      "needs_background": "light"
     },
     "output_type": "display_data"
    }
   ],
   "source": [
    "preds = svc.predict(X_val)\n",
    "\n",
    "score = svc.score(X_val, y_val)\n",
    "print(score*100)\n",
    "print(classification_report(y_val, preds))\n",
    "\n",
    "cm = confusion_matrix(y_val, preds)\n",
    "sns\n",
    "sns.heatmap(cm, annot=True)"
   ]
  },
  {
   "cell_type": "markdown",
   "id": "aa0fdc6c",
   "metadata": {},
   "source": [
    "**0'ların tahmini çok başarılıyken 1'lerin tahmini son derece başarısız**"
   ]
  },
  {
   "cell_type": "code",
   "execution_count": 60,
   "id": "b17a2211",
   "metadata": {},
   "outputs": [
    {
     "name": "stdout",
     "output_type": "stream",
     "text": [
      "75.5\n",
      "              precision    recall  f1-score   support\n",
      "\n",
      "           0       0.84      0.86      0.85       163\n",
      "           1       0.32      0.30      0.31        37\n",
      "\n",
      "    accuracy                           0.76       200\n",
      "   macro avg       0.58      0.58      0.58       200\n",
      "weighted avg       0.75      0.76      0.75       200\n",
      "\n"
     ]
    },
    {
     "data": {
      "text/plain": [
       "<AxesSubplot:>"
      ]
     },
     "execution_count": 60,
     "metadata": {},
     "output_type": "execute_result"
    },
    {
     "data": {
      "image/png": "[encoded data removed]",
      "text/plain": [
       "<Figure size 432x288 with 2 Axes>"
      ]
     },
     "metadata": {
      "needs_background": "light"
     },
     "output_type": "display_data"
    }
   ],
   "source": [
    "preds = svc_rbf.predict(X_val)\n",
    "\n",
    "score = svc_rbf.score(X_val, y_val)\n",
    "print(score*100)\n",
    "print(classification_report(y_val, preds))\n",
    "\n",
    "cm = confusion_matrix(y_val, preds)\n",
    "sns\n",
    "sns.heatmap(cm, annot=True)"
   ]
  },
  {
   "cell_type": "markdown",
   "id": "a720ffcb",
   "metadata": {},
   "source": [
    "**Poly kerneline göre 1'lerin tahmini yaklaşık 2 kat daha başarılı, bunda da threshold değiştirerek 1 ve 0 tahminini dengelemeye çalışacağım**"
   ]
  },
  {
   "cell_type": "code",
   "execution_count": 61,
   "id": "37eb991f",
   "metadata": {},
   "outputs": [
    {
     "name": "stdout",
     "output_type": "stream",
     "text": [
      "              precision    recall  f1-score   support\n",
      "\n",
      "           0       0.86      0.63      0.73       163\n",
      "           1       0.26      0.57      0.35        37\n",
      "\n",
      "    accuracy                           0.61       200\n",
      "   macro avg       0.56      0.60      0.54       200\n",
      "weighted avg       0.75      0.62      0.66       200\n",
      "\n"
     ]
    }
   ],
   "source": [
    "# 1'lerin tahmin thresholdunu 0.25'e düşürdüm\n",
    "preds = (svc_rbf.predict_proba(X_val)[:,1] >= 0.25).astype(bool)\n",
    "\n",
    "print(classification_report(y_val, preds))"
   ]
  },
  {
   "cell_type": "markdown",
   "id": "4704f461",
   "metadata": {},
   "source": [
    "**Threshold ayarlamasından sonra RandomForest kadar başarı olamadığı gözüktü**"
   ]
  },
  {
   "cell_type": "markdown",
   "id": "552d3afe",
   "metadata": {},
   "source": [
    "### CatBoost"
   ]
  },
  {
   "cell_type": "code",
   "execution_count": 70,
   "id": "fc664a0b",
   "metadata": {},
   "outputs": [
    {
     "name": "stdout",
     "output_type": "stream",
     "text": [
      "77.5\n",
      "              precision    recall  f1-score   support\n",
      "\n",
      "           0       0.95      0.77      0.85       163\n",
      "           1       0.44      0.81      0.57        37\n",
      "\n",
      "    accuracy                           0.78       200\n",
      "   macro avg       0.69      0.79      0.71       200\n",
      "weighted avg       0.85      0.78      0.80       200\n",
      "\n"
     ]
    },
    {
     "data": {
      "text/plain": [
       "<AxesSubplot:>"
      ]
     },
     "execution_count": 70,
     "metadata": {},
     "output_type": "execute_result"
    },
    {
     "data": {
      "image/png": "[encoded data removed]",
      "text/plain": [
       "<Figure size 432x288 with 2 Axes>"
      ]
     },
     "metadata": {
      "needs_background": "light"
     },
     "output_type": "display_data"
    }
   ],
   "source": [
    "preds = cbc.predict(X_val)\n",
    "\n",
    "score = cbc.score(X_val, y_val)\n",
    "print(score*100)\n",
    "print(classification_report(y_val, preds))\n",
    "\n",
    "cm = confusion_matrix(y_val, preds)\n",
    "sns\n",
    "sns.heatmap(cm, annot=True)"
   ]
  },
  {
   "cell_type": "markdown",
   "id": "3bec3e69",
   "metadata": {},
   "source": [
    "**CatBoost en başarılı tahmini yaptı. 1'leri 0.81'le 0'ları 0.77 ile bilmesi diğer modellere göre oldukça başarılı olduğunu gösteriyor**"
   ]
  },
  {
   "cell_type": "markdown",
   "id": "616592f4",
   "metadata": {},
   "source": [
    "### VotingClassiferla Model Birleştirme"
   ]
  },
  {
   "cell_type": "markdown",
   "id": "f552a7c3",
   "metadata": {},
   "source": [
    "**RandomForest**'ın 1'lerde **SupportVector**'un 0'larda çok daha başarılı olmasından dolayı, bunları birlikte çalıştırıp çalıştıramayacağımı düşündüm. VotingClassifer'la bunu yapabileceğimi öğrenip ardından uygulamayı denedim"
   ]
  },
  {
   "cell_type": "code",
   "execution_count": 65,
   "id": "45da0c8f",
   "metadata": {},
   "outputs": [
    {
     "name": "stdout",
     "output_type": "stream",
     "text": [
      "              precision    recall  f1-score   support\n",
      "\n",
      "           0       0.85      0.79      0.82       163\n",
      "           1       0.29      0.38      0.33        37\n",
      "\n",
      "    accuracy                           0.71       200\n",
      "   macro avg       0.57      0.58      0.57       200\n",
      "weighted avg       0.75      0.71      0.73       200\n",
      "\n"
     ]
    }
   ],
   "source": [
    "from sklearn.ensemble import VotingClassifier\n",
    "\n",
    "#voting soft sayesinde predict_probası daha yüksek olanın tahmininin geçerli olmasını sağladım\n",
    "eclf1 = VotingClassifier(estimators=[\n",
    "        ('rfc', rfc2), ('svc', svc_rbf)], voting='soft')\n",
    "eclf1 = eclf1.fit(X_train, y_train)\n",
    "\n",
    "preds = eclf1.predict(X_val)\n",
    "\n",
    "print(classification_report(y_val, preds))"
   ]
  },
  {
   "cell_type": "markdown",
   "id": "ec8b9962",
   "metadata": {},
   "source": [
    "**Görüldüğü gibi pek başarılı sonuçlar vermedi.**"
   ]
  },
  {
   "cell_type": "code",
   "execution_count": 63,
   "id": "a83ede11",
   "metadata": {},
   "outputs": [
    {
     "name": "stdout",
     "output_type": "stream",
     "text": [
      "[[0.95       0.05       0.8592595  0.1407405 ]\n",
      " [0.93       0.07       0.85922434 0.14077566]\n",
      " [0.82       0.18       0.85924744 0.14075256]\n",
      " [0.3        0.7        0.56121939 0.43878061]\n",
      " [0.91       0.09       0.85916741 0.14083259]\n",
      " [0.17       0.83       0.36428688 0.63571312]\n",
      " [0.96       0.04       0.85922374 0.14077626]\n",
      " [0.98       0.02       0.87196824 0.12803176]\n",
      " [0.38       0.62       0.62733036 0.37266964]\n",
      " [0.91       0.09       0.85920502 0.14079498]\n",
      " [0.21       0.79       0.39841533 0.60158467]\n",
      " [0.97       0.03       0.85913756 0.14086244]\n",
      " [0.97       0.03       0.85928457 0.14071543]\n",
      " [0.94       0.06       0.85922769 0.14077231]\n",
      " [0.91       0.09       0.85919882 0.14080118]\n",
      " [0.97       0.03       0.88445755 0.11554245]\n",
      " [0.9        0.1        0.85915209 0.14084791]\n",
      " [0.97       0.03       0.86062204 0.13937796]\n",
      " [0.77       0.23       0.85924172 0.14075828]\n",
      " [0.07       0.93       0.4725408  0.5274592 ]\n",
      " [0.77       0.23       0.8592515  0.1407485 ]\n",
      " [0.82       0.18       0.85923859 0.14076141]\n",
      " [0.98       0.02       0.86071188 0.13928812]\n",
      " [0.22       0.78       0.53425964 0.46574036]\n",
      " [0.91       0.09       0.85932587 0.14067413]\n",
      " [0.73       0.27       0.85916686 0.14083314]\n",
      " [0.94       0.06       0.85924955 0.14075045]\n",
      " [0.93       0.07       0.85916008 0.14083992]\n",
      " [0.98       0.02       0.85925776 0.14074224]\n",
      " [0.33       0.67       0.62772229 0.37227771]\n",
      " [0.86       0.14       0.85919641 0.14080359]\n",
      " [0.95       0.05       0.85921433 0.14078567]\n",
      " [0.97       0.03       0.85924328 0.14075672]\n",
      " [0.2        0.8        0.57415802 0.42584198]\n",
      " [0.9        0.1        0.85925169 0.14074831]\n",
      " [0.95       0.05       0.85919512 0.14080488]\n",
      " [0.95       0.05       0.8592157  0.1407843 ]\n",
      " [0.99       0.01       0.85924506 0.14075494]\n",
      " [0.91       0.09       0.85913826 0.14086174]\n",
      " [0.32       0.68       0.60075867 0.39924133]\n",
      " [0.97       0.03       0.85922077 0.14077923]\n",
      " [0.95       0.05       0.85929861 0.14070139]\n",
      " [0.97       0.03       0.85924218 0.14075782]\n",
      " [0.93       0.07       0.85924993 0.14075007]\n",
      " [0.36       0.64       0.61069618 0.38930382]\n",
      " [0.92       0.08       0.85926858 0.14073142]\n",
      " [0.2        0.8        0.39757129 0.60242871]\n",
      " [0.24       0.76       0.5        0.5       ]\n",
      " [0.86       0.14       0.85919607 0.14080393]\n",
      " [0.93       0.07       0.87474496 0.12525504]\n",
      " [0.99       0.01       0.85916614 0.14083386]\n",
      " [0.94       0.06       0.85925362 0.14074638]\n",
      " [0.98       0.02       0.8646056  0.1353944 ]\n",
      " [0.97       0.03       0.85922626 0.14077374]\n",
      " [0.88       0.12       0.85915263 0.14084737]\n",
      " [0.91       0.09       0.85920099 0.14079901]\n",
      " [0.94       0.06       0.85914312 0.14085688]\n",
      " [0.93       0.07       0.85929889 0.14070111]\n",
      " [0.96       0.04       0.85923327 0.14076673]\n",
      " [0.94       0.06       0.85922009 0.14077991]\n",
      " [0.97       0.03       0.85919828 0.14080172]\n",
      " [0.93       0.07       0.85920782 0.14079218]\n",
      " [0.92       0.08       0.85922721 0.14077279]\n",
      " [0.94       0.06       0.85928453 0.14071547]\n",
      " [0.99       0.01       0.87875167 0.12124833]\n",
      " [0.9        0.1        0.85924342 0.14075658]\n",
      " [0.93       0.07       0.85922009 0.14077991]\n",
      " [0.98       0.02       0.85929177 0.14070823]\n",
      " [0.22       0.78       0.46522623 0.53477377]\n",
      " [0.94       0.06       0.86806539 0.13193461]\n",
      " [0.97       0.03       0.86514963 0.13485037]\n",
      " [0.95       0.05       0.85922094 0.14077906]\n",
      " [0.97       0.03       0.8591816  0.1408184 ]\n",
      " [0.27       0.73       0.64205292 0.35794708]\n",
      " [0.96       0.04       0.85913207 0.14086793]\n",
      " [0.75       0.25       0.8328427  0.1671573 ]\n",
      " [0.94       0.06       0.8591539  0.1408461 ]\n",
      " [0.99       0.01       0.85926001 0.14073999]\n",
      " [0.81       0.19       0.85931298 0.14068702]\n",
      " [0.97       0.03       0.85922149 0.14077851]\n",
      " [0.97       0.03       0.8873517  0.1126483 ]\n",
      " [0.92       0.08       0.85927718 0.14072282]\n",
      " [0.35       0.65       0.6453067  0.3546933 ]\n",
      " [0.91       0.09       0.8592421  0.1407579 ]\n",
      " [0.94       0.06       0.85925018 0.14074982]\n",
      " [0.92       0.08       0.85927736 0.14072264]\n",
      " [0.95       0.05       0.85916951 0.14083049]\n",
      " [0.3        0.7        0.61909983 0.38090017]\n",
      " [0.94       0.06       0.8592408  0.1407592 ]\n",
      " [0.95       0.05       0.85920924 0.14079076]\n",
      " [0.96       0.04       0.85925038 0.14074962]\n",
      " [0.96       0.04       0.85924247 0.14075753]\n",
      " [0.88       0.12       0.85918493 0.14081507]\n",
      " [0.92       0.08       0.85924323 0.14075677]\n",
      " [0.3        0.7        0.69428392 0.30571608]\n",
      " [0.94       0.06       0.85915463 0.14084537]\n",
      " [0.3        0.7        0.65168141 0.34831859]\n",
      " [0.95       0.05       0.85932602 0.14067398]\n",
      " [0.97       0.03       0.8592392  0.1407608 ]\n",
      " [0.97       0.03       0.8592707  0.1407293 ]\n",
      " [0.96       0.04       0.87972091 0.12027909]\n",
      " [0.98       0.02       0.85921776 0.14078224]\n",
      " [0.3        0.7        0.63958412 0.36041588]\n",
      " [0.99       0.01       0.87804668 0.12195332]\n",
      " [0.95       0.05       0.87214323 0.12785677]\n",
      " [0.95       0.05       0.86710558 0.13289442]\n",
      " [0.42       0.58       0.70633376 0.29366624]\n",
      " [0.91       0.09       0.85923699 0.14076301]\n",
      " [0.99       0.01       0.85919514 0.14080486]\n",
      " [0.97       0.03       0.85917572 0.14082428]\n",
      " [0.9        0.1        0.85925    0.14075   ]\n",
      " [0.94       0.06       0.85927438 0.14072562]\n",
      " [0.91       0.09       0.85925239 0.14074761]\n",
      " [0.91       0.09       0.85922543 0.14077457]\n",
      " [0.98       0.02       0.85924262 0.14075738]\n",
      " [0.89       0.11       0.85924275 0.14075725]\n",
      " [0.89       0.11       0.8592312  0.1407688 ]\n",
      " [0.24       0.76       0.38950623 0.61049377]\n",
      " [0.9        0.1        0.85920728 0.14079272]\n",
      " [0.94       0.06       0.87288492 0.12711508]\n",
      " [0.95       0.05       0.85913365 0.14086635]\n",
      " [0.97       0.03       0.8703967  0.1296033 ]\n",
      " [0.26       0.74       0.56914708 0.43085292]\n",
      " [0.93       0.07       0.85917971 0.14082029]\n",
      " [0.99       0.01       0.85922971 0.14077029]\n",
      " [0.95       0.05       0.87534998 0.12465002]\n",
      " [0.93       0.07       0.85929998 0.14070002]\n",
      " [0.95       0.05       0.85932173 0.14067827]\n",
      " [0.96       0.04       0.88002524 0.11997476]\n",
      " [0.87       0.13       0.85920661 0.14079339]\n",
      " [0.91       0.09       0.85923081 0.14076919]\n",
      " [0.91       0.09       0.85918168 0.14081832]\n",
      " [0.93       0.07       0.8591768  0.1408232 ]\n",
      " [0.92       0.08       0.85922167 0.14077833]\n",
      " [0.31       0.69       0.57402441 0.42597559]\n",
      " [0.92       0.08       0.8592314  0.1407686 ]\n",
      " [0.95       0.05       0.85923156 0.14076844]\n",
      " [0.99       0.01       0.85922816 0.14077184]\n",
      " [0.27       0.73       0.542046   0.457954  ]\n",
      " [0.96       0.04       0.859278   0.140722  ]\n",
      " [0.84       0.16       0.85926232 0.14073768]\n",
      " [0.32       0.68       0.43248856 0.56751144]\n",
      " [0.93       0.07       0.85919663 0.14080337]\n",
      " [0.89       0.11       0.85918951 0.14081049]\n",
      " [0.94       0.06       0.87655126 0.12344874]\n",
      " [0.98       0.02       0.85920422 0.14079578]\n",
      " [0.89       0.11       0.85924555 0.14075445]\n",
      " [0.95       0.05       0.85914796 0.14085204]\n",
      " [0.25       0.75       0.41552167 0.58447833]\n",
      " [0.95       0.05       0.85926682 0.14073318]\n",
      " [0.29       0.71       0.40242237 0.59757763]\n",
      " [0.92       0.08       0.85923175 0.14076825]\n",
      " [0.98       0.02       0.85922249 0.14077751]\n",
      " [0.41       0.59       0.656673   0.343327  ]\n",
      " [0.33       0.67       0.65606916 0.34393084]\n",
      " [0.94       0.06       0.85917437 0.14082563]\n",
      " [0.97       0.03       0.85942124 0.14057876]\n",
      " [0.94       0.06       0.85926539 0.14073461]\n",
      " [0.94       0.06       0.85930009 0.14069991]\n",
      " [0.88       0.12       0.84810329 0.15189671]\n",
      " [0.95       0.05       0.85922494 0.14077506]\n",
      " [0.24       0.76       0.49009412 0.50990588]\n",
      " [0.95       0.05       0.86311278 0.13688722]\n",
      " [0.21       0.79       0.39879964 0.60120036]\n",
      " [0.32       0.68       0.69386035 0.30613965]\n",
      " [0.95       0.05       0.87230732 0.12769268]\n",
      " [0.98       0.02       0.86981771 0.13018229]\n",
      " [0.97       0.03       0.87959014 0.12040986]\n",
      " [0.24       0.76       0.63403601 0.36596399]\n",
      " [0.94       0.06       0.85921432 0.14078568]\n",
      " [0.27       0.73       0.5        0.5       ]\n",
      " [0.93       0.07       0.85924986 0.14075014]\n",
      " [0.39       0.61       0.61339997 0.38660003]\n",
      " [0.95       0.05       0.85919498 0.14080502]\n",
      " [0.98       0.02       0.85914029 0.14085971]\n",
      " [0.94       0.06       0.85921932 0.14078068]\n",
      " [0.96       0.04       0.85921146 0.14078854]\n",
      " [0.97       0.03       0.85921784 0.14078216]\n",
      " [1.         0.         0.87184251 0.12815749]\n",
      " [0.84       0.16       0.85923044 0.14076956]\n",
      " [0.94       0.06       0.85932119 0.14067881]\n",
      " [0.94       0.06       0.8592307  0.1407693 ]\n",
      " [0.91       0.09       0.85924995 0.14075005]\n",
      " [0.96       0.04       0.85914421 0.14085579]\n",
      " [0.36       0.64       0.61147166 0.38852834]\n",
      " [0.96       0.04       0.85924955 0.14075045]\n",
      " [0.96       0.04       0.85923762 0.14076238]\n",
      " [0.89       0.11       0.85924268 0.14075732]\n",
      " [0.97       0.03       0.85938622 0.14061378]\n",
      " [0.94       0.06       0.85922302 0.14077698]\n",
      " [0.98       0.02       0.859143   0.140857  ]\n",
      " [0.96       0.04       0.8592189  0.1407811 ]\n",
      " [0.96       0.04       0.85922002 0.14077998]\n",
      " [0.95       0.05       0.85921563 0.14078437]\n",
      " [0.23       0.77       0.61070106 0.38929894]\n",
      " [0.92       0.08       0.85915997 0.14084003]\n",
      " [0.96       0.04       0.85923463 0.14076537]\n",
      " [0.95       0.05       0.85913522 0.14086478]\n",
      " [0.98       0.02       0.85921976 0.14078024]\n",
      " [0.92       0.08       0.85926981 0.14073019]]\n"
     ]
    }
   ],
   "source": [
    "# 2 modelin 0 ve 1 tahmin olasılıkları yan yana görülebilir burada\n",
    "print(eclf1.transform(X_val))"
   ]
  },
  {
   "cell_type": "code",
   "execution_count": 66,
   "id": "62584375",
   "metadata": {},
   "outputs": [
    {
     "name": "stdout",
     "output_type": "stream",
     "text": [
      "              precision    recall  f1-score   support\n",
      "\n",
      "           0       0.85      0.79      0.82       163\n",
      "           1       0.31      0.41      0.35        37\n",
      "\n",
      "    accuracy                           0.72       200\n",
      "   macro avg       0.58      0.60      0.59       200\n",
      "weighted avg       0.75      0.72      0.73       200\n",
      "\n"
     ]
    }
   ],
   "source": [
    "# tuningsiz rfc'yle denedim ve orada da yaklaşık aynı değer çıktı\n",
    "eclf2 = VotingClassifier(estimators=[\n",
    "        ('rfc', rfc), ('svc', svc_rbf)], voting='soft')\n",
    "eclf2 = eclf2.fit(X_train, y_train)\n",
    "\n",
    "preds = eclf2.predict(X_val)\n",
    "\n",
    "print(classification_report(y_val, preds))"
   ]
  },
  {
   "cell_type": "markdown",
   "id": "9a3da51a",
   "metadata": {},
   "source": [
    "## Sonuç"
   ]
  },
  {
   "cell_type": "markdown",
   "id": "5f3a2548",
   "metadata": {},
   "source": [
    "Validation setinde tek modeller arasında en başarılı dengeli sonucu **CatBoost** verdi, **0.77-0.81 recall** değerleri diğer modellere göre oldukça yüksek. Ondan sonraki en başarılı olan **Tuningli RandomForest** threshold değerleri değiştirildikten sonra **0.68-0.68 recall** değerlerini vermişti ancak CatBoost'la arasında önemli bir fark var. En yüksek 1 doğruluğuna bakarsak da **Tuningsiz RandomForest 0.89**'luk başarısıyla modellerim arasındaki en yüksek değeri elde etti, ancak 0 başarısının çok düşük olmasından dolayı modelin çoğu satıra 1 deme eğiliminde olduğu anlaşılabiliyor."
   ]
  },
  {
   "cell_type": "markdown",
   "id": "246cb94e",
   "metadata": {},
   "source": [
    "**RandomForest** ve **SupportVector** birleşmelerinden **VotingClassifier** yardımıyla elde ettiğim modeller ise tahminimin aksine başarısız sonuçlar verdi."
   ]
  },
  {
   "cell_type": "code",
   "execution_count": null,
   "id": "5d8c8417",
   "metadata": {},
   "outputs": [],
   "source": []
  }
 ],
 "metadata": {
  "kernelspec": {
   "display_name": "Python 3",
   "language": "python",
   "name": "python3"
  },
  "language_info": {
   "codemirror_mode": {
    "name": "ipython",
    "version": 3
   },
   "file_extension": ".py",
   "mimetype": "text/x-python",
   "name": "python",
   "nbconvert_exporter": "python",
   "pygments_lexer": "ipython3",
   "version": "3.8.8"
  }
 },
 "nbformat": 4,
 "nbformat_minor": 5
}
